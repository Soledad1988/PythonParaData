{
 "cells": [
  {
   "cell_type": "code",
   "execution_count": 1,
   "id": "a9635078-2077-4b5a-b176-2784c03caf46",
   "metadata": {},
   "outputs": [
    {
     "data": {
      "text/plain": [
       "bool"
      ]
     },
     "execution_count": 1,
     "metadata": {},
     "output_type": "execute_result"
    }
   ],
   "source": [
    "# Un boolenao solo puede tener dos valores posibles, Verdadero o Falso\n",
    "a = True\n",
    "type(a)"
   ]
  },
  {
   "cell_type": "code",
   "execution_count": 3,
   "id": "e79765c9-f72f-4536-abd8-486ff054a0c0",
   "metadata": {},
   "outputs": [
    {
     "data": {
      "text/plain": [
       "bool"
      ]
     },
     "execution_count": 3,
     "metadata": {},
     "output_type": "execute_result"
    }
   ],
   "source": [
    "b = False\n",
    "type(b)"
   ]
  },
  {
   "cell_type": "code",
   "execution_count": 5,
   "id": "fe3292dc-0bea-4cdd-b4b2-66887b1c3edb",
   "metadata": {},
   "outputs": [
    {
     "data": {
      "text/plain": [
       "False"
      ]
     },
     "execution_count": 5,
     "metadata": {},
     "output_type": "execute_result"
    }
   ],
   "source": [
    "x = 2\n",
    "y = 5\n",
    "x == 5"
   ]
  },
  {
   "cell_type": "code",
   "execution_count": 7,
   "id": "3f3303c0-1791-41c7-9858-ccfeadc83c18",
   "metadata": {},
   "outputs": [
    {
     "data": {
      "text/plain": [
       "False"
      ]
     },
     "execution_count": 7,
     "metadata": {},
     "output_type": "execute_result"
    }
   ],
   "source": [
    "comparar = x == 5\n",
    "comparar"
   ]
  },
  {
   "cell_type": "code",
   "execution_count": 9,
   "id": "b28fa0ea-13cf-4eba-9223-d22768edb74a",
   "metadata": {},
   "outputs": [
    {
     "data": {
      "text/plain": [
       "bool"
      ]
     },
     "execution_count": 9,
     "metadata": {},
     "output_type": "execute_result"
    }
   ],
   "source": [
    "type(comparar)"
   ]
  },
  {
   "cell_type": "code",
   "execution_count": 11,
   "id": "f5f7e146-33e5-4db0-a49e-20db44e533b9",
   "metadata": {},
   "outputs": [
    {
     "data": {
      "text/plain": [
       "True"
      ]
     },
     "execution_count": 11,
     "metadata": {},
     "output_type": "execute_result"
    }
   ],
   "source": [
    "comparar = x < y\n",
    "comparar"
   ]
  },
  {
   "cell_type": "code",
   "execution_count": 13,
   "id": "95211ac8-46be-4c4b-bec1-a08eb98f5997",
   "metadata": {},
   "outputs": [],
   "source": [
    "# Operadores boolenaos. AND OR NOT\n",
    "z = 8"
   ]
  },
  {
   "cell_type": "code",
   "execution_count": 21,
   "id": "c91f332d-3c22-4ce7-ae6f-a68d7e1b137f",
   "metadata": {},
   "outputs": [
    {
     "data": {
      "text/plain": [
       "True"
      ]
     },
     "execution_count": 21,
     "metadata": {},
     "output_type": "execute_result"
    }
   ],
   "source": [
    "# AND nos permite hacer mas de una comparacion\n",
    "comparar = x < y and y < z\n",
    "comparar"
   ]
  },
  {
   "cell_type": "code",
   "execution_count": 19,
   "id": "c08c9ca0-0347-474b-8b1f-93159fc34821",
   "metadata": {},
   "outputs": [
    {
     "data": {
      "text/plain": [
       "False"
      ]
     },
     "execution_count": 19,
     "metadata": {},
     "output_type": "execute_result"
    }
   ],
   "source": [
    "comparar = x < y and y > z\n",
    "comparar"
   ]
  },
  {
   "cell_type": "code",
   "execution_count": 25,
   "id": "b7dc54cf-6e46-43a2-a650-82df746c041b",
   "metadata": {},
   "outputs": [
    {
     "data": {
      "text/plain": [
       "True"
      ]
     },
     "execution_count": 25,
     "metadata": {},
     "output_type": "execute_result"
    }
   ],
   "source": [
    "# OR si una de ellas es verdades dra True\n",
    "comparar = x < y or y > z\n",
    "comparar"
   ]
  },
  {
   "cell_type": "code",
   "execution_count": 29,
   "id": "9ea2eb60-a0d9-449e-a5a5-2a33cca63de2",
   "metadata": {},
   "outputs": [
    {
     "data": {
      "text/plain": [
       "False"
      ]
     },
     "execution_count": 29,
     "metadata": {},
     "output_type": "execute_result"
    }
   ],
   "source": [
    "# NOT, comparar no es verdadera?\n",
    "otra = not comparar\n",
    "otra"
   ]
  },
  {
   "cell_type": "code",
   "execution_count": 31,
   "id": "47560eda-f503-46eb-906f-0cb8f1ee9b1f",
   "metadata": {},
   "outputs": [
    {
     "data": {
      "text/plain": [
       "False"
      ]
     },
     "execution_count": 31,
     "metadata": {},
     "output_type": "execute_result"
    }
   ],
   "source": [
    "otra2 = not 1 == 1\n",
    "otra2"
   ]
  },
  {
   "cell_type": "code",
   "execution_count": null,
   "id": "3a2b6905-19a3-4be7-adbd-20cb14ee5b31",
   "metadata": {},
   "outputs": [],
   "source": []
  }
 ],
 "metadata": {
  "kernelspec": {
   "display_name": "Python 3 (ipykernel)",
   "language": "python",
   "name": "python3"
  },
  "language_info": {
   "codemirror_mode": {
    "name": "ipython",
    "version": 3
   },
   "file_extension": ".py",
   "mimetype": "text/x-python",
   "name": "python",
   "nbconvert_exporter": "python",
   "pygments_lexer": "ipython3",
   "version": "3.12.7"
  }
 },
 "nbformat": 4,
 "nbformat_minor": 5
}
