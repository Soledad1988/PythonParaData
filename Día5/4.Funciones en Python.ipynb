{
 "cells": [
  {
   "cell_type": "code",
   "execution_count": null,
   "id": "3967d782-3717-4700-b780-0fc113c9e035",
   "metadata": {},
   "outputs": [],
   "source": [
    "#Algunas funciones\n",
    "range()\n",
    "type()\n",
    "len()"
   ]
  },
  {
   "cell_type": "code",
   "execution_count": null,
   "id": "e584b217-e2b3-42f8-b06d-e9401169922e",
   "metadata": {},
   "outputs": [],
   "source": [
    "#Métodos\n",
    "\"Hola\".upper()\n",
    "[1, 2, 3].sort()\n",
    "(1, 2, 3).count()"
   ]
  },
  {
   "cell_type": "code",
   "execution_count": 31,
   "id": "33ea513c-feaa-4405-8104-fe1a2c20d93f",
   "metadata": {},
   "outputs": [],
   "source": [
    "# Crear nuestra propias funciones\n",
    "def saludo():\n",
    "    print(\"Hola mundo\")"
   ]
  },
  {
   "cell_type": "code",
   "execution_count": 6,
   "id": "16dc6d0a-ada2-4283-9aa6-f720bd240148",
   "metadata": {
    "scrolled": true
   },
   "outputs": [
    {
     "name": "stdout",
     "output_type": "stream",
     "text": [
      "Hola mundo\n"
     ]
    }
   ],
   "source": [
    "saludo()"
   ]
  },
  {
   "cell_type": "code",
   "execution_count": 8,
   "id": "0f512888-1554-4e37-ad34-8a352dc65781",
   "metadata": {},
   "outputs": [],
   "source": [
    "def tu_saludo(nombre):\n",
    "    print(f\"Hola {nombre}\")"
   ]
  },
  {
   "cell_type": "code",
   "execution_count": 10,
   "id": "c9d6c7f0-4fab-43e3-8a03-6cc411b15291",
   "metadata": {},
   "outputs": [
    {
     "name": "stdout",
     "output_type": "stream",
     "text": [
      "Hola federico\n"
     ]
    }
   ],
   "source": [
    "tu_saludo(\"federico\")"
   ]
  },
  {
   "cell_type": "code",
   "execution_count": 12,
   "id": "784bcade-16be-4233-9c15-13b989bec1e3",
   "metadata": {},
   "outputs": [
    {
     "name": "stdout",
     "output_type": "stream",
     "text": [
      "Hola Juana\n"
     ]
    }
   ],
   "source": [
    "tu_saludo(\"Juana\")"
   ]
  },
  {
   "cell_type": "code",
   "execution_count": 14,
   "id": "76e47138-48d7-4f96-8501-fe5f7789237f",
   "metadata": {},
   "outputs": [],
   "source": [
    "def sumar(a, b):\n",
    "    resultado = a + b\n",
    "    return resultado"
   ]
  },
  {
   "cell_type": "code",
   "execution_count": 16,
   "id": "5f6c8307-4fd1-4aca-9687-7479a9ab94cb",
   "metadata": {},
   "outputs": [
    {
     "data": {
      "text/plain": [
       "5"
      ]
     },
     "execution_count": 16,
     "metadata": {},
     "output_type": "execute_result"
    }
   ],
   "source": [
    "sumar(2, 3)"
   ]
  },
  {
   "cell_type": "code",
   "execution_count": 18,
   "id": "f6d9a494-113a-4f10-91ef-eaa9c914f9e0",
   "metadata": {},
   "outputs": [],
   "source": [
    "numero = sumar(2, 3)"
   ]
  },
  {
   "cell_type": "code",
   "execution_count": 20,
   "id": "3fd78325-4697-4484-be40-eb9c6e2234b8",
   "metadata": {},
   "outputs": [
    {
     "data": {
      "text/plain": [
       "5"
      ]
     },
     "execution_count": 20,
     "metadata": {},
     "output_type": "execute_result"
    }
   ],
   "source": [
    "numero"
   ]
  },
  {
   "cell_type": "code",
   "execution_count": 22,
   "id": "22ed3bf3-2953-4c97-bd7c-69ac0eaa98db",
   "metadata": {},
   "outputs": [
    {
     "data": {
      "text/plain": [
       "10"
      ]
     },
     "execution_count": 22,
     "metadata": {},
     "output_type": "execute_result"
    }
   ],
   "source": [
    "numero * 2"
   ]
  },
  {
   "cell_type": "code",
   "execution_count": 24,
   "id": "68dffd1a-2e93-4021-bac8-e8294144698d",
   "metadata": {},
   "outputs": [],
   "source": [
    "def imprimir_pares_hasta(n):\n",
    "    for numero in range(1, n + 1):\n",
    "        if numero % 2 == 0:\n",
    "            print(numero)"
   ]
  },
  {
   "cell_type": "code",
   "execution_count": 26,
   "id": "dac161c2-e4d7-4e6a-8e43-db971bb0bb7e",
   "metadata": {},
   "outputs": [
    {
     "name": "stdout",
     "output_type": "stream",
     "text": [
      "2\n",
      "4\n",
      "6\n"
     ]
    }
   ],
   "source": [
    "imprimir_pares_hasta(6)"
   ]
  },
  {
   "cell_type": "code",
   "execution_count": null,
   "id": "9cfac687-ff6d-4b8f-bc5f-fb453888e2f1",
   "metadata": {},
   "outputs": [],
   "source": []
  }
 ],
 "metadata": {
  "kernelspec": {
   "display_name": "Python 3 (ipykernel)",
   "language": "python",
   "name": "python3"
  },
  "language_info": {
   "codemirror_mode": {
    "name": "ipython",
    "version": 3
   },
   "file_extension": ".py",
   "mimetype": "text/x-python",
   "name": "python",
   "nbconvert_exporter": "python",
   "pygments_lexer": "ipython3",
   "version": "3.12.7"
  }
 },
 "nbformat": 4,
 "nbformat_minor": 5
}
