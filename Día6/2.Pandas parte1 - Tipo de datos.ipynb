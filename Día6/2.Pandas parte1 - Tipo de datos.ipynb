{
 "cells": [
  {
   "cell_type": "code",
   "execution_count": 2,
   "id": "ff168e97-f731-4fb5-b895-cd338e91b274",
   "metadata": {},
   "outputs": [],
   "source": [
    "# Tipo de datos en Pandas>\n",
    "# Series\n",
    "# DataFrames\n",
    "import pandas as pd"
   ]
  },
  {
   "cell_type": "code",
   "execution_count": 4,
   "id": "74795f52-aac1-4a4f-8660-ef3074ec41a7",
   "metadata": {},
   "outputs": [
    {
     "data": {
      "text/plain": [
       "{'nombre': ['Pedro', 'Juan', 'Lorena'], 'edad': [25, 39, 33]}"
      ]
     },
     "execution_count": 4,
     "metadata": {},
     "output_type": "execute_result"
    }
   ],
   "source": [
    "datos = {\"nombre\": [\"Pedro\", \"Juan\", \"Lorena\"], \"edad\": [25, 39, 33]}\n",
    "datos"
   ]
  },
  {
   "cell_type": "code",
   "execution_count": 10,
   "id": "0cdb9f32-bee7-4212-a192-11f43ee2135a",
   "metadata": {},
   "outputs": [
    {
     "data": {
      "text/html": [
       "<div>\n",
       "<style scoped>\n",
       "    .dataframe tbody tr th:only-of-type {\n",
       "        vertical-align: middle;\n",
       "    }\n",
       "\n",
       "    .dataframe tbody tr th {\n",
       "        vertical-align: top;\n",
       "    }\n",
       "\n",
       "    .dataframe thead th {\n",
       "        text-align: right;\n",
       "    }\n",
       "</style>\n",
       "<table border=\"1\" class=\"dataframe\">\n",
       "  <thead>\n",
       "    <tr style=\"text-align: right;\">\n",
       "      <th></th>\n",
       "      <th>nombre</th>\n",
       "      <th>edad</th>\n",
       "    </tr>\n",
       "  </thead>\n",
       "  <tbody>\n",
       "    <tr>\n",
       "      <th>0</th>\n",
       "      <td>Pedro</td>\n",
       "      <td>25</td>\n",
       "    </tr>\n",
       "    <tr>\n",
       "      <th>1</th>\n",
       "      <td>Juan</td>\n",
       "      <td>39</td>\n",
       "    </tr>\n",
       "    <tr>\n",
       "      <th>2</th>\n",
       "      <td>Lorena</td>\n",
       "      <td>33</td>\n",
       "    </tr>\n",
       "  </tbody>\n",
       "</table>\n",
       "</div>"
      ],
      "text/plain": [
       "   nombre  edad\n",
       "0   Pedro    25\n",
       "1    Juan    39\n",
       "2  Lorena    33"
      ]
     },
     "execution_count": 10,
     "metadata": {},
     "output_type": "execute_result"
    }
   ],
   "source": [
    "# Método DataFrame que sirve para transformar conjunto de datos en un dataframe de pandas\n",
    "# Las series son las columnas de lo dataFrames\n",
    "df = pd.DataFrame(datos)\n",
    "df"
   ]
  },
  {
   "cell_type": "code",
   "execution_count": 12,
   "id": "0eae4cab-15cf-44ad-a713-74cf60e83cd7",
   "metadata": {},
   "outputs": [
    {
     "data": {
      "text/plain": [
       "pandas.core.frame.DataFrame"
      ]
     },
     "execution_count": 12,
     "metadata": {},
     "output_type": "execute_result"
    }
   ],
   "source": [
    "type(df)"
   ]
  },
  {
   "cell_type": "code",
   "execution_count": null,
   "id": "1e6bc80b-c66a-42fa-8331-9c8671b1e58f",
   "metadata": {},
   "outputs": [],
   "source": [
    "\n",
    "df[\"nombre\"]"
   ]
  },
  {
   "cell_type": "code",
   "execution_count": null,
   "id": "80cdaccf-3071-4d38-8751-fa08a073d5a2",
   "metadata": {},
   "outputs": [],
   "source": [
    "df.nombre"
   ]
  },
  {
   "cell_type": "code",
   "execution_count": null,
   "id": "b1772f70-01d5-4de7-9c8e-2273bb45be29",
   "metadata": {},
   "outputs": [],
   "source": [
    "type(df.nombre)"
   ]
  }
 ],
 "metadata": {
  "kernelspec": {
   "display_name": "Python 3 (ipykernel)",
   "language": "python",
   "name": "python3"
  },
  "language_info": {
   "codemirror_mode": {
    "name": "ipython",
    "version": 3
   },
   "file_extension": ".py",
   "mimetype": "text/x-python",
   "name": "python",
   "nbconvert_exporter": "python",
   "pygments_lexer": "ipython3",
   "version": "3.12.7"
  }
 },
 "nbformat": 4,
 "nbformat_minor": 5
}
