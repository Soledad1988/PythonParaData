{
 "cells": [
  {
   "cell_type": "code",
   "execution_count": 1,
   "id": "65178ffe-d69b-496a-8088-44cde43fa470",
   "metadata": {},
   "outputs": [],
   "source": [
    "# Las tuplas son una colección de objetos, es una coleccion de elementos ordenados y no modificables\n",
    "# muy similares a una lista pero la diferencia fundamental es que una vez creada no se pueden modificar sus elementos ni su tamaño\n",
    "# Son colecciones inmutables"
   ]
  },
  {
   "cell_type": "code",
   "execution_count": 3,
   "id": "dcd5060a-eb14-43b8-abaf-931d7c38aeda",
   "metadata": {},
   "outputs": [
    {
     "data": {
      "text/plain": [
       "tuple"
      ]
     },
     "execution_count": 3,
     "metadata": {},
     "output_type": "execute_result"
    }
   ],
   "source": [
    "# Se pueden declarar de dos maneras:\n",
    "t = 1,2\n",
    "type(t)"
   ]
  },
  {
   "cell_type": "code",
   "execution_count": 5,
   "id": "bd2edb7e-64c0-41a8-9122-82577d64af6d",
   "metadata": {},
   "outputs": [
    {
     "data": {
      "text/plain": [
       "tuple"
      ]
     },
     "execution_count": 5,
     "metadata": {},
     "output_type": "execute_result"
    }
   ],
   "source": [
    "# Otra maneras:\n",
    "tt = (1,2)\n",
    "type(tt)"
   ]
  },
  {
   "cell_type": "code",
   "execution_count": 9,
   "id": "b9a59d49-0563-4d8c-be5a-3b09532f268f",
   "metadata": {},
   "outputs": [
    {
     "data": {
      "text/plain": [
       "tuple"
      ]
     },
     "execution_count": 9,
     "metadata": {},
     "output_type": "execute_result"
    }
   ],
   "source": [
    "# Su principal uso es agrupar informacion diversa sobre un mismo objeto\n",
    "# Tupla mixta:\n",
    "tm = (\"Marce\", \"Perez\",50)\n",
    "type(tm)"
   ]
  },
  {
   "cell_type": "code",
   "execution_count": 11,
   "id": "95a06bd3-a29d-43ae-ad6b-e2b2ba2a1276",
   "metadata": {},
   "outputs": [],
   "source": [
    "miTupla = (1,2,3,2,2,4)"
   ]
  },
  {
   "cell_type": "code",
   "execution_count": 14,
   "id": "c29a3fa0-ab1c-4bb8-b431-6e30459295f1",
   "metadata": {},
   "outputs": [
    {
     "data": {
      "text/plain": [
       "3"
      ]
     },
     "execution_count": 14,
     "metadata": {},
     "output_type": "execute_result"
    }
   ],
   "source": [
    "elemento = miTupla[2]\n",
    "elemento"
   ]
  },
  {
   "cell_type": "code",
   "execution_count": 16,
   "id": "3bc32af2-0c0b-4c70-8118-d326a60a2da4",
   "metadata": {},
   "outputs": [],
   "source": [
    "sub_tupla = miTupla[1:3]"
   ]
  },
  {
   "cell_type": "code",
   "execution_count": 18,
   "id": "88ca27f9-910a-44ef-9cb6-21cb57dc8187",
   "metadata": {},
   "outputs": [
    {
     "data": {
      "text/plain": [
       "(2, 3)"
      ]
     },
     "execution_count": 18,
     "metadata": {},
     "output_type": "execute_result"
    }
   ],
   "source": [
    "sub_tupla"
   ]
  },
  {
   "cell_type": "code",
   "execution_count": 20,
   "id": "96ce04ee-94dc-4bec-9183-9a6c723e7a61",
   "metadata": {},
   "outputs": [
    {
     "ename": "TypeError",
     "evalue": "'tuple' object does not support item assignment",
     "output_type": "error",
     "traceback": [
      "\u001b[1;31m---------------------------------------------------------------------------\u001b[0m",
      "\u001b[1;31mTypeError\u001b[0m                                 Traceback (most recent call last)",
      "Cell \u001b[1;32mIn[20], line 2\u001b[0m\n\u001b[0;32m      1\u001b[0m \u001b[38;5;66;03m# Las tuplas no se pueden modificar\u001b[39;00m\n\u001b[1;32m----> 2\u001b[0m miTupla[\u001b[38;5;241m1\u001b[39m] \u001b[38;5;241m=\u001b[39m \u001b[38;5;241m8\u001b[39m\n",
      "\u001b[1;31mTypeError\u001b[0m: 'tuple' object does not support item assignment"
     ]
    }
   ],
   "source": [
    "# Las tuplas no se pueden modificar\n",
    "miTupla[1] = 8"
   ]
  },
  {
   "cell_type": "code",
   "execution_count": 22,
   "id": "12c7c19c-f226-4d56-a145-fe39092feaa7",
   "metadata": {},
   "outputs": [
    {
     "data": {
      "text/plain": [
       "['__add__',\n",
       " '__class__',\n",
       " '__class_getitem__',\n",
       " '__contains__',\n",
       " '__delattr__',\n",
       " '__dir__',\n",
       " '__doc__',\n",
       " '__eq__',\n",
       " '__format__',\n",
       " '__ge__',\n",
       " '__getattribute__',\n",
       " '__getitem__',\n",
       " '__getnewargs__',\n",
       " '__getstate__',\n",
       " '__gt__',\n",
       " '__hash__',\n",
       " '__init__',\n",
       " '__init_subclass__',\n",
       " '__iter__',\n",
       " '__le__',\n",
       " '__len__',\n",
       " '__lt__',\n",
       " '__mul__',\n",
       " '__ne__',\n",
       " '__new__',\n",
       " '__reduce__',\n",
       " '__reduce_ex__',\n",
       " '__repr__',\n",
       " '__rmul__',\n",
       " '__setattr__',\n",
       " '__sizeof__',\n",
       " '__str__',\n",
       " '__subclasshook__',\n",
       " 'count',\n",
       " 'index']"
      ]
     },
     "execution_count": 22,
     "metadata": {},
     "output_type": "execute_result"
    }
   ],
   "source": [
    "dir(miTupla)"
   ]
  },
  {
   "cell_type": "code",
   "execution_count": 24,
   "id": "e2e41ae1-c10c-40bd-9616-0526a0913348",
   "metadata": {},
   "outputs": [
    {
     "data": {
      "text/plain": [
       "3"
      ]
     },
     "execution_count": 24,
     "metadata": {},
     "output_type": "execute_result"
    }
   ],
   "source": [
    "miTupla.count(2)"
   ]
  },
  {
   "cell_type": "code",
   "execution_count": 28,
   "id": "12666584-b7da-4f5b-a10c-27af48a2bf30",
   "metadata": {},
   "outputs": [
    {
     "data": {
      "text/plain": [
       "2"
      ]
     },
     "execution_count": 28,
     "metadata": {},
     "output_type": "execute_result"
    }
   ],
   "source": [
    "miTupla.index(3)"
   ]
  },
  {
   "cell_type": "code",
   "execution_count": 30,
   "id": "a5ce9969-1c38-4479-9153-04089cf297d0",
   "metadata": {},
   "outputs": [
    {
     "data": {
      "text/plain": [
       "3"
      ]
     },
     "execution_count": 30,
     "metadata": {},
     "output_type": "execute_result"
    }
   ],
   "source": [
    "# Desempaquetamiento\n",
    "tupla = (1,2,3)\n",
    "a,b,c = tupla\n",
    "c"
   ]
  },
  {
   "cell_type": "code",
   "execution_count": 34,
   "id": "65399b5b-2346-4088-be90-f1cc8f625d07",
   "metadata": {},
   "outputs": [],
   "source": [
    "nacimiento = (1985,12,10)"
   ]
  },
  {
   "cell_type": "code",
   "execution_count": 36,
   "id": "f4290039-dc3e-4e15-a610-998a2c1f24a1",
   "metadata": {},
   "outputs": [],
   "source": [
    "nombre = (\"Juan\",\"Perez\")\n",
    "cliente1 = (nombre, nacimiento) "
   ]
  },
  {
   "cell_type": "code",
   "execution_count": 38,
   "id": "350ae602-dbe2-4f69-b92c-1bfbe0c083f3",
   "metadata": {},
   "outputs": [
    {
     "data": {
      "text/plain": [
       "(('Juan', 'Perez'), (1985, 12, 10))"
      ]
     },
     "execution_count": 38,
     "metadata": {},
     "output_type": "execute_result"
    }
   ],
   "source": [
    "cliente1"
   ]
  },
  {
   "cell_type": "code",
   "execution_count": 40,
   "id": "efe6a493-0805-4071-a5e6-ca37100a8c86",
   "metadata": {},
   "outputs": [
    {
     "data": {
      "text/plain": [
       "tuple"
      ]
     },
     "execution_count": 40,
     "metadata": {},
     "output_type": "execute_result"
    }
   ],
   "source": [
    "type(cliente1)"
   ]
  },
  {
   "cell_type": "code",
   "execution_count": 42,
   "id": "dc494e1e-c4b9-46e1-a17e-0151df6c1e90",
   "metadata": {},
   "outputs": [
    {
     "data": {
      "text/plain": [
       "'Perez'"
      ]
     },
     "execution_count": 42,
     "metadata": {},
     "output_type": "execute_result"
    }
   ],
   "source": [
    "cliente1[0][1]"
   ]
  },
  {
   "cell_type": "code",
   "execution_count": 44,
   "id": "58a6e710-02af-4d22-aaa7-2a5e6fd7c600",
   "metadata": {},
   "outputs": [
    {
     "data": {
      "text/plain": [
       "('Ford', 'Fiesta', 'Rojo', 2021, 5, 1.6)"
      ]
     },
     "execution_count": 44,
     "metadata": {},
     "output_type": "execute_result"
    }
   ],
   "source": [
    "auto = (\"Ford\", \"Fiesta\",\"Rojo\",2021, 5, 1.6)\n",
    "auto"
   ]
  },
  {
   "cell_type": "code",
   "execution_count": null,
   "id": "66e969f7-0c20-4336-9f6f-f0e192c27f8b",
   "metadata": {},
   "outputs": [],
   "source": [
    "#Tupla de Variables\n",
    "(Marca, Tipo, Color, Modelo, Puertas, Motor) = auto\n",
    "auto"
   ]
  }
 ],
 "metadata": {
  "kernelspec": {
   "display_name": "Python 3 (ipykernel)",
   "language": "python",
   "name": "python3"
  },
  "language_info": {
   "codemirror_mode": {
    "name": "ipython",
    "version": 3
   },
   "file_extension": ".py",
   "mimetype": "text/x-python",
   "name": "python",
   "nbconvert_exporter": "python",
   "pygments_lexer": "ipython3",
   "version": "3.12.7"
  }
 },
 "nbformat": 4,
 "nbformat_minor": 5
}
