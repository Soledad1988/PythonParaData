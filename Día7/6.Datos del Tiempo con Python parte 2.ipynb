{
 "cells": [
  {
   "cell_type": "code",
   "execution_count": 1,
   "id": "bc77d1c8-611e-4b9d-a781-55722cd7f3d4",
   "metadata": {},
   "outputs": [],
   "source": [
    "import pandas as pd"
   ]
  },
  {
   "cell_type": "code",
   "execution_count": 3,
   "id": "f48ec5db-11e6-41f7-8e76-54c23e39c853",
   "metadata": {},
   "outputs": [
    {
     "data": {
      "text/plain": [
       "0   2024-01-01\n",
       "1   2024-01-02\n",
       "2   2024-01-03\n",
       "3   2024-01-04\n",
       "4   2024-01-05\n",
       "5   2024-01-06\n",
       "dtype: datetime64[ns]"
      ]
     },
     "execution_count": 3,
     "metadata": {},
     "output_type": "execute_result"
    }
   ],
   "source": [
    "fechas = pd.Series(pd.date_range('20240101', periods=6))\n",
    "fechas"
   ]
  },
  {
   "cell_type": "code",
   "execution_count": 5,
   "id": "e6b740a1-5848-4bb8-a5a9-3f9d09f438ad",
   "metadata": {},
   "outputs": [
    {
     "data": {
      "text/plain": [
       "pandas._libs.tslibs.timestamps.Timestamp"
      ]
     },
     "execution_count": 5,
     "metadata": {},
     "output_type": "execute_result"
    }
   ],
   "source": [
    "type(fechas[0])"
   ]
  },
  {
   "cell_type": "code",
   "execution_count": 7,
   "id": "f4182d01-a919-4ed3-8af3-2a8eb4e8a182",
   "metadata": {},
   "outputs": [
    {
     "data": {
      "text/plain": [
       "0   2024-01-01\n",
       "1   2024-01-02\n",
       "2   2024-01-03\n",
       "3   2024-01-04\n",
       "4   2024-01-05\n",
       "5   2024-01-06\n",
       "dtype: datetime64[ns]"
      ]
     },
     "execution_count": 7,
     "metadata": {},
     "output_type": "execute_result"
    }
   ],
   "source": [
    "fechas = pd.Series(pd.date_range('20240101', periods=6, freq='D'))\n",
    "fechas"
   ]
  },
  {
   "cell_type": "code",
   "execution_count": 11,
   "id": "d1c6974e-7331-4a87-ab6a-ede9184b3701",
   "metadata": {},
   "outputs": [
    {
     "data": {
      "text/plain": [
       "0   2024-01-01\n",
       "1   2024-01-02\n",
       "2   2024-01-03\n",
       "3   2024-01-04\n",
       "4   2024-01-05\n",
       "5   2024-01-06\n",
       "dtype: datetime64[ns]"
      ]
     },
     "execution_count": 11,
     "metadata": {},
     "output_type": "execute_result"
    }
   ],
   "source": [
    "fechas = pd.Series(pd.date_range('20240101', periods=6, freq='D'))\n",
    "fechas"
   ]
  },
  {
   "cell_type": "code",
   "execution_count": 27,
   "id": "2ac217f6-69ae-4d97-bd90-afd30956ebc6",
   "metadata": {},
   "outputs": [
    {
     "data": {
      "text/plain": [
       "0   2024-01-31\n",
       "1   2024-02-29\n",
       "2   2024-03-31\n",
       "3   2024-04-30\n",
       "4   2024-05-31\n",
       "5   2024-06-30\n",
       "dtype: datetime64[ns]"
      ]
     },
     "execution_count": 27,
     "metadata": {},
     "output_type": "execute_result"
    }
   ],
   "source": [
    "fechas = pd.Series(pd.date_range('20240101', periods=6, freq='ME'))\n",
    "fechas"
   ]
  },
  {
   "cell_type": "code",
   "execution_count": 17,
   "id": "8b47b49a-61ea-413e-bf05-19883ae4d4dd",
   "metadata": {},
   "outputs": [
    {
     "data": {
      "text/plain": [
       "0   2024-12-31\n",
       "1   2025-12-31\n",
       "2   2026-12-31\n",
       "3   2027-12-31\n",
       "4   2028-12-31\n",
       "5   2029-12-31\n",
       "dtype: datetime64[ns]"
      ]
     },
     "execution_count": 17,
     "metadata": {},
     "output_type": "execute_result"
    }
   ],
   "source": [
    "fechas = pd.Series(pd.date_range('20240101', periods=6, freq='YE'))\n",
    "fechas"
   ]
  },
  {
   "cell_type": "code",
   "execution_count": 25,
   "id": "6ec1bee0-1744-4f55-b650-333f05ed11cd",
   "metadata": {},
   "outputs": [
    {
     "data": {
      "text/plain": [
       "0   2024-01-01 00:00:00\n",
       "1   2024-01-01 01:00:00\n",
       "2   2024-01-01 02:00:00\n",
       "3   2024-01-01 03:00:00\n",
       "4   2024-01-01 04:00:00\n",
       "5   2024-01-01 05:00:00\n",
       "dtype: datetime64[ns]"
      ]
     },
     "execution_count": 25,
     "metadata": {},
     "output_type": "execute_result"
    }
   ],
   "source": [
    "fechas = pd.Series(pd.date_range('20240101', periods=6, freq='h'))\n",
    "fechas"
   ]
  },
  {
   "cell_type": "code",
   "execution_count": 21,
   "id": "e2ec2bdb-1f75-42aa-b157-3bde25507778",
   "metadata": {},
   "outputs": [
    {
     "data": {
      "text/plain": [
       "0   2024-01-01 00:00:00\n",
       "1   2024-01-01 00:01:00\n",
       "2   2024-01-01 00:02:00\n",
       "3   2024-01-01 00:03:00\n",
       "4   2024-01-01 00:04:00\n",
       "5   2024-01-01 00:05:00\n",
       "dtype: datetime64[ns]"
      ]
     },
     "execution_count": 21,
     "metadata": {},
     "output_type": "execute_result"
    }
   ],
   "source": [
    "fechas = pd.Series(pd.date_range('20240101', periods=6, freq='min'))\n",
    "fechas"
   ]
  },
  {
   "cell_type": "code",
   "execution_count": 33,
   "id": "c15bf906-16c9-4fb4-a1e1-95e646181054",
   "metadata": {},
   "outputs": [
    {
     "data": {
      "text/plain": [
       "0   2024-01-01 00:00:00\n",
       "1   2024-01-01 00:00:01\n",
       "2   2024-01-01 00:00:02\n",
       "3   2024-01-01 00:00:03\n",
       "4   2024-01-01 00:00:04\n",
       "5   2024-01-01 00:00:05\n",
       "dtype: datetime64[ns]"
      ]
     },
     "execution_count": 33,
     "metadata": {},
     "output_type": "execute_result"
    }
   ],
   "source": [
    "fechas = pd.Series(pd.date_range('20240101', periods=6, freq='s'))\n",
    "fechas"
   ]
  },
  {
   "cell_type": "code",
   "execution_count": 35,
   "id": "7cb63bfc-3338-4b4c-936c-5f529fad7ca6",
   "metadata": {},
   "outputs": [
    {
     "data": {
      "text/plain": [
       "0   2024-01-01\n",
       "1   2024-01-06\n",
       "2   2024-01-11\n",
       "3   2024-01-16\n",
       "4   2024-01-21\n",
       "5   2024-01-26\n",
       "dtype: datetime64[ns]"
      ]
     },
     "execution_count": 35,
     "metadata": {},
     "output_type": "execute_result"
    }
   ],
   "source": [
    "fechas = pd.Series(pd.date_range('20240101', periods=6, freq='5D'))\n",
    "fechas"
   ]
  },
  {
   "cell_type": "code",
   "execution_count": 37,
   "id": "cbec074a-c36a-4fdf-be68-91b0f59747b4",
   "metadata": {},
   "outputs": [
    {
     "data": {
      "text/html": [
       "<div>\n",
       "<style scoped>\n",
       "    .dataframe tbody tr th:only-of-type {\n",
       "        vertical-align: middle;\n",
       "    }\n",
       "\n",
       "    .dataframe tbody tr th {\n",
       "        vertical-align: top;\n",
       "    }\n",
       "\n",
       "    .dataframe thead th {\n",
       "        text-align: right;\n",
       "    }\n",
       "</style>\n",
       "<table border=\"1\" class=\"dataframe\">\n",
       "  <thead>\n",
       "    <tr style=\"text-align: right;\">\n",
       "      <th></th>\n",
       "      <th>Ticker</th>\n",
       "      <th>Fecha</th>\n",
       "      <th>Cierre</th>\n",
       "      <th>Referencia</th>\n",
       "      <th>Volumen</th>\n",
       "      <th>Rotacion</th>\n",
       "      <th>Ultimo</th>\n",
       "      <th>Alto</th>\n",
       "      <th>Bajo</th>\n",
       "      <th>Promedio</th>\n",
       "    </tr>\n",
       "  </thead>\n",
       "  <tbody>\n",
       "    <tr>\n",
       "      <th>0</th>\n",
       "      <td>ANA</td>\n",
       "      <td>02/01/2019</td>\n",
       "      <td>74.80</td>\n",
       "      <td>73.90</td>\n",
       "      <td>156300</td>\n",
       "      <td>11621188.98</td>\n",
       "      <td>74.80</td>\n",
       "      <td>75.16</td>\n",
       "      <td>72.38</td>\n",
       "      <td>74.3518</td>\n",
       "    </tr>\n",
       "    <tr>\n",
       "      <th>1</th>\n",
       "      <td>ANA</td>\n",
       "      <td>03/01/2019</td>\n",
       "      <td>76.34</td>\n",
       "      <td>74.80</td>\n",
       "      <td>140331</td>\n",
       "      <td>10632703.64</td>\n",
       "      <td>76.34</td>\n",
       "      <td>76.60</td>\n",
       "      <td>74.54</td>\n",
       "      <td>75.7687</td>\n",
       "    </tr>\n",
       "    <tr>\n",
       "      <th>2</th>\n",
       "      <td>ANA</td>\n",
       "      <td>04/01/2019</td>\n",
       "      <td>76.62</td>\n",
       "      <td>76.34</td>\n",
       "      <td>130309</td>\n",
       "      <td>10010838.76</td>\n",
       "      <td>76.62</td>\n",
       "      <td>77.40</td>\n",
       "      <td>76.40</td>\n",
       "      <td>76.8162</td>\n",
       "    </tr>\n",
       "    <tr>\n",
       "      <th>3</th>\n",
       "      <td>ANA</td>\n",
       "      <td>07/01/2019</td>\n",
       "      <td>77.14</td>\n",
       "      <td>76.62</td>\n",
       "      <td>63349</td>\n",
       "      <td>4855724.92</td>\n",
       "      <td>77.14</td>\n",
       "      <td>77.30</td>\n",
       "      <td>75.62</td>\n",
       "      <td>76.6504</td>\n",
       "    </tr>\n",
       "    <tr>\n",
       "      <th>4</th>\n",
       "      <td>ANA</td>\n",
       "      <td>08/01/2019</td>\n",
       "      <td>78.24</td>\n",
       "      <td>77.14</td>\n",
       "      <td>99300</td>\n",
       "      <td>7749464.70</td>\n",
       "      <td>78.24</td>\n",
       "      <td>78.46</td>\n",
       "      <td>77.00</td>\n",
       "      <td>78.0409</td>\n",
       "    </tr>\n",
       "    <tr>\n",
       "      <th>...</th>\n",
       "      <td>...</td>\n",
       "      <td>...</td>\n",
       "      <td>...</td>\n",
       "      <td>...</td>\n",
       "      <td>...</td>\n",
       "      <td>...</td>\n",
       "      <td>...</td>\n",
       "      <td>...</td>\n",
       "      <td>...</td>\n",
       "      <td>...</td>\n",
       "    </tr>\n",
       "    <tr>\n",
       "      <th>8570</th>\n",
       "      <td>VIS</td>\n",
       "      <td>09/12/2019</td>\n",
       "      <td>48.70</td>\n",
       "      <td>48.76</td>\n",
       "      <td>40236</td>\n",
       "      <td>1958325.66</td>\n",
       "      <td>48.70</td>\n",
       "      <td>48.96</td>\n",
       "      <td>48.44</td>\n",
       "      <td>48.6710</td>\n",
       "    </tr>\n",
       "    <tr>\n",
       "      <th>8571</th>\n",
       "      <td>VIS</td>\n",
       "      <td>10/12/2019</td>\n",
       "      <td>48.16</td>\n",
       "      <td>48.70</td>\n",
       "      <td>60198</td>\n",
       "      <td>2895965.78</td>\n",
       "      <td>48.16</td>\n",
       "      <td>48.74</td>\n",
       "      <td>47.70</td>\n",
       "      <td>48.1201</td>\n",
       "    </tr>\n",
       "    <tr>\n",
       "      <th>8572</th>\n",
       "      <td>VIS</td>\n",
       "      <td>11/12/2019</td>\n",
       "      <td>47.96</td>\n",
       "      <td>48.16</td>\n",
       "      <td>63000</td>\n",
       "      <td>3012462.12</td>\n",
       "      <td>47.96</td>\n",
       "      <td>48.42</td>\n",
       "      <td>47.52</td>\n",
       "      <td>47.8169</td>\n",
       "    </tr>\n",
       "    <tr>\n",
       "      <th>8573</th>\n",
       "      <td>VIS</td>\n",
       "      <td>12/12/2019</td>\n",
       "      <td>48.42</td>\n",
       "      <td>47.96</td>\n",
       "      <td>50218</td>\n",
       "      <td>2429199.80</td>\n",
       "      <td>48.42</td>\n",
       "      <td>48.66</td>\n",
       "      <td>47.76</td>\n",
       "      <td>48.3731</td>\n",
       "    </tr>\n",
       "    <tr>\n",
       "      <th>8574</th>\n",
       "      <td>VIS</td>\n",
       "      <td>13/12/2019</td>\n",
       "      <td>48.64</td>\n",
       "      <td>48.42</td>\n",
       "      <td>62427</td>\n",
       "      <td>3038685.10</td>\n",
       "      <td>48.64</td>\n",
       "      <td>49.18</td>\n",
       "      <td>48.12</td>\n",
       "      <td>48.6758</td>\n",
       "    </tr>\n",
       "  </tbody>\n",
       "</table>\n",
       "<p>8575 rows × 10 columns</p>\n",
       "</div>"
      ],
      "text/plain": [
       "     Ticker       Fecha  Cierre  Referencia  Volumen     Rotacion  Ultimo  \\\n",
       "0       ANA  02/01/2019   74.80       73.90   156300  11621188.98   74.80   \n",
       "1       ANA  03/01/2019   76.34       74.80   140331  10632703.64   76.34   \n",
       "2       ANA  04/01/2019   76.62       76.34   130309  10010838.76   76.62   \n",
       "3       ANA  07/01/2019   77.14       76.62    63349   4855724.92   77.14   \n",
       "4       ANA  08/01/2019   78.24       77.14    99300   7749464.70   78.24   \n",
       "...     ...         ...     ...         ...      ...          ...     ...   \n",
       "8570    VIS  09/12/2019   48.70       48.76    40236   1958325.66   48.70   \n",
       "8571    VIS  10/12/2019   48.16       48.70    60198   2895965.78   48.16   \n",
       "8572    VIS  11/12/2019   47.96       48.16    63000   3012462.12   47.96   \n",
       "8573    VIS  12/12/2019   48.42       47.96    50218   2429199.80   48.42   \n",
       "8574    VIS  13/12/2019   48.64       48.42    62427   3038685.10   48.64   \n",
       "\n",
       "       Alto   Bajo  Promedio  \n",
       "0     75.16  72.38   74.3518  \n",
       "1     76.60  74.54   75.7687  \n",
       "2     77.40  76.40   76.8162  \n",
       "3     77.30  75.62   76.6504  \n",
       "4     78.46  77.00   78.0409  \n",
       "...     ...    ...       ...  \n",
       "8570  48.96  48.44   48.6710  \n",
       "8571  48.74  47.70   48.1201  \n",
       "8572  48.42  47.52   47.8169  \n",
       "8573  48.66  47.76   48.3731  \n",
       "8574  49.18  48.12   48.6758  \n",
       "\n",
       "[8575 rows x 10 columns]"
      ]
     },
     "execution_count": 37,
     "metadata": {},
     "output_type": "execute_result"
    }
   ],
   "source": [
    "ruta = \"C:/Users/brent/OneDrive/Escritorio/Python para Data Science & Machine Learning/Día7/Mercado+de+Valores+España.csv\"\n",
    "df = pd.read_csv(ruta)\n",
    "df"
   ]
  },
  {
   "cell_type": "code",
   "execution_count": 39,
   "id": "4330b47f-2a1b-43d6-9f79-a7a01e844c92",
   "metadata": {},
   "outputs": [
    {
     "data": {
      "text/plain": [
       "'02/01/2019'"
      ]
     },
     "execution_count": 39,
     "metadata": {},
     "output_type": "execute_result"
    }
   ],
   "source": [
    "df['Fecha'][0]"
   ]
  },
  {
   "cell_type": "code",
   "execution_count": 41,
   "id": "e5fd811f-318c-4ca4-8d2f-fcb7731efb8f",
   "metadata": {},
   "outputs": [
    {
     "data": {
      "text/plain": [
       "str"
      ]
     },
     "execution_count": 41,
     "metadata": {},
     "output_type": "execute_result"
    }
   ],
   "source": [
    "type(df['Fecha'][0])"
   ]
  },
  {
   "cell_type": "code",
   "execution_count": 43,
   "id": "d15b9e74-5ba9-4c53-b66f-d913d0ba2239",
   "metadata": {},
   "outputs": [
    {
     "data": {
      "text/html": [
       "<div>\n",
       "<style scoped>\n",
       "    .dataframe tbody tr th:only-of-type {\n",
       "        vertical-align: middle;\n",
       "    }\n",
       "\n",
       "    .dataframe tbody tr th {\n",
       "        vertical-align: top;\n",
       "    }\n",
       "\n",
       "    .dataframe thead th {\n",
       "        text-align: right;\n",
       "    }\n",
       "</style>\n",
       "<table border=\"1\" class=\"dataframe\">\n",
       "  <thead>\n",
       "    <tr style=\"text-align: right;\">\n",
       "      <th></th>\n",
       "      <th>Ticker</th>\n",
       "      <th>Fecha</th>\n",
       "      <th>Cierre</th>\n",
       "      <th>Referencia</th>\n",
       "      <th>Volumen</th>\n",
       "      <th>Rotacion</th>\n",
       "      <th>Ultimo</th>\n",
       "      <th>Alto</th>\n",
       "      <th>Bajo</th>\n",
       "      <th>Promedio</th>\n",
       "    </tr>\n",
       "  </thead>\n",
       "  <tbody>\n",
       "    <tr>\n",
       "      <th>0</th>\n",
       "      <td>ANA</td>\n",
       "      <td>2019-01-02</td>\n",
       "      <td>74.80</td>\n",
       "      <td>73.90</td>\n",
       "      <td>156300</td>\n",
       "      <td>11621188.98</td>\n",
       "      <td>74.80</td>\n",
       "      <td>75.16</td>\n",
       "      <td>72.38</td>\n",
       "      <td>74.3518</td>\n",
       "    </tr>\n",
       "    <tr>\n",
       "      <th>1</th>\n",
       "      <td>ANA</td>\n",
       "      <td>2019-01-03</td>\n",
       "      <td>76.34</td>\n",
       "      <td>74.80</td>\n",
       "      <td>140331</td>\n",
       "      <td>10632703.64</td>\n",
       "      <td>76.34</td>\n",
       "      <td>76.60</td>\n",
       "      <td>74.54</td>\n",
       "      <td>75.7687</td>\n",
       "    </tr>\n",
       "    <tr>\n",
       "      <th>2</th>\n",
       "      <td>ANA</td>\n",
       "      <td>2019-01-04</td>\n",
       "      <td>76.62</td>\n",
       "      <td>76.34</td>\n",
       "      <td>130309</td>\n",
       "      <td>10010838.76</td>\n",
       "      <td>76.62</td>\n",
       "      <td>77.40</td>\n",
       "      <td>76.40</td>\n",
       "      <td>76.8162</td>\n",
       "    </tr>\n",
       "    <tr>\n",
       "      <th>3</th>\n",
       "      <td>ANA</td>\n",
       "      <td>2019-01-07</td>\n",
       "      <td>77.14</td>\n",
       "      <td>76.62</td>\n",
       "      <td>63349</td>\n",
       "      <td>4855724.92</td>\n",
       "      <td>77.14</td>\n",
       "      <td>77.30</td>\n",
       "      <td>75.62</td>\n",
       "      <td>76.6504</td>\n",
       "    </tr>\n",
       "    <tr>\n",
       "      <th>4</th>\n",
       "      <td>ANA</td>\n",
       "      <td>2019-01-08</td>\n",
       "      <td>78.24</td>\n",
       "      <td>77.14</td>\n",
       "      <td>99300</td>\n",
       "      <td>7749464.70</td>\n",
       "      <td>78.24</td>\n",
       "      <td>78.46</td>\n",
       "      <td>77.00</td>\n",
       "      <td>78.0409</td>\n",
       "    </tr>\n",
       "    <tr>\n",
       "      <th>...</th>\n",
       "      <td>...</td>\n",
       "      <td>...</td>\n",
       "      <td>...</td>\n",
       "      <td>...</td>\n",
       "      <td>...</td>\n",
       "      <td>...</td>\n",
       "      <td>...</td>\n",
       "      <td>...</td>\n",
       "      <td>...</td>\n",
       "      <td>...</td>\n",
       "    </tr>\n",
       "    <tr>\n",
       "      <th>8570</th>\n",
       "      <td>VIS</td>\n",
       "      <td>2019-12-09</td>\n",
       "      <td>48.70</td>\n",
       "      <td>48.76</td>\n",
       "      <td>40236</td>\n",
       "      <td>1958325.66</td>\n",
       "      <td>48.70</td>\n",
       "      <td>48.96</td>\n",
       "      <td>48.44</td>\n",
       "      <td>48.6710</td>\n",
       "    </tr>\n",
       "    <tr>\n",
       "      <th>8571</th>\n",
       "      <td>VIS</td>\n",
       "      <td>2019-12-10</td>\n",
       "      <td>48.16</td>\n",
       "      <td>48.70</td>\n",
       "      <td>60198</td>\n",
       "      <td>2895965.78</td>\n",
       "      <td>48.16</td>\n",
       "      <td>48.74</td>\n",
       "      <td>47.70</td>\n",
       "      <td>48.1201</td>\n",
       "    </tr>\n",
       "    <tr>\n",
       "      <th>8572</th>\n",
       "      <td>VIS</td>\n",
       "      <td>2019-12-11</td>\n",
       "      <td>47.96</td>\n",
       "      <td>48.16</td>\n",
       "      <td>63000</td>\n",
       "      <td>3012462.12</td>\n",
       "      <td>47.96</td>\n",
       "      <td>48.42</td>\n",
       "      <td>47.52</td>\n",
       "      <td>47.8169</td>\n",
       "    </tr>\n",
       "    <tr>\n",
       "      <th>8573</th>\n",
       "      <td>VIS</td>\n",
       "      <td>2019-12-12</td>\n",
       "      <td>48.42</td>\n",
       "      <td>47.96</td>\n",
       "      <td>50218</td>\n",
       "      <td>2429199.80</td>\n",
       "      <td>48.42</td>\n",
       "      <td>48.66</td>\n",
       "      <td>47.76</td>\n",
       "      <td>48.3731</td>\n",
       "    </tr>\n",
       "    <tr>\n",
       "      <th>8574</th>\n",
       "      <td>VIS</td>\n",
       "      <td>2019-12-13</td>\n",
       "      <td>48.64</td>\n",
       "      <td>48.42</td>\n",
       "      <td>62427</td>\n",
       "      <td>3038685.10</td>\n",
       "      <td>48.64</td>\n",
       "      <td>49.18</td>\n",
       "      <td>48.12</td>\n",
       "      <td>48.6758</td>\n",
       "    </tr>\n",
       "  </tbody>\n",
       "</table>\n",
       "<p>8575 rows × 10 columns</p>\n",
       "</div>"
      ],
      "text/plain": [
       "     Ticker      Fecha  Cierre  Referencia  Volumen     Rotacion  Ultimo  \\\n",
       "0       ANA 2019-01-02   74.80       73.90   156300  11621188.98   74.80   \n",
       "1       ANA 2019-01-03   76.34       74.80   140331  10632703.64   76.34   \n",
       "2       ANA 2019-01-04   76.62       76.34   130309  10010838.76   76.62   \n",
       "3       ANA 2019-01-07   77.14       76.62    63349   4855724.92   77.14   \n",
       "4       ANA 2019-01-08   78.24       77.14    99300   7749464.70   78.24   \n",
       "...     ...        ...     ...         ...      ...          ...     ...   \n",
       "8570    VIS 2019-12-09   48.70       48.76    40236   1958325.66   48.70   \n",
       "8571    VIS 2019-12-10   48.16       48.70    60198   2895965.78   48.16   \n",
       "8572    VIS 2019-12-11   47.96       48.16    63000   3012462.12   47.96   \n",
       "8573    VIS 2019-12-12   48.42       47.96    50218   2429199.80   48.42   \n",
       "8574    VIS 2019-12-13   48.64       48.42    62427   3038685.10   48.64   \n",
       "\n",
       "       Alto   Bajo  Promedio  \n",
       "0     75.16  72.38   74.3518  \n",
       "1     76.60  74.54   75.7687  \n",
       "2     77.40  76.40   76.8162  \n",
       "3     77.30  75.62   76.6504  \n",
       "4     78.46  77.00   78.0409  \n",
       "...     ...    ...       ...  \n",
       "8570  48.96  48.44   48.6710  \n",
       "8571  48.74  47.70   48.1201  \n",
       "8572  48.42  47.52   47.8169  \n",
       "8573  48.66  47.76   48.3731  \n",
       "8574  49.18  48.12   48.6758  \n",
       "\n",
       "[8575 rows x 10 columns]"
      ]
     },
     "execution_count": 43,
     "metadata": {},
     "output_type": "execute_result"
    }
   ],
   "source": [
    "#Convertira tipo de dato Fecha\n",
    "df['Fecha'] = pd.to_datetime(df['Fecha'], format='%d/%m/%Y')\n",
    "df"
   ]
  },
  {
   "cell_type": "code",
   "execution_count": 45,
   "id": "4ed5890e-db60-46c1-ab83-42647842737a",
   "metadata": {},
   "outputs": [
    {
     "data": {
      "text/plain": [
       "Timestamp('2019-01-02 00:00:00')"
      ]
     },
     "execution_count": 45,
     "metadata": {},
     "output_type": "execute_result"
    }
   ],
   "source": [
    "df['Fecha'][0]"
   ]
  },
  {
   "cell_type": "code",
   "execution_count": 47,
   "id": "93698a22-f1ae-464d-8686-4ad5eecd64f6",
   "metadata": {},
   "outputs": [
    {
     "data": {
      "text/plain": [
       "pandas._libs.tslibs.timestamps.Timestamp"
      ]
     },
     "execution_count": 47,
     "metadata": {},
     "output_type": "execute_result"
    }
   ],
   "source": [
    "type(df['Fecha'][0])"
   ]
  },
  {
   "cell_type": "code",
   "execution_count": 49,
   "id": "a88eaa60-a964-4728-9403-cf12d3777518",
   "metadata": {},
   "outputs": [
    {
     "data": {
      "text/plain": [
       "Timestamp('2019-03-05 00:00:00')"
      ]
     },
     "execution_count": 49,
     "metadata": {},
     "output_type": "execute_result"
    }
   ],
   "source": [
    "# Extraer datos\n",
    "df['Fecha'][44]"
   ]
  },
  {
   "cell_type": "code",
   "execution_count": 51,
   "id": "6a938356-6db8-4901-b139-25aa0480503b",
   "metadata": {},
   "outputs": [
    {
     "data": {
      "text/plain": [
       "2019"
      ]
     },
     "execution_count": 51,
     "metadata": {},
     "output_type": "execute_result"
    }
   ],
   "source": [
    "#Extraer el año\n",
    "anio = df['Fecha'][44].year\n",
    "anio"
   ]
  },
  {
   "cell_type": "code",
   "execution_count": 53,
   "id": "f093afba-d77b-479b-bf89-940ab52bc69c",
   "metadata": {},
   "outputs": [
    {
     "data": {
      "text/plain": [
       "3"
      ]
     },
     "execution_count": 53,
     "metadata": {},
     "output_type": "execute_result"
    }
   ],
   "source": [
    "#Extraer el mes\n",
    "mes = df['Fecha'][44].month\n",
    "mes"
   ]
  },
  {
   "cell_type": "code",
   "execution_count": 55,
   "id": "20c56b3b-e9c9-4855-8ee3-6b43d97a5023",
   "metadata": {},
   "outputs": [
    {
     "data": {
      "text/plain": [
       "0      2019-01-07\n",
       "1      2019-01-08\n",
       "2      2019-01-09\n",
       "3      2019-01-12\n",
       "4      2019-01-13\n",
       "          ...    \n",
       "8570   2019-12-14\n",
       "8571   2019-12-15\n",
       "8572   2019-12-16\n",
       "8573   2019-12-17\n",
       "8574   2019-12-18\n",
       "Name: Fecha, Length: 8575, dtype: datetime64[ns]"
      ]
     },
     "execution_count": 55,
     "metadata": {},
     "output_type": "execute_result"
    }
   ],
   "source": [
    "#Agregar dias\n",
    "df_mas_5_dias = df['Fecha'] + pd.Timedelta(days=5)\n",
    "df_mas_5_dias"
   ]
  },
  {
   "cell_type": "code",
   "execution_count": 59,
   "id": "096dde30-de9d-4290-9942-559329745119",
   "metadata": {},
   "outputs": [
    {
     "data": {
      "text/plain": [
       "0   2024-01-01\n",
       "1   2024-01-02\n",
       "2   2024-01-03\n",
       "3   2024-01-04\n",
       "4   2024-01-05\n",
       "5   2024-01-06\n",
       "6   2024-01-07\n",
       "dtype: datetime64[ns]"
      ]
     },
     "execution_count": 59,
     "metadata": {},
     "output_type": "execute_result"
    }
   ],
   "source": [
    "#Datos Relacionados con el Tiempo en Pandas 1\n",
    "#Crea una serie temporal que represente todos los días desde el inicio del año 2024 hasta el septimo dia del mismo mes y año. \n",
    "#Usa el método adecuado para generar esta serie y asígnala a una variable llamada primera_semana_2024\n",
    "primera_semana_2024 = pd.Series(pd.date_range('20240101', periods=7, freq='D'))\n",
    "primera_semana_2024"
   ]
  },
  {
   "cell_type": "code",
   "execution_count": 61,
   "id": "103e42fd-bc1d-4e22-9031-a3679be6e652",
   "metadata": {},
   "outputs": [
    {
     "ename": "FileNotFoundError",
     "evalue": "[Errno 2] No such file or directory: 'fechas.csv'",
     "output_type": "error",
     "traceback": [
      "\u001b[1;31m---------------------------------------------------------------------------\u001b[0m",
      "\u001b[1;31mFileNotFoundError\u001b[0m                         Traceback (most recent call last)",
      "Cell \u001b[1;32mIn[61], line 7\u001b[0m\n\u001b[0;32m      4\u001b[0m \u001b[38;5;28;01mimport\u001b[39;00m \u001b[38;5;21;01mpandas\u001b[39;00m \u001b[38;5;28;01mas\u001b[39;00m \u001b[38;5;21;01mpd\u001b[39;00m\n\u001b[0;32m      6\u001b[0m \u001b[38;5;66;03m# Leer el archivo CSV\u001b[39;00m\n\u001b[1;32m----> 7\u001b[0m df \u001b[38;5;241m=\u001b[39m pd\u001b[38;5;241m.\u001b[39mread_csv(\u001b[38;5;124m'\u001b[39m\u001b[38;5;124mfechas.csv\u001b[39m\u001b[38;5;124m'\u001b[39m)\n\u001b[0;32m      9\u001b[0m \u001b[38;5;66;03m# Convertir la columna de fechas de string a datetime en el formato día/mes/año\u001b[39;00m\n\u001b[0;32m     10\u001b[0m df[\u001b[38;5;124m'\u001b[39m\u001b[38;5;124mfecha\u001b[39m\u001b[38;5;124m'\u001b[39m] \u001b[38;5;241m=\u001b[39m pd\u001b[38;5;241m.\u001b[39mto_datetime(df[\u001b[38;5;124m'\u001b[39m\u001b[38;5;124mfecha\u001b[39m\u001b[38;5;124m'\u001b[39m], \u001b[38;5;28mformat\u001b[39m\u001b[38;5;241m=\u001b[39m\u001b[38;5;124m'\u001b[39m\u001b[38;5;124m%\u001b[39m\u001b[38;5;124mY-\u001b[39m\u001b[38;5;124m%\u001b[39m\u001b[38;5;124mm-\u001b[39m\u001b[38;5;132;01m%d\u001b[39;00m\u001b[38;5;124m'\u001b[39m)\n",
      "File \u001b[1;32m~\\anaconda3\\Lib\\site-packages\\pandas\\io\\parsers\\readers.py:1026\u001b[0m, in \u001b[0;36mread_csv\u001b[1;34m(filepath_or_buffer, sep, delimiter, header, names, index_col, usecols, dtype, engine, converters, true_values, false_values, skipinitialspace, skiprows, skipfooter, nrows, na_values, keep_default_na, na_filter, verbose, skip_blank_lines, parse_dates, infer_datetime_format, keep_date_col, date_parser, date_format, dayfirst, cache_dates, iterator, chunksize, compression, thousands, decimal, lineterminator, quotechar, quoting, doublequote, escapechar, comment, encoding, encoding_errors, dialect, on_bad_lines, delim_whitespace, low_memory, memory_map, float_precision, storage_options, dtype_backend)\u001b[0m\n\u001b[0;32m   1013\u001b[0m kwds_defaults \u001b[38;5;241m=\u001b[39m _refine_defaults_read(\n\u001b[0;32m   1014\u001b[0m     dialect,\n\u001b[0;32m   1015\u001b[0m     delimiter,\n\u001b[1;32m   (...)\u001b[0m\n\u001b[0;32m   1022\u001b[0m     dtype_backend\u001b[38;5;241m=\u001b[39mdtype_backend,\n\u001b[0;32m   1023\u001b[0m )\n\u001b[0;32m   1024\u001b[0m kwds\u001b[38;5;241m.\u001b[39mupdate(kwds_defaults)\n\u001b[1;32m-> 1026\u001b[0m \u001b[38;5;28;01mreturn\u001b[39;00m _read(filepath_or_buffer, kwds)\n",
      "File \u001b[1;32m~\\anaconda3\\Lib\\site-packages\\pandas\\io\\parsers\\readers.py:620\u001b[0m, in \u001b[0;36m_read\u001b[1;34m(filepath_or_buffer, kwds)\u001b[0m\n\u001b[0;32m    617\u001b[0m _validate_names(kwds\u001b[38;5;241m.\u001b[39mget(\u001b[38;5;124m\"\u001b[39m\u001b[38;5;124mnames\u001b[39m\u001b[38;5;124m\"\u001b[39m, \u001b[38;5;28;01mNone\u001b[39;00m))\n\u001b[0;32m    619\u001b[0m \u001b[38;5;66;03m# Create the parser.\u001b[39;00m\n\u001b[1;32m--> 620\u001b[0m parser \u001b[38;5;241m=\u001b[39m TextFileReader(filepath_or_buffer, \u001b[38;5;241m*\u001b[39m\u001b[38;5;241m*\u001b[39mkwds)\n\u001b[0;32m    622\u001b[0m \u001b[38;5;28;01mif\u001b[39;00m chunksize \u001b[38;5;129;01mor\u001b[39;00m iterator:\n\u001b[0;32m    623\u001b[0m     \u001b[38;5;28;01mreturn\u001b[39;00m parser\n",
      "File \u001b[1;32m~\\anaconda3\\Lib\\site-packages\\pandas\\io\\parsers\\readers.py:1620\u001b[0m, in \u001b[0;36mTextFileReader.__init__\u001b[1;34m(self, f, engine, **kwds)\u001b[0m\n\u001b[0;32m   1617\u001b[0m     \u001b[38;5;28mself\u001b[39m\u001b[38;5;241m.\u001b[39moptions[\u001b[38;5;124m\"\u001b[39m\u001b[38;5;124mhas_index_names\u001b[39m\u001b[38;5;124m\"\u001b[39m] \u001b[38;5;241m=\u001b[39m kwds[\u001b[38;5;124m\"\u001b[39m\u001b[38;5;124mhas_index_names\u001b[39m\u001b[38;5;124m\"\u001b[39m]\n\u001b[0;32m   1619\u001b[0m \u001b[38;5;28mself\u001b[39m\u001b[38;5;241m.\u001b[39mhandles: IOHandles \u001b[38;5;241m|\u001b[39m \u001b[38;5;28;01mNone\u001b[39;00m \u001b[38;5;241m=\u001b[39m \u001b[38;5;28;01mNone\u001b[39;00m\n\u001b[1;32m-> 1620\u001b[0m \u001b[38;5;28mself\u001b[39m\u001b[38;5;241m.\u001b[39m_engine \u001b[38;5;241m=\u001b[39m \u001b[38;5;28mself\u001b[39m\u001b[38;5;241m.\u001b[39m_make_engine(f, \u001b[38;5;28mself\u001b[39m\u001b[38;5;241m.\u001b[39mengine)\n",
      "File \u001b[1;32m~\\anaconda3\\Lib\\site-packages\\pandas\\io\\parsers\\readers.py:1880\u001b[0m, in \u001b[0;36mTextFileReader._make_engine\u001b[1;34m(self, f, engine)\u001b[0m\n\u001b[0;32m   1878\u001b[0m     \u001b[38;5;28;01mif\u001b[39;00m \u001b[38;5;124m\"\u001b[39m\u001b[38;5;124mb\u001b[39m\u001b[38;5;124m\"\u001b[39m \u001b[38;5;129;01mnot\u001b[39;00m \u001b[38;5;129;01min\u001b[39;00m mode:\n\u001b[0;32m   1879\u001b[0m         mode \u001b[38;5;241m+\u001b[39m\u001b[38;5;241m=\u001b[39m \u001b[38;5;124m\"\u001b[39m\u001b[38;5;124mb\u001b[39m\u001b[38;5;124m\"\u001b[39m\n\u001b[1;32m-> 1880\u001b[0m \u001b[38;5;28mself\u001b[39m\u001b[38;5;241m.\u001b[39mhandles \u001b[38;5;241m=\u001b[39m get_handle(\n\u001b[0;32m   1881\u001b[0m     f,\n\u001b[0;32m   1882\u001b[0m     mode,\n\u001b[0;32m   1883\u001b[0m     encoding\u001b[38;5;241m=\u001b[39m\u001b[38;5;28mself\u001b[39m\u001b[38;5;241m.\u001b[39moptions\u001b[38;5;241m.\u001b[39mget(\u001b[38;5;124m\"\u001b[39m\u001b[38;5;124mencoding\u001b[39m\u001b[38;5;124m\"\u001b[39m, \u001b[38;5;28;01mNone\u001b[39;00m),\n\u001b[0;32m   1884\u001b[0m     compression\u001b[38;5;241m=\u001b[39m\u001b[38;5;28mself\u001b[39m\u001b[38;5;241m.\u001b[39moptions\u001b[38;5;241m.\u001b[39mget(\u001b[38;5;124m\"\u001b[39m\u001b[38;5;124mcompression\u001b[39m\u001b[38;5;124m\"\u001b[39m, \u001b[38;5;28;01mNone\u001b[39;00m),\n\u001b[0;32m   1885\u001b[0m     memory_map\u001b[38;5;241m=\u001b[39m\u001b[38;5;28mself\u001b[39m\u001b[38;5;241m.\u001b[39moptions\u001b[38;5;241m.\u001b[39mget(\u001b[38;5;124m\"\u001b[39m\u001b[38;5;124mmemory_map\u001b[39m\u001b[38;5;124m\"\u001b[39m, \u001b[38;5;28;01mFalse\u001b[39;00m),\n\u001b[0;32m   1886\u001b[0m     is_text\u001b[38;5;241m=\u001b[39mis_text,\n\u001b[0;32m   1887\u001b[0m     errors\u001b[38;5;241m=\u001b[39m\u001b[38;5;28mself\u001b[39m\u001b[38;5;241m.\u001b[39moptions\u001b[38;5;241m.\u001b[39mget(\u001b[38;5;124m\"\u001b[39m\u001b[38;5;124mencoding_errors\u001b[39m\u001b[38;5;124m\"\u001b[39m, \u001b[38;5;124m\"\u001b[39m\u001b[38;5;124mstrict\u001b[39m\u001b[38;5;124m\"\u001b[39m),\n\u001b[0;32m   1888\u001b[0m     storage_options\u001b[38;5;241m=\u001b[39m\u001b[38;5;28mself\u001b[39m\u001b[38;5;241m.\u001b[39moptions\u001b[38;5;241m.\u001b[39mget(\u001b[38;5;124m\"\u001b[39m\u001b[38;5;124mstorage_options\u001b[39m\u001b[38;5;124m\"\u001b[39m, \u001b[38;5;28;01mNone\u001b[39;00m),\n\u001b[0;32m   1889\u001b[0m )\n\u001b[0;32m   1890\u001b[0m \u001b[38;5;28;01massert\u001b[39;00m \u001b[38;5;28mself\u001b[39m\u001b[38;5;241m.\u001b[39mhandles \u001b[38;5;129;01mis\u001b[39;00m \u001b[38;5;129;01mnot\u001b[39;00m \u001b[38;5;28;01mNone\u001b[39;00m\n\u001b[0;32m   1891\u001b[0m f \u001b[38;5;241m=\u001b[39m \u001b[38;5;28mself\u001b[39m\u001b[38;5;241m.\u001b[39mhandles\u001b[38;5;241m.\u001b[39mhandle\n",
      "File \u001b[1;32m~\\anaconda3\\Lib\\site-packages\\pandas\\io\\common.py:873\u001b[0m, in \u001b[0;36mget_handle\u001b[1;34m(path_or_buf, mode, encoding, compression, memory_map, is_text, errors, storage_options)\u001b[0m\n\u001b[0;32m    868\u001b[0m \u001b[38;5;28;01melif\u001b[39;00m \u001b[38;5;28misinstance\u001b[39m(handle, \u001b[38;5;28mstr\u001b[39m):\n\u001b[0;32m    869\u001b[0m     \u001b[38;5;66;03m# Check whether the filename is to be opened in binary mode.\u001b[39;00m\n\u001b[0;32m    870\u001b[0m     \u001b[38;5;66;03m# Binary mode does not support 'encoding' and 'newline'.\u001b[39;00m\n\u001b[0;32m    871\u001b[0m     \u001b[38;5;28;01mif\u001b[39;00m ioargs\u001b[38;5;241m.\u001b[39mencoding \u001b[38;5;129;01mand\u001b[39;00m \u001b[38;5;124m\"\u001b[39m\u001b[38;5;124mb\u001b[39m\u001b[38;5;124m\"\u001b[39m \u001b[38;5;129;01mnot\u001b[39;00m \u001b[38;5;129;01min\u001b[39;00m ioargs\u001b[38;5;241m.\u001b[39mmode:\n\u001b[0;32m    872\u001b[0m         \u001b[38;5;66;03m# Encoding\u001b[39;00m\n\u001b[1;32m--> 873\u001b[0m         handle \u001b[38;5;241m=\u001b[39m \u001b[38;5;28mopen\u001b[39m(\n\u001b[0;32m    874\u001b[0m             handle,\n\u001b[0;32m    875\u001b[0m             ioargs\u001b[38;5;241m.\u001b[39mmode,\n\u001b[0;32m    876\u001b[0m             encoding\u001b[38;5;241m=\u001b[39mioargs\u001b[38;5;241m.\u001b[39mencoding,\n\u001b[0;32m    877\u001b[0m             errors\u001b[38;5;241m=\u001b[39merrors,\n\u001b[0;32m    878\u001b[0m             newline\u001b[38;5;241m=\u001b[39m\u001b[38;5;124m\"\u001b[39m\u001b[38;5;124m\"\u001b[39m,\n\u001b[0;32m    879\u001b[0m         )\n\u001b[0;32m    880\u001b[0m     \u001b[38;5;28;01melse\u001b[39;00m:\n\u001b[0;32m    881\u001b[0m         \u001b[38;5;66;03m# Binary mode\u001b[39;00m\n\u001b[0;32m    882\u001b[0m         handle \u001b[38;5;241m=\u001b[39m \u001b[38;5;28mopen\u001b[39m(handle, ioargs\u001b[38;5;241m.\u001b[39mmode)\n",
      "\u001b[1;31mFileNotFoundError\u001b[0m: [Errno 2] No such file or directory: 'fechas.csv'"
     ]
    }
   ],
   "source": [
    "#Datos Relacionados con el Tiempo en Pandas 2\n",
    "#Dada una lista de fechas en formato string ['2024-01-01', '2024-02-14', '2024-03-01'] \n",
    "#en una columna fecha de una tabla llamada fechas.csv\n",
    "import pandas as pd\n",
    " \n",
    "# Leer el archivo CSV\n",
    "df = pd.read_csv('fechas.csv')\n",
    " \n",
    "# Convertir la columna de fechas de string a datetime en el formato día/mes/año\n",
    "df['fecha'] = pd.to_datetime(df['fecha'], format='%Y-%m-%d')\n",
    " \n",
    "# Cambiar el formato de la fecha a día/mes/año\n",
    "df['fecha'] = df['fecha'].dt.strftime('%d/%m/%Y')"
   ]
  },
  {
   "cell_type": "code",
   "execution_count": 63,
   "id": "5b081c7b-823f-4eab-9b80-02b9f4c6a4b4",
   "metadata": {},
   "outputs": [],
   "source": [
    "#Datos Relacionados con el Tiempo en Pandas 3\n",
    "#Dada una lista de fechas en formato string ['01-01-2024', '14-02-2024', '01-03-2024'] \n",
    "#en una columna fecha de una tabla llamada fechas.csv\n",
    "import pandas as pd\n",
    " \n",
    "# Datos de ejemplo\n",
    "data = {\n",
    "    'Fecha': ['2024-03-19', '2024-03-20', '2024-03-21', '2024-03-22', '2024-03-23', '2024-03-24'],\n",
    "    'Producto': ['Manzanas', 'Peras', 'Naranjas', 'Plátanos', 'Uvas', 'Melocotones'],\n",
    "    'Cantidad': [23, 15, 18, 30, 8, 20],\n",
    "    'Precio': [1.2, 1.5, 1.0, 0.8, 2.0, 1.7]\n",
    "}\n",
    " \n",
    "# Crea df_ventas \n",
    "df_ventas = pd.DataFrame(data)\n",
    " \n",
    "def guardar_en_excel():\n",
    "    df_ventas.to_excel('/mnt/data/ventas1.xlsx', index=False)"
   ]
  },
  {
   "cell_type": "code",
   "execution_count": null,
   "id": "74772b6e-46fd-46ee-9e5d-47817a2cb8fb",
   "metadata": {},
   "outputs": [],
   "source": []
  }
 ],
 "metadata": {
  "kernelspec": {
   "display_name": "Python 3 (ipykernel)",
   "language": "python",
   "name": "python3"
  },
  "language_info": {
   "codemirror_mode": {
    "name": "ipython",
    "version": 3
   },
   "file_extension": ".py",
   "mimetype": "text/x-python",
   "name": "python",
   "nbconvert_exporter": "python",
   "pygments_lexer": "ipython3",
   "version": "3.12.7"
  }
 },
 "nbformat": 4,
 "nbformat_minor": 5
}
