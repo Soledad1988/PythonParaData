{
 "cells": [
  {
   "cell_type": "code",
   "execution_count": 15,
   "id": "36af1539-43bb-406e-bc1b-873c643655d9",
   "metadata": {},
   "outputs": [],
   "source": [
    "saludo = \"Hola\"\n",
    "nombre = \"Ana\"\n",
    "frase = saludo +\" \"+ nombre"
   ]
  },
  {
   "cell_type": "code",
   "execution_count": 17,
   "id": "e3baa243-4a36-4cb5-8083-86bcc68efde3",
   "metadata": {},
   "outputs": [
    {
     "name": "stdout",
     "output_type": "stream",
     "text": [
      "Hola Ana\n"
     ]
    }
   ],
   "source": [
    "print(frase)"
   ]
  },
  {
   "cell_type": "code",
   "execution_count": 19,
   "id": "9f25e081-2ccf-42b8-81f7-fc279df2103c",
   "metadata": {},
   "outputs": [],
   "source": [
    "edad = 30"
   ]
  },
  {
   "cell_type": "code",
   "execution_count": 27,
   "id": "270ad890-7530-424e-9be6-fb098986660d",
   "metadata": {},
   "outputs": [],
   "source": [
    "frase = saludo +\" \"+ nombre +\", tienes \" +str(edad)+\" años\""
   ]
  },
  {
   "cell_type": "code",
   "execution_count": 29,
   "id": "cc4386ef-8edf-4836-be07-152025620cbe",
   "metadata": {},
   "outputs": [
    {
     "name": "stdout",
     "output_type": "stream",
     "text": [
      "Hola Ana, tienes 30 años\n"
     ]
    }
   ],
   "source": [
    "print(frase)"
   ]
  },
  {
   "cell_type": "code",
   "execution_count": 31,
   "id": "72c96c8e-f6b6-4145-97f5-ade9a0d58541",
   "metadata": {},
   "outputs": [],
   "source": [
    "frase2 = \"Hola {}, tienes {} años\".format(nombre, edad)"
   ]
  },
  {
   "cell_type": "code",
   "execution_count": 33,
   "id": "fa35be70-aee7-44d7-b985-8fb6a70a982d",
   "metadata": {},
   "outputs": [
    {
     "name": "stdout",
     "output_type": "stream",
     "text": [
      "Hola Ana, tienes 30 años\n"
     ]
    }
   ],
   "source": [
    "print(frase2)"
   ]
  },
  {
   "cell_type": "code",
   "execution_count": 39,
   "id": "6b810880-2fa9-460f-a79e-1211a45b301e",
   "metadata": {},
   "outputs": [],
   "source": [
    "# Cadenas literales\n",
    "frase3 = f\"Hola {nombre}, tienes {edad} años\""
   ]
  },
  {
   "cell_type": "code",
   "execution_count": 41,
   "id": "9ff06390-cf1e-44d3-90d8-d82a6f5e68ac",
   "metadata": {},
   "outputs": [
    {
     "name": "stdout",
     "output_type": "stream",
     "text": [
      "Hola Ana, tienes 30 años\n"
     ]
    }
   ],
   "source": [
    "print(frase3)"
   ]
  },
  {
   "cell_type": "code",
   "execution_count": null,
   "id": "0101f7ce-a0e1-4cfb-81ae-0f0c33479a0e",
   "metadata": {},
   "outputs": [],
   "source": []
  }
 ],
 "metadata": {
  "kernelspec": {
   "display_name": "Python 3 (ipykernel)",
   "language": "python",
   "name": "python3"
  },
  "language_info": {
   "codemirror_mode": {
    "name": "ipython",
    "version": 3
   },
   "file_extension": ".py",
   "mimetype": "text/x-python",
   "name": "python",
   "nbconvert_exporter": "python",
   "pygments_lexer": "ipython3",
   "version": "3.12.7"
  }
 },
 "nbformat": 4,
 "nbformat_minor": 5
}
