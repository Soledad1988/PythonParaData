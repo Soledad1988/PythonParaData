{
 "cells": [
  {
   "attachments": {},
   "cell_type": "markdown",
   "id": "77cd970e",
   "metadata": {},
   "source": [
    "# Forma y Estructura de Arrays\n",
    "\n",
    "En esta lección vamos a entender cómo **cambiar la forma y el tamaño** de los arrays de NumPy, y para eso vamos a aprender a utilizar algunos métodos especiales.\n",
    "\n",
    "Por un lado ya hemos visto que la propiedad `.shape` sirve para conocer la **forma** de un array."
   ]
  },
  {
   "cell_type": "code",
   "execution_count": 9,
   "id": "55835b13",
   "metadata": {},
   "outputs": [],
   "source": [
    "import numpy as np"
   ]
  },
  {
   "cell_type": "code",
   "execution_count": 10,
   "id": "04648949",
   "metadata": {},
   "outputs": [
    {
     "data": {
      "text/plain": [
       "array([1, 2, 3, 4, 5, 6, 7, 8, 9])"
      ]
     },
     "execution_count": 10,
     "metadata": {},
     "output_type": "execute_result"
    }
   ],
   "source": [
    "array = np.array([1, 2, 3, 4, 5, 6, 7, 8, 9])\n",
    "array"
   ]
  },
  {
   "cell_type": "code",
   "execution_count": 11,
   "id": "c30e913e",
   "metadata": {},
   "outputs": [
    {
     "data": {
      "text/plain": [
       "(9,)"
      ]
     },
     "execution_count": 11,
     "metadata": {},
     "output_type": "execute_result"
    }
   ],
   "source": [
    "array.shape"
   ]
  },
  {
   "attachments": {},
   "cell_type": "markdown",
   "id": "ccde52d7",
   "metadata": {},
   "source": [
    "Y también disponemos de `reshape()` que sirve para **modificar su forma**."
   ]
  },
  {
   "cell_type": "code",
   "execution_count": 4,
   "id": "abd4620a",
   "metadata": {},
   "outputs": [
    {
     "data": {
      "text/plain": [
       "array([[1, 2, 3],\n",
       "       [4, 5, 6],\n",
       "       [7, 8, 9]])"
      ]
     },
     "execution_count": 4,
     "metadata": {},
     "output_type": "execute_result"
    }
   ],
   "source": [
    "array_mod = array.reshape(3, 3)\n",
    "array_mod"
   ]
  },
  {
   "attachments": {},
   "cell_type": "markdown",
   "id": "4a10bf45",
   "metadata": {},
   "source": [
    "Es importante tener en cuenta que el número total de elementos debe permanecer constante para cada grupo cuando aplicamos el reshape.\n",
    "\n",
    "Un dato curioso, es que puedes usar el número negativo **-1** para alguna de las dimensiones del array, y eso hace que NumPy se base en la otra dimensión, y **calcule automáticamente** la distribución de la dimensión faltante."
   ]
  },
  {
   "cell_type": "code",
   "execution_count": 5,
   "id": "f0006026",
   "metadata": {},
   "outputs": [
    {
     "data": {
      "text/plain": [
       "array([[1, 2, 3],\n",
       "       [4, 5, 6],\n",
       "       [7, 8, 9]])"
      ]
     },
     "execution_count": 5,
     "metadata": {},
     "output_type": "execute_result"
    }
   ],
   "source": [
    "array_mod2 = array.reshape(-1, 3)\n",
    "array_mod2"
   ]
  },
  {
   "attachments": {},
   "cell_type": "markdown",
   "id": "dea41040",
   "metadata": {},
   "source": [
    "También quiero que conozcas al método `transpose()` (que significa *transponer*), que se encarga de **voltear el array**, es decir, de cambiar las filas a columnas y las columnas a filas."
   ]
  },
  {
   "cell_type": "code",
   "execution_count": 12,
   "id": "3816fcdb",
   "metadata": {},
   "outputs": [
    {
     "data": {
      "text/plain": [
       "array([[1, 4, 7],\n",
       "       [2, 5, 8],\n",
       "       [3, 6, 9]])"
      ]
     },
     "execution_count": 12,
     "metadata": {},
     "output_type": "execute_result"
    }
   ],
   "source": [
    "array_volteado = array_mod2.transpose()\n",
    "array_volteado"
   ]
  },
  {
   "attachments": {},
   "cell_type": "markdown",
   "id": "5a255e85",
   "metadata": {},
   "source": [
    "Por otro lado, para **convertir un array biidimensional en un array unidimensional**, tenemos los métodos `flatten()` y `ravel()`.\n",
    "\n",
    "El primero de ellos, `flatten()` (que significa \"achatado\"), crea una copia del array original."
   ]
  },
  {
   "cell_type": "code",
   "execution_count": 7,
   "id": "4c73c3d6",
   "metadata": {},
   "outputs": [
    {
     "data": {
      "text/plain": [
       "array([1, 2, 3, 4, 5, 6, 7, 8, 9])"
      ]
     },
     "execution_count": 7,
     "metadata": {},
     "output_type": "execute_result"
    }
   ],
   "source": [
    "array_chato = array_mod.flatten()\n",
    "array_chato"
   ]
  },
  {
   "attachments": {},
   "cell_type": "markdown",
   "id": "6b194c9b",
   "metadata": {},
   "source": [
    "El segundo, `ravel()`, hace algo que parece ser exactamente lo mismo…"
   ]
  },
  {
   "cell_type": "code",
   "execution_count": 8,
   "id": "f6735a08",
   "metadata": {},
   "outputs": [
    {
     "data": {
      "text/plain": [
       "array([1, 2, 3, 4, 5, 6, 7, 8, 9])"
      ]
     },
     "execution_count": 8,
     "metadata": {},
     "output_type": "execute_result"
    }
   ],
   "source": [
    "array_ravel = array_mod.ravel()\n",
    "array_ravel"
   ]
  },
  {
   "attachments": {},
   "cell_type": "markdown",
   "id": "0338e0aa",
   "metadata": {},
   "source": [
    "Pero la diferencia ocurre detrás de la cortina, porque `flatten()` crea una **copia** aplanada del array, lo cual ocupa memoria, mientras que `ravel()` crea una **vista** aplanada del array original, lo que es diferente en términos de eficiencia.\n",
    "\n",
    "Estos son métodos muy simples de usar, y esta capacidad de cambiar la forma y el tamaño de los arrays es fundamental en NumPy, ya que permite manipular y preparar datos para el análisis, la visualización y el modelado. Estas operaciones son eficientes y flexibles, y facilitan el trabajo con conjuntos de datos complejos."
   ]
  },
  {
   "cell_type": "markdown",
   "id": "0354ad62-4840-4e6b-996c-ee345e2da3b6",
   "metadata": {},
   "source": [
    "Forma y Estructura de los Arrays de NumPy 1\n",
    "Crea un array de NumPy llamado array_original  que contenga los números del 1 al 12 y luego cambia su forma para que se convierta en un array de 3 filas y 4 columnas. Almacenalo en una variable llamada array_reshape"
   ]
  },
  {
   "cell_type": "code",
   "execution_count": 8,
   "id": "eed84c43-b318-4d2b-953a-2aea9445717c",
   "metadata": {},
   "outputs": [
    {
     "ename": "NameError",
     "evalue": "name 'np' is not defined",
     "output_type": "error",
     "traceback": [
      "\u001b[1;31m---------------------------------------------------------------------------\u001b[0m",
      "\u001b[1;31mNameError\u001b[0m                                 Traceback (most recent call last)",
      "Cell \u001b[1;32mIn[8], line 2\u001b[0m\n\u001b[0;32m      1\u001b[0m \u001b[38;5;66;03m# Crear un array de NumPy con los números del 1 al 12\u001b[39;00m\n\u001b[1;32m----> 2\u001b[0m array_original2 \u001b[38;5;241m=\u001b[39m np\u001b[38;5;241m.\u001b[39marange(\u001b[38;5;241m1\u001b[39m, \u001b[38;5;241m13\u001b[39m)\n\u001b[0;32m      4\u001b[0m \u001b[38;5;66;03m# Cambiar la forma del array a 3 filas y 4 columnas\u001b[39;00m\n\u001b[0;32m      5\u001b[0m array_reshape \u001b[38;5;241m=\u001b[39m array_original2\u001b[38;5;241m.\u001b[39mreshape(\u001b[38;5;241m3\u001b[39m, \u001b[38;5;241m4\u001b[39m)\n",
      "\u001b[1;31mNameError\u001b[0m: name 'np' is not defined"
     ]
    }
   ],
   "source": [
    "# Crear un array de NumPy con los números del 1 al 12\n",
    "array_original2 = np.arange(1, 13)\n",
    " \n",
    "# Cambiar la forma del array a 3 filas y 4 columnas\n",
    "array_reshape = array_original2.reshape(3, 4)"
   ]
  },
  {
   "cell_type": "markdown",
   "id": "57e49886-f4df-48c2-a721-487aa5746435",
   "metadata": {},
   "source": [
    "Forma y Estructura de los Arrays de NumPy 2\n",
    "Crea un array bidimensional llamado: array_original de forma (2, 3) que contenga los primeros 6 números enteros positivos. Utiliza el método correcto para cambiar sus filas por columnas. Almacenalo en una variable llamada array_modificado"
   ]
  },
  {
   "cell_type": "code",
   "execution_count": 10,
   "id": "2005f97c-85e8-4dab-a971-0bd0c3a515e7",
   "metadata": {},
   "outputs": [
    {
     "ename": "NameError",
     "evalue": "name 'np' is not defined",
     "output_type": "error",
     "traceback": [
      "\u001b[1;31m---------------------------------------------------------------------------\u001b[0m",
      "\u001b[1;31mNameError\u001b[0m                                 Traceback (most recent call last)",
      "Cell \u001b[1;32mIn[10], line 2\u001b[0m\n\u001b[0;32m      1\u001b[0m \u001b[38;5;66;03m# Crear un array de NumPy de forma (2, 3) con los primeros 6 números enteros positivos\u001b[39;00m\n\u001b[1;32m----> 2\u001b[0m array_original3 \u001b[38;5;241m=\u001b[39m np\u001b[38;5;241m.\u001b[39marange(\u001b[38;5;241m1\u001b[39m, \u001b[38;5;241m7\u001b[39m)\u001b[38;5;241m.\u001b[39mreshape(\u001b[38;5;241m2\u001b[39m, \u001b[38;5;241m3\u001b[39m)\n\u001b[0;32m      4\u001b[0m \u001b[38;5;66;03m# Utilizar el método transpose() para cambiar sus filas por columnas\u001b[39;00m\n\u001b[0;32m      5\u001b[0m array_modificado2 \u001b[38;5;241m=\u001b[39m array_original3\u001b[38;5;241m.\u001b[39mtranspose()\n",
      "\u001b[1;31mNameError\u001b[0m: name 'np' is not defined"
     ]
    }
   ],
   "source": [
    "# Crear un array de NumPy de forma (2, 3) con los primeros 6 números enteros positivos\n",
    "array_original3 = np.arange(1, 7).reshape(2, 3)\n",
    " \n",
    "# Utilizar el método transpose() para cambiar sus filas por columnas\n",
    "array_modificado2 = array_original3.transpose()"
   ]
  },
  {
   "cell_type": "markdown",
   "id": "c321939a-043a-4e35-9813-d100526f6aff",
   "metadata": {},
   "source": [
    "Forma y Estructura de los Arrays de NumPy 3\n",
    "Crea un array de 2 dimensiones array_original de forma (2, 3) que contenga los primeros 6 números enteros positivos. Identico al del ejercicio anterior. Luego, crea una copia aplanada de este array y almacénalo en una variable llamada array_aplanado"
   ]
  },
  {
   "cell_type": "code",
   "execution_count": 12,
   "id": "cdf6f039-3b49-40fe-9fc1-d16eef89dfdb",
   "metadata": {},
   "outputs": [
    {
     "ename": "NameError",
     "evalue": "name 'np' is not defined",
     "output_type": "error",
     "traceback": [
      "\u001b[1;31m---------------------------------------------------------------------------\u001b[0m",
      "\u001b[1;31mNameError\u001b[0m                                 Traceback (most recent call last)",
      "Cell \u001b[1;32mIn[12], line 2\u001b[0m\n\u001b[0;32m      1\u001b[0m \u001b[38;5;66;03m# Crear un array de NumPy de 2 dimensiones de forma (2, 3) con los primeros 6 números enteros positivos\u001b[39;00m\n\u001b[1;32m----> 2\u001b[0m array_original \u001b[38;5;241m=\u001b[39m np\u001b[38;5;241m.\u001b[39marange(\u001b[38;5;241m1\u001b[39m, \u001b[38;5;241m7\u001b[39m)\u001b[38;5;241m.\u001b[39mreshape(\u001b[38;5;241m2\u001b[39m, \u001b[38;5;241m3\u001b[39m)\n\u001b[0;32m      4\u001b[0m \u001b[38;5;66;03m# Crear una copia aplanada de este array usando el método flatten()\u001b[39;00m\n\u001b[0;32m      5\u001b[0m array_aplanado \u001b[38;5;241m=\u001b[39m array_original\u001b[38;5;241m.\u001b[39mflatten()\n",
      "\u001b[1;31mNameError\u001b[0m: name 'np' is not defined"
     ]
    }
   ],
   "source": [
    "# Crear un array de NumPy de 2 dimensiones de forma (2, 3) con los primeros 6 números enteros positivos\n",
    "array_original = np.arange(1, 7).reshape(2, 3)\n",
    " \n",
    "# Crear una copia aplanada de este array usando el método flatten()\n",
    "array_aplanado = array_original.flatten()"
   ]
  },
  {
   "cell_type": "code",
   "execution_count": null,
   "id": "87734e5f-ab50-4d0d-8aa1-32b591a85777",
   "metadata": {},
   "outputs": [],
   "source": []
  }
 ],
 "metadata": {
  "kernelspec": {
   "display_name": "Python 3 (ipykernel)",
   "language": "python",
   "name": "python3"
  },
  "language_info": {
   "codemirror_mode": {
    "name": "ipython",
    "version": 3
   },
   "file_extension": ".py",
   "mimetype": "text/x-python",
   "name": "python",
   "nbconvert_exporter": "python",
   "pygments_lexer": "ipython3",
   "version": "3.12.7"
  }
 },
 "nbformat": 4,
 "nbformat_minor": 5
}
