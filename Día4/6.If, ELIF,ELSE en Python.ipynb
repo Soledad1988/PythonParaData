{
 "cells": [
  {
   "cell_type": "code",
   "execution_count": 2,
   "id": "920d5a9e-be12-4afe-b31d-9db63c18403d",
   "metadata": {},
   "outputs": [
    {
     "name": "stdin",
     "output_type": "stream",
     "text": [
      "Dime tu edad: 36\n"
     ]
    },
    {
     "name": "stdout",
     "output_type": "stream",
     "text": [
      "Adulto\n"
     ]
    }
   ],
   "source": [
    "edad = int(input(\"Dime tu edad:\"))\n",
    "\n",
    "if edad >= 18:\n",
    "    print(\"Adulto\")\n",
    "else:\n",
    "    print(\"Menor\")"
   ]
  },
  {
   "cell_type": "code",
   "execution_count": 6,
   "id": "0b30feee-b4da-482b-af5c-fea3caa62b4f",
   "metadata": {},
   "outputs": [
    {
     "name": "stdin",
     "output_type": "stream",
     "text": [
      "Dime tu edad: 13\n"
     ]
    },
    {
     "name": "stdout",
     "output_type": "stream",
     "text": [
      "Adolescente\n"
     ]
    }
   ],
   "source": [
    "edad = int(input(\"Dime tu edad:\"))\n",
    "\n",
    "if edad >= 18:\n",
    "    print(\"Adulto\")\n",
    "elif edad >= 13:\n",
    "    print(\"Adolescente\")\n",
    "else:\n",
    "    print(\"Niño\")"
   ]
  },
  {
   "cell_type": "code",
   "execution_count": 8,
   "id": "a7445796-2bb3-42f8-ae71-e5dc1a5b48d1",
   "metadata": {},
   "outputs": [
    {
     "name": "stdin",
     "output_type": "stream",
     "text": [
      "Ingresa x1: 2\n",
      "Ingresa x2: 3\n",
      "Ingresa x3 4\n"
     ]
    },
    {
     "name": "stdout",
     "output_type": "stream",
     "text": [
      "4\n"
     ]
    }
   ],
   "source": [
    "x1, x2, x3 = int(input(\"Ingresa x1:\")), int(input(\"Ingresa x2:\")), int(input(\"Ingresa x3\"))\n",
    "\n",
    "if x1 > x2:\n",
    "    if x1 > x3:\n",
    "        maximo = x1\n",
    "    else:\n",
    "        maximo = x3\n",
    "elif x2 > x3:\n",
    "    maximo = x2\n",
    "else:\n",
    "    maximo = x3\n",
    "\n",
    "print(maximo)"
   ]
  },
  {
   "cell_type": "code",
   "execution_count": null,
   "id": "1c612a36-0993-4d43-8e1c-ee08491a4cbd",
   "metadata": {},
   "outputs": [],
   "source": []
  }
 ],
 "metadata": {
  "kernelspec": {
   "display_name": "Python 3 (ipykernel)",
   "language": "python",
   "name": "python3"
  },
  "language_info": {
   "codemirror_mode": {
    "name": "ipython",
    "version": 3
   },
   "file_extension": ".py",
   "mimetype": "text/x-python",
   "name": "python",
   "nbconvert_exporter": "python",
   "pygments_lexer": "ipython3",
   "version": "3.12.7"
  }
 },
 "nbformat": 4,
 "nbformat_minor": 5
}
