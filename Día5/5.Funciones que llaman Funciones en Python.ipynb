{
 "cells": [
  {
   "cell_type": "code",
   "execution_count": 1,
   "id": "fdcc04b7-7aae-473c-aa20-614a49af9bc6",
   "metadata": {},
   "outputs": [],
   "source": [
    "def pedir_nombre():\n",
    "    nombre = input(\"Dime tu nombre: \")\n",
    "    return nombre"
   ]
  },
  {
   "cell_type": "code",
   "execution_count": 3,
   "id": "4eeb08fe-b4d4-488b-bd2a-2fb9ab1d6052",
   "metadata": {},
   "outputs": [],
   "source": [
    "def pedir_apellido():\n",
    "    apellido = input(\"Dime tu apellido: \")\n",
    "    return apellido"
   ]
  },
  {
   "cell_type": "code",
   "execution_count": 5,
   "id": "ea433705-6fae-4d90-88b7-d0ecb596a5c8",
   "metadata": {},
   "outputs": [],
   "source": [
    "def saludar():\n",
    "    saludo = f\"Hola {pedir_nombre()} {pedir_apellido()}\"\n",
    "    print(saludo)"
   ]
  },
  {
   "cell_type": "code",
   "execution_count": 7,
   "id": "e19de2c8-8bd1-49c4-8a16-678aa335101d",
   "metadata": {},
   "outputs": [
    {
     "name": "stdin",
     "output_type": "stream",
     "text": [
      "Dime tu nombre:  Maria\n",
      "Dime tu apellido:  Merlo\n"
     ]
    },
    {
     "name": "stdout",
     "output_type": "stream",
     "text": [
      "Hola Maria Merlo\n"
     ]
    }
   ],
   "source": [
    "saludar()"
   ]
  },
  {
   "cell_type": "code",
   "execution_count": 9,
   "id": "0fe3e67c-4986-4210-baec-0f1e54188139",
   "metadata": {},
   "outputs": [],
   "source": [
    "mi_lista = [1, 2, 3, 4, 5]\n",
    "\n",
    "def cuadrado(n):\n",
    "    return n * n\n",
    "\n",
    "def calcular_lista(numeros):\n",
    "    for numero in numeros:\n",
    "        resultado = cuadrado(numero)\n",
    "        print(f\"El cuadrado de {numero} es {resultado}\")"
   ]
  },
  {
   "cell_type": "code",
   "execution_count": 11,
   "id": "0075ff35-d139-496d-83be-8b6938d2b10d",
   "metadata": {},
   "outputs": [
    {
     "name": "stdout",
     "output_type": "stream",
     "text": [
      "El cuadrado de 1 es 1\n",
      "El cuadrado de 2 es 4\n",
      "El cuadrado de 3 es 9\n",
      "El cuadrado de 4 es 16\n",
      "El cuadrado de 5 es 25\n"
     ]
    }
   ],
   "source": [
    "calcular_lista(mi_lista)"
   ]
  },
  {
   "cell_type": "code",
   "execution_count": null,
   "id": "5c30bdb5-cfce-4ffe-8199-043c99c572a3",
   "metadata": {},
   "outputs": [],
   "source": []
  }
 ],
 "metadata": {
  "kernelspec": {
   "display_name": "Python 3 (ipykernel)",
   "language": "python",
   "name": "python3"
  },
  "language_info": {
   "codemirror_mode": {
    "name": "ipython",
    "version": 3
   },
   "file_extension": ".py",
   "mimetype": "text/x-python",
   "name": "python",
   "nbconvert_exporter": "python",
   "pygments_lexer": "ipython3",
   "version": "3.12.7"
  }
 },
 "nbformat": 4,
 "nbformat_minor": 5
}
