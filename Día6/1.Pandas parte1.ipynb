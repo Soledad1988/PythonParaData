{
 "cells": [
  {
   "cell_type": "markdown",
   "id": "a49c8ef0-2aea-4de9-982b-616043568414",
   "metadata": {},
   "source": [
    "¿Qué es Pandas?\n",
    "\n",
    "Definición: Pandas es una biblioteca de software (paquete) que agrega funcionalidades a Python para la manipulación y el análisis de datos.\n",
    "Usos Principales: Se utiliza principalmente para la limpieza de datos, análisis exploratorio, y visualización de datos estadísticos.\n",
    "Importancia de Pandas en Data Science\n",
    "\n",
    "Facilita el Manejo de Datos: Pandas simplifica el manejo de datos, para enfocarnos en el análisis.\n",
    "Adaptado a Diferentes Fuentes de Datos: Puede trabajar con una variedad de formatos de datos, como CSV, Excel, bases de datos SQL, entre otros.\n",
    "Esencial para Análisis de Datos: Es una herramienta clave en cualquier flujo de trabajo de Data Science para la preparación y exploración de datos.\n",
    "Importación de Pandas\n",
    "\n",
    "¿Dónde está Pandas?: A pesar de que Pandas no forma parte de la estructura original de Python, es una librería adicional que Anaconda instaló en nuestro ordenador al mismo momento que instaló Python.\n",
    "\n",
    "Importar Pandas: A pesar de que ya está instalado, debes importarlo a tu entorno de trabajo (cuaderno) para utilizarlo en el código de python.\n",
    "Comando de importación: "
   ]
  },
  {
   "cell_type": "code",
   "execution_count": 2,
   "id": "560697b1-7c74-4581-b476-e4b708aa6fee",
   "metadata": {},
   "outputs": [],
   "source": [
    "import pandas as pd"
   ]
  },
  {
   "cell_type": "code",
   "execution_count": null,
   "id": "7546e346-ec55-4175-85d1-8f504b52508a",
   "metadata": {},
   "outputs": [],
   "source": []
  }
 ],
 "metadata": {
  "kernelspec": {
   "display_name": "Python 3 (ipykernel)",
   "language": "python",
   "name": "python3"
  },
  "language_info": {
   "codemirror_mode": {
    "name": "ipython",
    "version": 3
   },
   "file_extension": ".py",
   "mimetype": "text/x-python",
   "name": "python",
   "nbconvert_exporter": "python",
   "pygments_lexer": "ipython3",
   "version": "3.12.7"
  }
 },
 "nbformat": 4,
 "nbformat_minor": 5
}
