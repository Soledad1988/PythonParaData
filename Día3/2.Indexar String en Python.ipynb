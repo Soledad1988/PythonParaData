{
 "cells": [
  {
   "cell_type": "code",
   "execution_count": 3,
   "id": "d33b4bf2-c100-4a36-b124-193cc326a58c",
   "metadata": {},
   "outputs": [],
   "source": [
    "palabra = \"manzana\""
   ]
  },
  {
   "cell_type": "code",
   "execution_count": 5,
   "id": "6ec6734e-04b0-48b5-9080-7595c5fd268c",
   "metadata": {},
   "outputs": [
    {
     "data": {
      "text/plain": [
       "'m'"
      ]
     },
     "execution_count": 5,
     "metadata": {},
     "output_type": "execute_result"
    }
   ],
   "source": [
    "palabra[0]"
   ]
  },
  {
   "cell_type": "code",
   "execution_count": 7,
   "id": "f24d2cc7-fba6-4b14-a058-2826509a2682",
   "metadata": {},
   "outputs": [
    {
     "data": {
      "text/plain": [
       "'a'"
      ]
     },
     "execution_count": 7,
     "metadata": {},
     "output_type": "execute_result"
    }
   ],
   "source": [
    "palabra[1]"
   ]
  },
  {
   "cell_type": "code",
   "execution_count": 9,
   "id": "6f40c3e5-d2ca-4556-bfea-33cb9ff95855",
   "metadata": {},
   "outputs": [
    {
     "data": {
      "text/plain": [
       "'a'"
      ]
     },
     "execution_count": 9,
     "metadata": {},
     "output_type": "execute_result"
    }
   ],
   "source": [
    "palabra[-1]"
   ]
  },
  {
   "cell_type": "code",
   "execution_count": 11,
   "id": "0b803d72-fe6e-48b0-8f51-0213df5c828f",
   "metadata": {},
   "outputs": [
    {
     "data": {
      "text/plain": [
       "'n'"
      ]
     },
     "execution_count": 11,
     "metadata": {},
     "output_type": "execute_result"
    }
   ],
   "source": [
    "palabra[-2]"
   ]
  },
  {
   "cell_type": "code",
   "execution_count": 13,
   "id": "6c9ef047-a729-4f5e-a150-e92f23247759",
   "metadata": {},
   "outputs": [
    {
     "data": {
      "text/plain": [
       "'manz'"
      ]
     },
     "execution_count": 13,
     "metadata": {},
     "output_type": "execute_result"
    }
   ],
   "source": [
    "palabra[0:4]"
   ]
  },
  {
   "cell_type": "code",
   "execution_count": 15,
   "id": "8fa6eceb-9b3a-4693-9309-02c3fbeed09a",
   "metadata": {},
   "outputs": [
    {
     "data": {
      "text/plain": [
       "'man'"
      ]
     },
     "execution_count": 15,
     "metadata": {},
     "output_type": "execute_result"
    }
   ],
   "source": [
    "palabra[:3]"
   ]
  },
  {
   "cell_type": "code",
   "execution_count": 17,
   "id": "bb4ad69e-d196-46f8-8de3-ce63b7007003",
   "metadata": {},
   "outputs": [
    {
     "data": {
      "text/plain": [
       "'ana'"
      ]
     },
     "execution_count": 17,
     "metadata": {},
     "output_type": "execute_result"
    }
   ],
   "source": [
    "palabra[4:7]"
   ]
  },
  {
   "cell_type": "code",
   "execution_count": 19,
   "id": "c290380f-a34a-4c55-9e23-3882ad4fd59d",
   "metadata": {},
   "outputs": [
    {
     "data": {
      "text/plain": [
       "'ana'"
      ]
     },
     "execution_count": 19,
     "metadata": {},
     "output_type": "execute_result"
    }
   ],
   "source": [
    "palabra[4:]"
   ]
  },
  {
   "cell_type": "code",
   "execution_count": 21,
   "id": "0fae79ca-8702-477b-976a-5f7f1e72cf1e",
   "metadata": {},
   "outputs": [
    {
     "data": {
      "text/plain": [
       "'mn'"
      ]
     },
     "execution_count": 21,
     "metadata": {},
     "output_type": "execute_result"
    }
   ],
   "source": [
    "palabra[0:4:2]"
   ]
  },
  {
   "cell_type": "code",
   "execution_count": 23,
   "id": "d4db5010-56c4-4db2-806f-6cfc3dee52cc",
   "metadata": {},
   "outputs": [
    {
     "data": {
      "text/plain": [
       "'mza'"
      ]
     },
     "execution_count": 23,
     "metadata": {},
     "output_type": "execute_result"
    }
   ],
   "source": [
    "palabra[::3]"
   ]
  },
  {
   "cell_type": "code",
   "execution_count": 25,
   "id": "aa161597-8f46-4f6c-b03f-fb365a042046",
   "metadata": {},
   "outputs": [
    {
     "data": {
      "text/plain": [
       "'MANZ'"
      ]
     },
     "execution_count": 25,
     "metadata": {},
     "output_type": "execute_result"
    }
   ],
   "source": [
    "palabra[0:4].upper()"
   ]
  },
  {
   "cell_type": "code",
   "execution_count": null,
   "id": "78f83124-9911-44f1-b120-caf1e7f3bb09",
   "metadata": {},
   "outputs": [],
   "source": []
  }
 ],
 "metadata": {
  "kernelspec": {
   "display_name": "Python 3 (ipykernel)",
   "language": "python",
   "name": "python3"
  },
  "language_info": {
   "codemirror_mode": {
    "name": "ipython",
    "version": 3
   },
   "file_extension": ".py",
   "mimetype": "text/x-python",
   "name": "python",
   "nbconvert_exporter": "python",
   "pygments_lexer": "ipython3",
   "version": "3.12.7"
  }
 },
 "nbformat": 4,
 "nbformat_minor": 5
}
