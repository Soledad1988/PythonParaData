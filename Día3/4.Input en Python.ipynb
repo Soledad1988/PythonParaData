{
 "cells": [
  {
   "cell_type": "code",
   "execution_count": 1,
   "id": "8921afd8-0bd3-4e40-b890-d850fb808e64",
   "metadata": {},
   "outputs": [
    {
     "name": "stdin",
     "output_type": "stream",
     "text": [
      " hola mundo\n"
     ]
    },
    {
     "data": {
      "text/plain": [
       "'hola mundo'"
      ]
     },
     "execution_count": 1,
     "metadata": {},
     "output_type": "execute_result"
    }
   ],
   "source": [
    "input()"
   ]
  },
  {
   "cell_type": "code",
   "execution_count": 3,
   "id": "03be4fa8-3dea-4609-a526-e529c637edd1",
   "metadata": {},
   "outputs": [
    {
     "name": "stdin",
     "output_type": "stream",
     "text": [
      "Dime tu edad: 13\n"
     ]
    },
    {
     "data": {
      "text/plain": [
       "'13'"
      ]
     },
     "execution_count": 3,
     "metadata": {},
     "output_type": "execute_result"
    }
   ],
   "source": [
    "input(\"Dime tu edad:\")"
   ]
  },
  {
   "cell_type": "code",
   "execution_count": 5,
   "id": "ff374406-1dc9-4de7-9dba-59236a433812",
   "metadata": {},
   "outputs": [
    {
     "name": "stdin",
     "output_type": "stream",
     "text": [
      "Por favor, dime tu nombre: Brenda\n"
     ]
    },
    {
     "name": "stdout",
     "output_type": "stream",
     "text": [
      "Hola Brenda!\n"
     ]
    }
   ],
   "source": [
    "nombre = input(\"Por favor, dime tu nombre:\")\n",
    "print(\"Hola \" + nombre + \"!\")"
   ]
  },
  {
   "cell_type": "code",
   "execution_count": 7,
   "id": "a2fe7c58-9ce0-4c9c-a170-189c728f3d1a",
   "metadata": {},
   "outputs": [
    {
     "name": "stdin",
     "output_type": "stream",
     "text": [
      "Dime tu edad: 33\n"
     ]
    }
   ],
   "source": [
    "edad = input(\"Dime tu edad:\")"
   ]
  },
  {
   "cell_type": "code",
   "execution_count": 9,
   "id": "192ba6b7-05c8-4683-8ef0-11748a1adb93",
   "metadata": {},
   "outputs": [
    {
     "data": {
      "text/plain": [
       "str"
      ]
     },
     "execution_count": 9,
     "metadata": {},
     "output_type": "execute_result"
    }
   ],
   "source": [
    "type(edad)"
   ]
  },
  {
   "cell_type": "code",
   "execution_count": 11,
   "id": "ba929c2f-ac21-4238-ba79-594b72c346bc",
   "metadata": {},
   "outputs": [
    {
     "name": "stdin",
     "output_type": "stream",
     "text": [
      "Dime tu edad: 33\n"
     ]
    }
   ],
   "source": [
    "edad = int(input(\"Dime tu edad:\"))"
   ]
  },
  {
   "cell_type": "code",
   "execution_count": 27,
   "id": "15212691-472e-461e-8c2c-17c2a7522e17",
   "metadata": {},
   "outputs": [
    {
     "data": {
      "text/plain": [
       "int"
      ]
     },
     "execution_count": 27,
     "metadata": {},
     "output_type": "execute_result"
    }
   ],
   "source": [
    "type(edad)"
   ]
  },
  {
   "cell_type": "code",
   "execution_count": 29,
   "id": "bb60fdfb-a32b-481b-8870-4a6671ae8e3f",
   "metadata": {},
   "outputs": [
    {
     "ename": "SyntaxError",
     "evalue": "incomplete input (450403182.py, line 4)",
     "output_type": "error",
     "traceback": [
      "\u001b[1;36m  Cell \u001b[1;32mIn[29], line 4\u001b[1;36m\u001b[0m\n\u001b[1;33m    print(\"La suma es \" + srt(suma)\u001b[0m\n\u001b[1;37m                                   ^\u001b[0m\n\u001b[1;31mSyntaxError\u001b[0m\u001b[1;31m:\u001b[0m incomplete input\n"
     ]
    }
   ],
   "source": [
    "a = int(input(\"Ingrese el primer número:\"))\n",
    "b = int(input(\"Ingrese el segundo número:\"))\n",
    "suma = a + b\n",
    "print(\"La suma es \" + srt(suma)"
   ]
  },
  {
   "cell_type": "code",
   "execution_count": null,
   "id": "9b750be1-6e3d-4089-a61e-7f573260fa79",
   "metadata": {},
   "outputs": [],
   "source": []
  },
  {
   "cell_type": "code",
   "execution_count": null,
   "id": "3b94b322-df1a-4ae1-95b5-c0a4cc00de99",
   "metadata": {},
   "outputs": [],
   "source": []
  },
  {
   "cell_type": "code",
   "execution_count": null,
   "id": "b7416f39-3ff6-4ba6-b68d-c15d52c26705",
   "metadata": {},
   "outputs": [],
   "source": [
    "\n"
   ]
  },
  {
   "cell_type": "code",
   "execution_count": null,
   "id": "6724c1a7-cb4c-4e17-8722-4193e28ac743",
   "metadata": {},
   "outputs": [],
   "source": []
  }
 ],
 "metadata": {
  "kernelspec": {
   "display_name": "Python 3 (ipykernel)",
   "language": "python",
   "name": "python3"
  },
  "language_info": {
   "codemirror_mode": {
    "name": "ipython",
    "version": 3
   },
   "file_extension": ".py",
   "mimetype": "text/x-python",
   "name": "python",
   "nbconvert_exporter": "python",
   "pygments_lexer": "ipython3",
   "version": "3.12.7"
  }
 },
 "nbformat": 4,
 "nbformat_minor": 5
}
