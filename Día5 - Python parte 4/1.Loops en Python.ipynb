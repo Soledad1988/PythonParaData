{
 "cells": [
  {
   "cell_type": "code",
   "execution_count": 3,
   "id": "384eaa8a-ea7e-4ba9-b4c5-5563a8ade188",
   "metadata": {},
   "outputs": [
    {
     "name": "stdout",
     "output_type": "stream",
     "text": [
      "0\n",
      "1\n",
      "2\n",
      "3\n",
      "4\n",
      "5\n"
     ]
    }
   ],
   "source": [
    "#Loop es bucle, un bloque de codigo que se ejecuta y cuando finaliza, se vuelve a ejecutar otra vez\n",
    "# hasta que se active una condicion que lo detenga\n",
    "# Loop For\n",
    "# For item in secuencia:\n",
    "#    codigo a ejecutar\n",
    "for n in [0, 1, 2, 3, 4, 5]:\n",
    "    print(n)"
   ]
  },
  {
   "cell_type": "code",
   "execution_count": 5,
   "id": "f0f62ded-3be1-4d6d-aa7c-465673528bc2",
   "metadata": {},
   "outputs": [
    {
     "name": "stdout",
     "output_type": "stream",
     "text": [
      "p\n",
      "y\n",
      "t\n",
      "h\n",
      "o\n",
      "n\n"
     ]
    }
   ],
   "source": [
    "for letra in \"python\":\n",
    "    print(letra)"
   ]
  },
  {
   "cell_type": "code",
   "execution_count": 7,
   "id": "a47df881-dcce-4a38-b2cf-8ef17189cf05",
   "metadata": {},
   "outputs": [
    {
     "name": "stdout",
     "output_type": "stream",
     "text": [
      "Argentina tiene 9 letras\n",
      "Colombia tiene 8 letras\n",
      "Perú tiene 4 letras\n",
      "México tiene 6 letras\n"
     ]
    }
   ],
   "source": [
    "paises = [\"Argentina\", \"Colombia\", \"Perú\", \"México\"]\n",
    "\n",
    "for p in paises:\n",
    "    largo = len(p)\n",
    "    print(f\"{p} tiene {largo} letras\")"
   ]
  },
  {
   "cell_type": "code",
   "execution_count": 9,
   "id": "934c5f0c-9a00-466e-a55d-6e0ee3f85111",
   "metadata": {},
   "outputs": [
    {
     "name": "stdout",
     "output_type": "stream",
     "text": [
      "Argentina tiene nombre largo\n",
      "Colombia tiene nombre largo\n",
      "Perú tiene nombre corto\n",
      "México tiene nombre corto\n"
     ]
    }
   ],
   "source": [
    "for p in paises:\n",
    "    if len(p) > 6:\n",
    "        print(f\"{p} tiene nombre largo\")\n",
    "    else:\n",
    "        print(f\"{p} tiene nombre corto\")"
   ]
  },
  {
   "cell_type": "code",
   "execution_count": 11,
   "id": "cb2d1f71-6b66-4d3b-99e6-08e237596141",
   "metadata": {},
   "outputs": [
    {
     "name": "stdout",
     "output_type": "stream",
     "text": [
      "sombrero rojo\n",
      "pantalon rojo\n",
      "zapato rojo\n",
      "sombrero azul\n",
      "pantalon azul\n",
      "zapato azul\n",
      "sombrero verde\n",
      "pantalon verde\n",
      "zapato verde\n"
     ]
    }
   ],
   "source": [
    "colores = [\"rojo\", \"azul\", \"verde\"]\n",
    "prendas = [\"sombrero\", \"pantalon\", \"zapato\"]\n",
    "\n",
    "for color in colores:\n",
    "    for prenda in prendas:\n",
    "        print(prenda, color)"
   ]
  },
  {
   "cell_type": "code",
   "execution_count": null,
   "id": "8bd33b19-660d-48b0-9218-f6628b92bb07",
   "metadata": {},
   "outputs": [],
   "source": []
  }
 ],
 "metadata": {
  "kernelspec": {
   "display_name": "Python 3 (ipykernel)",
   "language": "python",
   "name": "python3"
  },
  "language_info": {
   "codemirror_mode": {
    "name": "ipython",
    "version": 3
   },
   "file_extension": ".py",
   "mimetype": "text/x-python",
   "name": "python",
   "nbconvert_exporter": "python",
   "pygments_lexer": "ipython3",
   "version": "3.12.7"
  }
 },
 "nbformat": 4,
 "nbformat_minor": 5
}
