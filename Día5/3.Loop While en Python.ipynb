{
 "cells": [
  {
   "cell_type": "code",
   "execution_count": 7,
   "id": "5acd8cfc-6113-4130-a387-da2d38bc88a7",
   "metadata": {},
   "outputs": [],
   "source": [
    "#While no repite un numero determinad de veces, sino constantemente y se detendrá al\n",
    "#cumplirse una condicion\n"
   ]
  },
  {
   "cell_type": "code",
   "execution_count": 9,
   "id": "1abf2d5a-e7ba-4be8-8249-35d78624caf0",
   "metadata": {},
   "outputs": [
    {
     "name": "stdout",
     "output_type": "stream",
     "text": [
      "0\n",
      "1\n",
      "2\n",
      "3\n",
      "4\n"
     ]
    }
   ],
   "source": [
    "contador = 0\n",
    "\n",
    "while contador < 5:\n",
    "    print(contador)\n",
    "    contador += 1"
   ]
  },
  {
   "cell_type": "code",
   "execution_count": 11,
   "id": "17e4a473-1cb8-4797-be0a-5529dedf1013",
   "metadata": {},
   "outputs": [
    {
     "name": "stdout",
     "output_type": "stream",
     "text": [
      "1\n",
      "2\n",
      "3\n",
      "4\n",
      "6\n",
      "7\n"
     ]
    }
   ],
   "source": [
    "contador = 0\n",
    "\n",
    "while contador < 10:\n",
    "    contador += 1\n",
    "    if contador == 5:\n",
    "        continue\n",
    "    if contador == 8:\n",
    "        break\n",
    "    print(contador)"
   ]
  },
  {
   "cell_type": "code",
   "execution_count": null,
   "id": "298f3eb0-a8e8-4415-8c54-473dcbb8777b",
   "metadata": {},
   "outputs": [],
   "source": []
  }
 ],
 "metadata": {
  "kernelspec": {
   "display_name": "Python 3 (ipykernel)",
   "language": "python",
   "name": "python3"
  },
  "language_info": {
   "codemirror_mode": {
    "name": "ipython",
    "version": 3
   },
   "file_extension": ".py",
   "mimetype": "text/x-python",
   "name": "python",
   "nbconvert_exporter": "python",
   "pygments_lexer": "ipython3",
   "version": "3.12.7"
  }
 },
 "nbformat": 4,
 "nbformat_minor": 5
}
