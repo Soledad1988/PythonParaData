{
 "cells": [
  {
   "cell_type": "code",
   "execution_count": 1,
   "id": "0197060b-455f-40ee-9d40-475e12d165b1",
   "metadata": {},
   "outputs": [],
   "source": [
    "# Operaciones matemáticas\n",
    "# Suma +\n",
    "# Resta -\n",
    "# Multiplicación *\n",
    "# División /\n",
    "# División al piso //\n",
    "# Modulo %\n",
    "# Potencia y Raiz **"
   ]
  },
  {
   "cell_type": "code",
   "execution_count": 3,
   "id": "54cb8122-94ad-4471-b24c-611bc09f94b7",
   "metadata": {},
   "outputs": [
    {
     "data": {
      "text/plain": [
       "4"
      ]
     },
     "execution_count": 3,
     "metadata": {},
     "output_type": "execute_result"
    }
   ],
   "source": [
    "# Suma +\n",
    "2 + 2"
   ]
  },
  {
   "cell_type": "code",
   "execution_count": 5,
   "id": "4ec7df84-c5e4-4331-b9a5-385ed75807db",
   "metadata": {},
   "outputs": [
    {
     "data": {
      "text/plain": [
       "7.0"
      ]
     },
     "execution_count": 5,
     "metadata": {},
     "output_type": "execute_result"
    }
   ],
   "source": [
    "# Resta -\n",
    "8.5 - 1.5"
   ]
  },
  {
   "cell_type": "code",
   "execution_count": 7,
   "id": "0fecc6ae-28cf-4452-9fbd-65c800a9a519",
   "metadata": {},
   "outputs": [
    {
     "data": {
      "text/plain": [
       "7.0"
      ]
     },
     "execution_count": 7,
     "metadata": {},
     "output_type": "execute_result"
    }
   ],
   "source": [
    "# Multiplicación *\n",
    "2 * 3.5"
   ]
  },
  {
   "cell_type": "code",
   "execution_count": 9,
   "id": "f4bd6bbc-41ac-45b2-983d-facc7f13b0c5",
   "metadata": {},
   "outputs": [
    {
     "data": {
      "text/plain": [
       "3.3333333333333335"
      ]
     },
     "execution_count": 9,
     "metadata": {},
     "output_type": "execute_result"
    }
   ],
   "source": [
    "# División /\n",
    "10 / 3"
   ]
  },
  {
   "cell_type": "code",
   "execution_count": 13,
   "id": "593e0ad1-24a2-4c38-9b02-7ef644dd19c8",
   "metadata": {},
   "outputs": [
    {
     "data": {
      "text/plain": [
       "3"
      ]
     },
     "execution_count": 13,
     "metadata": {},
     "output_type": "execute_result"
    }
   ],
   "source": [
    "# División al piso //\n",
    "10 // 3"
   ]
  },
  {
   "cell_type": "code",
   "execution_count": 17,
   "id": "3228a127-bee8-4714-8a20-12d9ab0e419a",
   "metadata": {},
   "outputs": [
    {
     "data": {
      "text/plain": [
       "1"
      ]
     },
     "execution_count": 17,
     "metadata": {},
     "output_type": "execute_result"
    }
   ],
   "source": [
    "# Modulo % - resto - lo que sobra\n",
    "10 % 3"
   ]
  },
  {
   "cell_type": "code",
   "execution_count": 19,
   "id": "f7a8b945-e8bc-46d0-a674-221f5fbdafeb",
   "metadata": {},
   "outputs": [],
   "source": [
    "# Operaciones con números complejos\n",
    "a = 3 + 5j\n",
    "b = 2 + 2j"
   ]
  },
  {
   "cell_type": "code",
   "execution_count": 21,
   "id": "2be0ddcf-e74a-4659-8a73-77f93f4abf9e",
   "metadata": {},
   "outputs": [
    {
     "data": {
      "text/plain": [
       "(5+7j)"
      ]
     },
     "execution_count": 21,
     "metadata": {},
     "output_type": "execute_result"
    }
   ],
   "source": [
    "a + b"
   ]
  },
  {
   "cell_type": "code",
   "execution_count": 23,
   "id": "4a43979d-c7c4-4836-bdca-5695c130b785",
   "metadata": {},
   "outputs": [],
   "source": [
    "num = '1'"
   ]
  },
  {
   "cell_type": "code",
   "execution_count": 27,
   "id": "7ae0ef05-d0a6-43a9-9f53-d93f754275d3",
   "metadata": {},
   "outputs": [
    {
     "data": {
      "text/plain": [
       "'11'"
      ]
     },
     "execution_count": 27,
     "metadata": {},
     "output_type": "execute_result"
    }
   ],
   "source": [
    "# Como resultado nos da una concatenacion\n",
    "num + num"
   ]
  },
  {
   "cell_type": "code",
   "execution_count": 29,
   "id": "7d827c96-9007-4ff1-b465-2fd15a981fc4",
   "metadata": {},
   "outputs": [
    {
     "data": {
      "text/plain": [
       "'federico'"
      ]
     },
     "execution_count": 29,
     "metadata": {},
     "output_type": "execute_result"
    }
   ],
   "source": [
    "\"fede\" + \"rico\""
   ]
  },
  {
   "cell_type": "code",
   "execution_count": 31,
   "id": "a9033f6a-89a6-4342-a8ea-a133acf97007",
   "metadata": {},
   "outputs": [
    {
     "ename": "TypeError",
     "evalue": "unsupported operand type(s) for +: 'int' and 'str'",
     "output_type": "error",
     "traceback": [
      "\u001b[1;31m---------------------------------------------------------------------------\u001b[0m",
      "\u001b[1;31mTypeError\u001b[0m                                 Traceback (most recent call last)",
      "Cell \u001b[1;32mIn[31], line 1\u001b[0m\n\u001b[1;32m----> 1\u001b[0m \u001b[38;5;241m1\u001b[39m \u001b[38;5;241m+\u001b[39m num\n",
      "\u001b[1;31mTypeError\u001b[0m: unsupported operand type(s) for +: 'int' and 'str'"
     ]
    }
   ],
   "source": [
    "1 + num"
   ]
  },
  {
   "cell_type": "code",
   "execution_count": 33,
   "id": "e58f2940-edc8-492e-8a5f-7c4b03025b4e",
   "metadata": {},
   "outputs": [
    {
     "data": {
      "text/plain": [
       "2"
      ]
     },
     "execution_count": 33,
     "metadata": {},
     "output_type": "execute_result"
    }
   ],
   "source": [
    "1 + int(num)"
   ]
  },
  {
   "cell_type": "code",
   "execution_count": 35,
   "id": "b511ba0b-af8f-412b-b665-eeabacb610c2",
   "metadata": {},
   "outputs": [
    {
     "data": {
      "text/plain": [
       "25"
      ]
     },
     "execution_count": 35,
     "metadata": {},
     "output_type": "execute_result"
    }
   ],
   "source": [
    "# Potencia **\n",
    "5 ** 2"
   ]
  },
  {
   "cell_type": "code",
   "execution_count": 39,
   "id": "8869ab0e-1c91-4753-85c7-52f5459b2907",
   "metadata": {},
   "outputs": [
    {
     "data": {
      "text/plain": [
       "5.0"
      ]
     },
     "execution_count": 39,
     "metadata": {},
     "output_type": "execute_result"
    }
   ],
   "source": [
    "# Raiz ** cuadrada\n",
    "25 ** 0.5"
   ]
  },
  {
   "cell_type": "code",
   "execution_count": 41,
   "id": "3b9808b3-1d92-4d40-8c01-42345f3a715e",
   "metadata": {},
   "outputs": [
    {
     "data": {
      "text/plain": [
       "2.924017738212866"
      ]
     },
     "execution_count": 41,
     "metadata": {},
     "output_type": "execute_result"
    }
   ],
   "source": [
    "# Raiz ** cubica\n",
    "25 ** (1/3)"
   ]
  },
  {
   "cell_type": "code",
   "execution_count": null,
   "id": "e10fe082-048f-4451-a643-a223ef8b6b00",
   "metadata": {},
   "outputs": [],
   "source": []
  }
 ],
 "metadata": {
  "kernelspec": {
   "display_name": "Python 3 (ipykernel)",
   "language": "python",
   "name": "python3"
  },
  "language_info": {
   "codemirror_mode": {
    "name": "ipython",
    "version": 3
   },
   "file_extension": ".py",
   "mimetype": "text/x-python",
   "name": "python",
   "nbconvert_exporter": "python",
   "pygments_lexer": "ipython3",
   "version": "3.12.7"
  }
 },
 "nbformat": 4,
 "nbformat_minor": 5
}
