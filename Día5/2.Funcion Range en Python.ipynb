{
 "cells": [
  {
   "cell_type": "code",
   "execution_count": 13,
   "id": "05eeed2a-f81f-437d-aeaf-0b5634205a88",
   "metadata": {},
   "outputs": [],
   "source": [
    "# Funcion Range, rango devuelve un rango de números"
   ]
  },
  {
   "cell_type": "code",
   "execution_count": 3,
   "id": "8443b457-1285-4787-91ee-832cd4938db9",
   "metadata": {},
   "outputs": [],
   "source": [
    "miRango = range(7)"
   ]
  },
  {
   "cell_type": "code",
   "execution_count": 5,
   "id": "2909587c-aab5-4964-beb5-6199326a2819",
   "metadata": {},
   "outputs": [
    {
     "name": "stdout",
     "output_type": "stream",
     "text": [
      "0\n",
      "1\n",
      "2\n",
      "3\n",
      "4\n",
      "5\n",
      "6\n"
     ]
    }
   ],
   "source": [
    "for n in miRango:\n",
    "    print(n)"
   ]
  },
  {
   "cell_type": "code",
   "execution_count": 7,
   "id": "be96a895-1cd9-45e3-bd1d-bbb3434c84e1",
   "metadata": {},
   "outputs": [
    {
     "name": "stdout",
     "output_type": "stream",
     "text": [
      "5\n",
      "6\n",
      "7\n",
      "8\n",
      "9\n"
     ]
    }
   ],
   "source": [
    "miRango = range(5, 10)\n",
    "\n",
    "for n in miRango:\n",
    "    print(n)"
   ]
  },
  {
   "cell_type": "code",
   "execution_count": 9,
   "id": "ad518f9f-f4a9-4d95-af01-58ad44b44592",
   "metadata": {},
   "outputs": [
    {
     "name": "stdout",
     "output_type": "stream",
     "text": [
      "5\n",
      "7\n",
      "9\n"
     ]
    }
   ],
   "source": [
    "miRango = range(5, 10, 2)\n",
    "\n",
    "for n in miRango:\n",
    "    print(n)"
   ]
  },
  {
   "cell_type": "code",
   "execution_count": 11,
   "id": "fbafd284-a1dd-4fd5-b122-202ed6bff7fd",
   "metadata": {},
   "outputs": [
    {
     "name": "stdout",
     "output_type": "stream",
     "text": [
      "0\n",
      "1\n",
      "2\n",
      "3\n",
      "4\n",
      "5\n"
     ]
    }
   ],
   "source": [
    "palabra = \"python\"\n",
    "\n",
    "for n in range(len(palabra)):\n",
    "    print(n)"
   ]
  },
  {
   "cell_type": "code",
   "execution_count": null,
   "id": "b9de4f59-7545-4a62-acb4-5255da0c2673",
   "metadata": {},
   "outputs": [],
   "source": []
  }
 ],
 "metadata": {
  "kernelspec": {
   "display_name": "Python 3 (ipykernel)",
   "language": "python",
   "name": "python3"
  },
  "language_info": {
   "codemirror_mode": {
    "name": "ipython",
    "version": 3
   },
   "file_extension": ".py",
   "mimetype": "text/x-python",
   "name": "python",
   "nbconvert_exporter": "python",
   "pygments_lexer": "ipython3",
   "version": "3.12.7"
  }
 },
 "nbformat": 4,
 "nbformat_minor": 5
}
