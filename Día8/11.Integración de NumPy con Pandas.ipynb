{
 "cells": [
  {
   "attachments": {},
   "cell_type": "markdown",
   "id": "2f6f28c6",
   "metadata": {},
   "source": [
    "# Integración de NumPy con Pandas\n",
    "\n",
    "El objetivo de esta lección es que puedas comprender cómo pueden trabajar juntos NumPy y Pandas en el análisis de datos.\n",
    "\n",
    "Para eso, vamos a aprender a **convertir estructuras de datos** entre Pandas y NumPy.\n",
    "\n",
    "Pandas, como hemos visto, es una biblioteca de Python que proporciona estructuras de datos (*Series* y *DataFrames*), así como también nos brinda muchas y muy importantes herramientas de análisis de datos.\n",
    "\n",
    "NumPy y Pandas están estrechamente integrados, y de hecho, **Pandas se basa en NumPy** para realizar muchas de sus operaciones.\n",
    "\n",
    "Comencemos **importando ambas bibliotecas**, para disponer de todos los recursos de Pandas y de NumPy en un mismo cuaderno."
   ]
  },
  {
   "cell_type": "code",
   "execution_count": 1,
   "id": "0ae05fb1",
   "metadata": {},
   "outputs": [],
   "source": [
    "import pandas as pd\n",
    "import numpy as np"
   ]
  },
  {
   "cell_type": "markdown",
   "id": "77b77bd6",
   "metadata": {},
   "source": [
    "Ahora voy a crear un pequeño DataFrame de ejemplo."
   ]
  },
  {
   "cell_type": "code",
   "execution_count": 2,
   "id": "021a4dfd",
   "metadata": {},
   "outputs": [
    {
     "data": {
      "text/html": [
       "<div>\n",
       "<style scoped>\n",
       "    .dataframe tbody tr th:only-of-type {\n",
       "        vertical-align: middle;\n",
       "    }\n",
       "\n",
       "    .dataframe tbody tr th {\n",
       "        vertical-align: top;\n",
       "    }\n",
       "\n",
       "    .dataframe thead th {\n",
       "        text-align: right;\n",
       "    }\n",
       "</style>\n",
       "<table border=\"1\" class=\"dataframe\">\n",
       "  <thead>\n",
       "    <tr style=\"text-align: right;\">\n",
       "      <th></th>\n",
       "      <th>Impares</th>\n",
       "      <th>Pares</th>\n",
       "    </tr>\n",
       "  </thead>\n",
       "  <tbody>\n",
       "    <tr>\n",
       "      <th>0</th>\n",
       "      <td>1</td>\n",
       "      <td>2</td>\n",
       "    </tr>\n",
       "    <tr>\n",
       "      <th>1</th>\n",
       "      <td>3</td>\n",
       "      <td>4</td>\n",
       "    </tr>\n",
       "    <tr>\n",
       "      <th>2</th>\n",
       "      <td>5</td>\n",
       "      <td>6</td>\n",
       "    </tr>\n",
       "  </tbody>\n",
       "</table>\n",
       "</div>"
      ],
      "text/plain": [
       "   Impares  Pares\n",
       "0        1      2\n",
       "1        3      4\n",
       "2        5      6"
      ]
     },
     "execution_count": 2,
     "metadata": {},
     "output_type": "execute_result"
    }
   ],
   "source": [
    "df = pd.DataFrame({\n",
    "    'Impares': [1, 3, 5],\n",
    "    'Pares': [2, 4, 6]\n",
    "})\n",
    "df"
   ]
  },
  {
   "attachments": {},
   "cell_type": "markdown",
   "id": "396b46b7",
   "metadata": {},
   "source": [
    "Ahora veamos cómo convertir DataFrames de Pandas en Arrays de NumPy.\n",
    "\n",
    "Esto es algo que podemos lograr de dos maneras:\n",
    "* con el atributo `.values`."
   ]
  },
  {
   "cell_type": "code",
   "execution_count": 3,
   "id": "76bcf6d5",
   "metadata": {},
   "outputs": [
    {
     "data": {
      "text/plain": [
       "array([[1, 2],\n",
       "       [3, 4],\n",
       "       [5, 6]], dtype=int64)"
      ]
     },
     "execution_count": 3,
     "metadata": {},
     "output_type": "execute_result"
    }
   ],
   "source": [
    "array_np1 = df.values\n",
    "array_np1"
   ]
  },
  {
   "cell_type": "markdown",
   "id": "b2655a73",
   "metadata": {},
   "source": [
    " * con el método `to_numpy()`."
   ]
  },
  {
   "cell_type": "code",
   "execution_count": 4,
   "id": "5989af13",
   "metadata": {},
   "outputs": [
    {
     "data": {
      "text/plain": [
       "array([[1, 2],\n",
       "       [3, 4],\n",
       "       [5, 6]], dtype=int64)"
      ]
     },
     "execution_count": 4,
     "metadata": {},
     "output_type": "execute_result"
    }
   ],
   "source": [
    "array_np2 = df.to_numpy()\n",
    "array_np2"
   ]
  },
  {
   "attachments": {},
   "cell_type": "markdown",
   "id": "9b7f2921",
   "metadata": {},
   "source": [
    "Ahora veamos cómo podemos hacer operaciones con Arrays de NumPy… en Pandas.\n",
    "\n",
    "Y lo genial de esto es que como **Pandas se basa en NumPy**, entonces las operaciones de NumPy **se pueden aplicar directamente** a columnas o filas de los DataFrames de Pandas."
   ]
  },
  {
   "cell_type": "code",
   "execution_count": 5,
   "id": "2511e422",
   "metadata": {},
   "outputs": [
    {
     "data": {
      "text/html": [
       "<div>\n",
       "<style scoped>\n",
       "    .dataframe tbody tr th:only-of-type {\n",
       "        vertical-align: middle;\n",
       "    }\n",
       "\n",
       "    .dataframe tbody tr th {\n",
       "        vertical-align: top;\n",
       "    }\n",
       "\n",
       "    .dataframe thead th {\n",
       "        text-align: right;\n",
       "    }\n",
       "</style>\n",
       "<table border=\"1\" class=\"dataframe\">\n",
       "  <thead>\n",
       "    <tr style=\"text-align: right;\">\n",
       "      <th></th>\n",
       "      <th>Impares</th>\n",
       "      <th>Pares</th>\n",
       "    </tr>\n",
       "  </thead>\n",
       "  <tbody>\n",
       "    <tr>\n",
       "      <th>0</th>\n",
       "      <td>1.000000</td>\n",
       "      <td>1.414214</td>\n",
       "    </tr>\n",
       "    <tr>\n",
       "      <th>1</th>\n",
       "      <td>1.732051</td>\n",
       "      <td>2.000000</td>\n",
       "    </tr>\n",
       "    <tr>\n",
       "      <th>2</th>\n",
       "      <td>2.236068</td>\n",
       "      <td>2.449490</td>\n",
       "    </tr>\n",
       "  </tbody>\n",
       "</table>\n",
       "</div>"
      ],
      "text/plain": [
       "    Impares     Pares\n",
       "0  1.000000  1.414214\n",
       "1  1.732051  2.000000\n",
       "2  2.236068  2.449490"
      ]
     },
     "execution_count": 5,
     "metadata": {},
     "output_type": "execute_result"
    }
   ],
   "source": [
    "np.sqrt(df)"
   ]
  },
  {
   "cell_type": "code",
   "execution_count": 6,
   "id": "9a4cba76",
   "metadata": {},
   "outputs": [
    {
     "data": {
      "text/plain": [
       "6"
      ]
     },
     "execution_count": 6,
     "metadata": {},
     "output_type": "execute_result"
    }
   ],
   "source": [
    "np.max(df)"
   ]
  },
  {
   "attachments": {},
   "cell_type": "markdown",
   "id": "367afc81",
   "metadata": {},
   "source": [
    "Entonces, como verás, no tendrás problema en aplicar todos los recursos que brinda NumPy en tus objetos de Pandas. Esto sí que es una gran virtud de ambas librerías.\n",
    "\n",
    "Ahora veamos el proceso contrario al que hicimos antes, y veamos **cómo convertir Arrays de NumPy en DataFrames de Pandas**.\n",
    "\n",
    "Esto es muy útil para también poder aprovechar las funcionalidades de Pandas en la manipulación de datos, y se logra simplemente pasando el array como argumento del método `DataFrame()`."
   ]
  },
  {
   "cell_type": "code",
   "execution_count": 7,
   "id": "d36e898b",
   "metadata": {},
   "outputs": [
    {
     "data": {
      "text/html": [
       "<div>\n",
       "<style scoped>\n",
       "    .dataframe tbody tr th:only-of-type {\n",
       "        vertical-align: middle;\n",
       "    }\n",
       "\n",
       "    .dataframe tbody tr th {\n",
       "        vertical-align: top;\n",
       "    }\n",
       "\n",
       "    .dataframe thead th {\n",
       "        text-align: right;\n",
       "    }\n",
       "</style>\n",
       "<table border=\"1\" class=\"dataframe\">\n",
       "  <thead>\n",
       "    <tr style=\"text-align: right;\">\n",
       "      <th></th>\n",
       "      <th>0</th>\n",
       "      <th>1</th>\n",
       "    </tr>\n",
       "  </thead>\n",
       "  <tbody>\n",
       "    <tr>\n",
       "      <th>0</th>\n",
       "      <td>1</td>\n",
       "      <td>2</td>\n",
       "    </tr>\n",
       "    <tr>\n",
       "      <th>1</th>\n",
       "      <td>3</td>\n",
       "      <td>4</td>\n",
       "    </tr>\n",
       "    <tr>\n",
       "      <th>2</th>\n",
       "      <td>5</td>\n",
       "      <td>6</td>\n",
       "    </tr>\n",
       "  </tbody>\n",
       "</table>\n",
       "</div>"
      ],
      "text/plain": [
       "   0  1\n",
       "0  1  2\n",
       "1  3  4\n",
       "2  5  6"
      ]
     },
     "execution_count": 7,
     "metadata": {},
     "output_type": "execute_result"
    }
   ],
   "source": [
    "df_desde_np = pd.DataFrame(array_np1)\n",
    "df_desde_np"
   ]
  },
  {
   "attachments": {},
   "cell_type": "markdown",
   "id": "fb7709a0",
   "metadata": {},
   "source": [
    "Observa, eso sí, que como los arrays no tienen columnas propiamente dichas, tampoco tienen nombres de columnas, y por eso al convertirse en DataFrame, Pandas le asigna automáticamente números a los encabezados de las columnas.\n",
    "\n",
    "Si quieres elegir nombres personalizados para tus columnas, lo puedes hacer con el parámetro `columns`:"
   ]
  },
  {
   "cell_type": "code",
   "execution_count": 8,
   "id": "97be0b1b",
   "metadata": {},
   "outputs": [
    {
     "data": {
      "text/html": [
       "<div>\n",
       "<style scoped>\n",
       "    .dataframe tbody tr th:only-of-type {\n",
       "        vertical-align: middle;\n",
       "    }\n",
       "\n",
       "    .dataframe tbody tr th {\n",
       "        vertical-align: top;\n",
       "    }\n",
       "\n",
       "    .dataframe thead th {\n",
       "        text-align: right;\n",
       "    }\n",
       "</style>\n",
       "<table border=\"1\" class=\"dataframe\">\n",
       "  <thead>\n",
       "    <tr style=\"text-align: right;\">\n",
       "      <th></th>\n",
       "      <th>Col1</th>\n",
       "      <th>Col2</th>\n",
       "    </tr>\n",
       "  </thead>\n",
       "  <tbody>\n",
       "    <tr>\n",
       "      <th>0</th>\n",
       "      <td>1</td>\n",
       "      <td>2</td>\n",
       "    </tr>\n",
       "    <tr>\n",
       "      <th>1</th>\n",
       "      <td>3</td>\n",
       "      <td>4</td>\n",
       "    </tr>\n",
       "    <tr>\n",
       "      <th>2</th>\n",
       "      <td>5</td>\n",
       "      <td>6</td>\n",
       "    </tr>\n",
       "  </tbody>\n",
       "</table>\n",
       "</div>"
      ],
      "text/plain": [
       "   Col1  Col2\n",
       "0     1     2\n",
       "1     3     4\n",
       "2     5     6"
      ]
     },
     "execution_count": 8,
     "metadata": {},
     "output_type": "execute_result"
    }
   ],
   "source": [
    "df_desde_np = pd.DataFrame(array_np1, columns=['Col1', 'Col2'])\n",
    "df_desde_np"
   ]
  },
  {
   "cell_type": "markdown",
   "id": "1e38f9e6",
   "metadata": {},
   "source": [
    "La cuestión es que ahora mi array ya es un DataFrame, y puedo disponer de todos los recursos de Pandas para hacer análisis sobre esta información. **¿Qué recursos?** Literalmente todos.\n",
    "\n",
    "Puedo usar las estrategias de agrupación y de filtrado de Pandas en mis arrays, o puedo usar las operaciones avanzadas de NumPy en mis DataFrames y Series de Pandas.\n",
    "\n",
    "Esto es un montón, y nos deja un poco más cerca de nuestro objetivo de ser científicos de datos."
   ]
  },
  {
   "cell_type": "code",
   "execution_count": null,
   "id": "66bc3925-1fc8-4068-bde0-f493be6da98e",
   "metadata": {},
   "outputs": [],
   "source": []
  },
  {
   "cell_type": "markdown",
   "id": "e773cb0b-69fc-45c8-a135-fbd3aa98a8ce",
   "metadata": {},
   "source": [
    "Integración de NumPy con Pandas 1\n",
    "Crea un DataFrame de Pandas llamado mi_dataframe con dos columnas: \"Frutas\" y \"Cantidad\".\n",
    "\n",
    "La columna \"Frutas\" debe contener los valores \"Manzana\", \"Banana\" y \"Cereza\".\n",
    "\n",
    "La columna \"Cantidad\" debe contener los números 5, 8 y 3 respectivamente.\n",
    "\n",
    "Luego, convierte este DataFrame en un array de NumPy y guárdalo en una variable llamada array_frutas."
   ]
  },
  {
   "cell_type": "code",
   "execution_count": 2,
   "id": "c9500c94-36f4-4238-9dd4-40aa74cc60d6",
   "metadata": {},
   "outputs": [
    {
     "ename": "NameError",
     "evalue": "name 'pd' is not defined",
     "output_type": "error",
     "traceback": [
      "\u001b[1;31m---------------------------------------------------------------------------\u001b[0m",
      "\u001b[1;31mNameError\u001b[0m                                 Traceback (most recent call last)",
      "Cell \u001b[1;32mIn[2], line 2\u001b[0m\n\u001b[0;32m      1\u001b[0m \u001b[38;5;66;03m# Crear el DataFrame\u001b[39;00m\n\u001b[1;32m----> 2\u001b[0m mi_dataframe_b \u001b[38;5;241m=\u001b[39m pd\u001b[38;5;241m.\u001b[39mDataFrame({\n\u001b[0;32m      3\u001b[0m     \u001b[38;5;124m\"\u001b[39m\u001b[38;5;124mFrutas\u001b[39m\u001b[38;5;124m\"\u001b[39m: [\u001b[38;5;124m\"\u001b[39m\u001b[38;5;124mManzana\u001b[39m\u001b[38;5;124m\"\u001b[39m, \u001b[38;5;124m\"\u001b[39m\u001b[38;5;124mBanana\u001b[39m\u001b[38;5;124m\"\u001b[39m, \u001b[38;5;124m\"\u001b[39m\u001b[38;5;124mCereza\u001b[39m\u001b[38;5;124m\"\u001b[39m],\n\u001b[0;32m      4\u001b[0m     \u001b[38;5;124m\"\u001b[39m\u001b[38;5;124mCantidad\u001b[39m\u001b[38;5;124m\"\u001b[39m: [\u001b[38;5;241m5\u001b[39m, \u001b[38;5;241m8\u001b[39m, \u001b[38;5;241m3\u001b[39m]\n\u001b[0;32m      5\u001b[0m })\n\u001b[0;32m      7\u001b[0m \u001b[38;5;66;03m# Convertir el DataFrame en un array de NumPy\u001b[39;00m\n\u001b[0;32m      8\u001b[0m array_frutas \u001b[38;5;241m=\u001b[39m mi_dataframe_b\u001b[38;5;241m.\u001b[39mto_numpy()\n",
      "\u001b[1;31mNameError\u001b[0m: name 'pd' is not defined"
     ]
    }
   ],
   "source": [
    "# Crear el DataFrame\n",
    "mi_dataframe_b = pd.DataFrame({\n",
    "    \"Frutas\": [\"Manzana\", \"Banana\", \"Cereza\"],\n",
    "    \"Cantidad\": [5, 8, 3]\n",
    "})\n",
    " \n",
    "# Convertir el DataFrame en un array de NumPy\n",
    "array_frutas = mi_dataframe_b.to_numpy()\n"
   ]
  },
  {
   "cell_type": "markdown",
   "id": "673daaed-6d4d-4585-bf5c-3a1162dbe6be",
   "metadata": {},
   "source": [
    "Integración de NumPy con Pandas 2\n",
    "Crea un DataFrame de Pandas llamado mi_dataframe con dos columnas: \"Frutas\" y \"Cantidad\". Identico al ejercicio anterior.\n",
    "\n",
    "La columna \"Frutas\" debe contener los valores \"Manzana\", \"Banana\" y \"Cereza\".\n",
    "\n",
    "La columna \"Cantidad\" debe contener los números 5, 8 y 3 respectivamente.\n",
    "\n",
    "Luego, filtra las filas donde la cantidad sea mayor a 4, almacena el resultado en una variable llamada: mi_dataframe_filtrado\n",
    "\n",
    "Convierte el resultado en un array de NumPy. Guarda el array resultante en una variable llamada array_filtrado"
   ]
  },
  {
   "cell_type": "code",
   "execution_count": null,
   "id": "9d55f4b6-8bf0-42dc-b00a-9989607898ea",
   "metadata": {},
   "outputs": [],
   "source": [
    "import pandas as pd\n",
    "import numpy as np\n",
    " \n",
    "# Crear el DataFrame nuevamente\n",
    "mi_dataframe = pd.DataFrame({\n",
    "    \"Frutas\": [\"Manzana\", \"Banana\", \"Cereza\"],\n",
    "    \"Cantidad\": [5, 8, 3]\n",
    "})\n",
    " \n",
    "# Filtrar las filas donde la cantidad sea mayor a 4\n",
    "filtro = mi_dataframe['Cantidad'] > 4\n",
    "mi_dataframe_filtrado = mi_dataframe[filtro]\n",
    " \n",
    "# Convertir el DataFrame filtrado en un array de NumPy\n",
    "array_filtrado = mi_dataframe_filtrado.to_numpy()"
   ]
  },
  {
   "cell_type": "code",
   "execution_count": null,
   "id": "f4ae57ec-b4fb-4dfb-9516-d7ce094bbcfc",
   "metadata": {},
   "outputs": [],
   "source": []
  },
  {
   "cell_type": "code",
   "execution_count": null,
   "id": "53c548ab-c54f-4553-b8f9-158a5b75af20",
   "metadata": {},
   "outputs": [],
   "source": [
    "import numpy as np\n",
    "import pandas as pd\n",
    " \n",
    "# Crear el array de NumPy\n",
    "mi_array = np.array([[10, 40], [20, 50], [30, 60]])\n",
    " \n",
    "# Convertir el array en un DataFrame de Pandas\n",
    "df_numeros = pd.DataFrame(mi_array, columns=[\"Decenas\", \"Centenas\"])"
   ]
  }
 ],
 "metadata": {
  "kernelspec": {
   "display_name": "Python 3 (ipykernel)",
   "language": "python",
   "name": "python3"
  },
  "language_info": {
   "codemirror_mode": {
    "name": "ipython",
    "version": 3
   },
   "file_extension": ".py",
   "mimetype": "text/x-python",
   "name": "python",
   "nbconvert_exporter": "python",
   "pygments_lexer": "ipython3",
   "version": "3.12.7"
  }
 },
 "nbformat": 4,
 "nbformat_minor": 5
}
