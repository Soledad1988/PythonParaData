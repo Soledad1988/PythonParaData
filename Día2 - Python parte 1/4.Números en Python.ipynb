{
 "cells": [
  {
   "cell_type": "code",
   "execution_count": 19,
   "id": "29867c3f-8729-475a-ab38-6201f47df6e4",
   "metadata": {},
   "outputs": [],
   "source": [
    "# 3 Tipos de datos numéricos en Python\n",
    "# 1. Integers (Int): incluye a todos los números enteros, ya sean positivo, negativos e incluso el cero.\n",
    "# 2. Floats (float), decimales\n",
    "# 3. Complex, son una extención de los números reales"
   ]
  },
  {
   "cell_type": "code",
   "execution_count": 5,
   "id": "9cd94dae-0977-4351-a9eb-a5e2d0b76010",
   "metadata": {},
   "outputs": [
    {
     "data": {
      "text/plain": [
       "int"
      ]
     },
     "execution_count": 5,
     "metadata": {},
     "output_type": "execute_result"
    }
   ],
   "source": [
    "# 1. Integers (Int)\n",
    "type(3)"
   ]
  },
  {
   "cell_type": "code",
   "execution_count": 7,
   "id": "b0673e74-2aa5-4217-a695-c858d99616f8",
   "metadata": {},
   "outputs": [
    {
     "data": {
      "text/plain": [
       "int"
      ]
     },
     "execution_count": 7,
     "metadata": {},
     "output_type": "execute_result"
    }
   ],
   "source": [
    "type(-6)"
   ]
  },
  {
   "cell_type": "code",
   "execution_count": 9,
   "id": "495ce072-ea2a-46bb-9b69-18dcc7b50b1a",
   "metadata": {},
   "outputs": [
    {
     "data": {
      "text/plain": [
       "int"
      ]
     },
     "execution_count": 9,
     "metadata": {},
     "output_type": "execute_result"
    }
   ],
   "source": [
    "type(0)"
   ]
  },
  {
   "cell_type": "code",
   "execution_count": 13,
   "id": "817bcc6f-9fd6-45b2-b0a7-6121d4468f6c",
   "metadata": {},
   "outputs": [
    {
     "data": {
      "text/plain": [
       "float"
      ]
     },
     "execution_count": 13,
     "metadata": {},
     "output_type": "execute_result"
    }
   ],
   "source": [
    "# 2. Floats (float\n",
    "type(3.12)"
   ]
  },
  {
   "cell_type": "code",
   "execution_count": 17,
   "id": "80bfa00b-60d0-4a2e-9c16-7f3c7a36c5e0",
   "metadata": {},
   "outputs": [
    {
     "name": "stdout",
     "output_type": "stream",
     "text": [
      "<class 'float'>\n",
      "<class 'float'>\n",
      "<class 'float'>\n"
     ]
    }
   ],
   "source": [
    "print(type(-2.5))\n",
    "print(type(0.0000001))\n",
    "print(type(345.67890))"
   ]
  },
  {
   "cell_type": "code",
   "execution_count": 23,
   "id": "60a20c5a-7b59-4848-aa8f-bba9e30474db",
   "metadata": {},
   "outputs": [
    {
     "data": {
      "text/plain": [
       "complex"
      ]
     },
     "execution_count": 23,
     "metadata": {},
     "output_type": "execute_result"
    }
   ],
   "source": [
    "# 3. Complex. Pseen 2 dimensiones, una parte real y otra imaginaria\n",
    "type(3 + 4J)"
   ]
  },
  {
   "cell_type": "code",
   "execution_count": 25,
   "id": "130dabf2-f094-480c-b87f-52a811b20048",
   "metadata": {},
   "outputs": [
    {
     "data": {
      "text/plain": [
       "(-5.2-5j)"
      ]
     },
     "execution_count": 25,
     "metadata": {},
     "output_type": "execute_result"
    }
   ],
   "source": [
    "-5.2-5J"
   ]
  },
  {
   "cell_type": "code",
   "execution_count": 27,
   "id": "4babf83e-95d7-4304-b35f-f7fc149e92be",
   "metadata": {},
   "outputs": [
    {
     "data": {
      "text/plain": [
       "complex"
      ]
     },
     "execution_count": 27,
     "metadata": {},
     "output_type": "execute_result"
    }
   ],
   "source": [
    "type(-5.2-5J)"
   ]
  },
  {
   "cell_type": "code",
   "execution_count": null,
   "id": "8e867e58-5643-4d81-8651-890dc2e38c7f",
   "metadata": {},
   "outputs": [],
   "source": [
    "# Funcion complex() "
   ]
  }
 ],
 "metadata": {
  "kernelspec": {
   "display_name": "Python 3 (ipykernel)",
   "language": "python",
   "name": "python3"
  },
  "language_info": {
   "codemirror_mode": {
    "name": "ipython",
    "version": 3
   },
   "file_extension": ".py",
   "mimetype": "text/x-python",
   "name": "python",
   "nbconvert_exporter": "python",
   "pygments_lexer": "ipython3",
   "version": "3.12.7"
  }
 },
 "nbformat": 4,
 "nbformat_minor": 5
}
