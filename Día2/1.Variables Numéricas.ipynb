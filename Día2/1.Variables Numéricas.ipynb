{
 "cells": [
  {
   "cell_type": "code",
   "execution_count": 2,
   "id": "fed85ca8-47df-4e36-b41f-f360f3a7dade",
   "metadata": {},
   "outputs": [
    {
     "data": {
      "text/plain": [
       "1"
      ]
     },
     "execution_count": 2,
     "metadata": {},
     "output_type": "execute_result"
    }
   ],
   "source": [
    "# Variables numéricas\n",
    "1"
   ]
  },
  {
   "cell_type": "code",
   "execution_count": 6,
   "id": "5a3fc41b-f7c4-4d3e-aa24-43b6b41219d9",
   "metadata": {},
   "outputs": [],
   "source": [
    "miNumero = 2"
   ]
  },
  {
   "cell_type": "code",
   "execution_count": 9,
   "id": "390f5f5c-996b-4453-94e8-6bd77a408668",
   "metadata": {},
   "outputs": [
    {
     "data": {
      "text/plain": [
       "2"
      ]
     },
     "execution_count": 9,
     "metadata": {},
     "output_type": "execute_result"
    }
   ],
   "source": [
    "miNumero"
   ]
  },
  {
   "cell_type": "code",
   "execution_count": 11,
   "id": "5bd303c1-0365-48b2-9614-228d47f60c40",
   "metadata": {},
   "outputs": [
    {
     "data": {
      "text/plain": [
       "5"
      ]
     },
     "execution_count": 11,
     "metadata": {},
     "output_type": "execute_result"
    }
   ],
   "source": [
    "miNumero + 3"
   ]
  },
  {
   "cell_type": "code",
   "execution_count": 13,
   "id": "e73eadf8-9a1e-4aca-95c7-e3ab3e792bbd",
   "metadata": {},
   "outputs": [],
   "source": [
    "otroNumero = 2"
   ]
  },
  {
   "cell_type": "code",
   "execution_count": 15,
   "id": "096e834f-d25e-4f28-98f0-4b319128267d",
   "metadata": {},
   "outputs": [
    {
     "data": {
      "text/plain": [
       "2"
      ]
     },
     "execution_count": 15,
     "metadata": {},
     "output_type": "execute_result"
    }
   ],
   "source": [
    "otroNumero"
   ]
  },
  {
   "cell_type": "code",
   "execution_count": 17,
   "id": "85aa7039-7a49-4fbf-87c8-cd1524353084",
   "metadata": {},
   "outputs": [
    {
     "data": {
      "text/plain": [
       "4"
      ]
     },
     "execution_count": 17,
     "metadata": {},
     "output_type": "execute_result"
    }
   ],
   "source": [
    "miNumero + otroNumero"
   ]
  },
  {
   "cell_type": "code",
   "execution_count": 23,
   "id": "74f73741-356f-4451-a6db-a3083891d0e4",
   "metadata": {},
   "outputs": [],
   "source": [
    "# Reasigno\n",
    "miNumero = 3"
   ]
  },
  {
   "cell_type": "code",
   "execution_count": 25,
   "id": "de776150-410b-4f21-af31-7db7774a0739",
   "metadata": {},
   "outputs": [
    {
     "data": {
      "text/plain": [
       "3"
      ]
     },
     "execution_count": 25,
     "metadata": {},
     "output_type": "execute_result"
    }
   ],
   "source": [
    "miNumero"
   ]
  },
  {
   "cell_type": "code",
   "execution_count": 27,
   "id": "c34839d4-a9d6-4bc7-bc89-801c085c7876",
   "metadata": {},
   "outputs": [],
   "source": [
    "nuevoNumero = 3"
   ]
  },
  {
   "cell_type": "code",
   "execution_count": 29,
   "id": "55b63ed1-64d7-48f2-a09c-fca43fcb30d1",
   "metadata": {},
   "outputs": [
    {
     "data": {
      "text/plain": [
       "6"
      ]
     },
     "execution_count": 29,
     "metadata": {},
     "output_type": "execute_result"
    }
   ],
   "source": [
    "miNumero + nuevoNumero"
   ]
  },
  {
   "cell_type": "code",
   "execution_count": null,
   "id": "fdbd0543-3624-48bc-a182-d419a8b13472",
   "metadata": {},
   "outputs": [],
   "source": [
    "mi"
   ]
  }
 ],
 "metadata": {
  "kernelspec": {
   "display_name": "Python 3 (ipykernel)",
   "language": "python",
   "name": "python3"
  },
  "language_info": {
   "codemirror_mode": {
    "name": "ipython",
    "version": 3
   },
   "file_extension": ".py",
   "mimetype": "text/x-python",
   "name": "python",
   "nbconvert_exporter": "python",
   "pygments_lexer": "ipython3",
   "version": "3.12.7"
  }
 },
 "nbformat": 4,
 "nbformat_minor": 5
}
