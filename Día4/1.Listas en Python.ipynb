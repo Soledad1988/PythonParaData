{
 "cells": [
  {
   "cell_type": "code",
   "execution_count": 37,
   "id": "42ba7d77-f55c-4c10-9981-25495cf2bd83",
   "metadata": {},
   "outputs": [],
   "source": [
    "# Las listas son una coleccion de objetos, y son MUTABLES\n",
    "frutas = []"
   ]
  },
  {
   "cell_type": "code",
   "execution_count": 3,
   "id": "9cc49ab0-6239-429a-9a63-02e33eee9105",
   "metadata": {},
   "outputs": [
    {
     "data": {
      "text/plain": [
       "list"
      ]
     },
     "execution_count": 3,
     "metadata": {},
     "output_type": "execute_result"
    }
   ],
   "source": [
    "type(frutas)"
   ]
  },
  {
   "cell_type": "code",
   "execution_count": 53,
   "id": "a674529d-1ca1-4a16-8955-8d291c30bc68",
   "metadata": {},
   "outputs": [],
   "source": [
    "frutas = [\"banana\", \"manzana\", \"pera\"]"
   ]
  },
  {
   "cell_type": "code",
   "execution_count": 7,
   "id": "dec9e814-9d87-48b2-bb2b-7920127c91c4",
   "metadata": {},
   "outputs": [],
   "source": [
    "numeros = [10, 30, 85]"
   ]
  },
  {
   "cell_type": "code",
   "execution_count": 9,
   "id": "727552c2-93fd-4b16-a757-c736dfb02220",
   "metadata": {},
   "outputs": [
    {
     "data": {
      "text/plain": [
       "list"
      ]
     },
     "execution_count": 9,
     "metadata": {},
     "output_type": "execute_result"
    }
   ],
   "source": [
    "type(numeros)"
   ]
  },
  {
   "cell_type": "code",
   "execution_count": 15,
   "id": "08990120-b5ec-4e9b-94f3-4d09da14009d",
   "metadata": {},
   "outputs": [
    {
     "data": {
      "text/plain": [
       "list"
      ]
     },
     "execution_count": 15,
     "metadata": {},
     "output_type": "execute_result"
    }
   ],
   "source": [
    "misListas=[[10,20,30],[\"a\",\"b\",\"c\"],[\"Pablo\",\"Micaela\",\"Milena\"]]\n",
    "type(misListas)"
   ]
  },
  {
   "cell_type": "code",
   "execution_count": 17,
   "id": "3def6d2b-96f0-4bd4-9f02-448e5846e784",
   "metadata": {},
   "outputs": [
    {
     "data": {
      "text/plain": [
       "'banana'"
      ]
     },
     "execution_count": 17,
     "metadata": {},
     "output_type": "execute_result"
    }
   ],
   "source": [
    "# Acceder a los elementos de una lista\n",
    "frutas[0]"
   ]
  },
  {
   "cell_type": "code",
   "execution_count": 21,
   "id": "a4df1e27-42b5-4b49-a560-b620f4cdd3c5",
   "metadata": {},
   "outputs": [
    {
     "data": {
      "text/plain": [
       "'Micaela'"
      ]
     },
     "execution_count": 21,
     "metadata": {},
     "output_type": "execute_result"
    }
   ],
   "source": [
    "misListas[2][1]"
   ]
  },
  {
   "cell_type": "code",
   "execution_count": 61,
   "id": "1e9d1bb0-34fe-4ddf-b752-d1b13b0dd2c6",
   "metadata": {},
   "outputs": [],
   "source": [
    "# Modificar los elementos de una lista\n",
    "frutas[0] = \"sandia\""
   ]
  },
  {
   "cell_type": "code",
   "execution_count": 63,
   "id": "5d884f9e-eda7-4b74-8511-4ba66483bf39",
   "metadata": {},
   "outputs": [
    {
     "data": {
      "text/plain": [
       "['sandia', 'manzana', 'banana']"
      ]
     },
     "execution_count": 63,
     "metadata": {},
     "output_type": "execute_result"
    }
   ],
   "source": [
    "frutas"
   ]
  },
  {
   "cell_type": "code",
   "execution_count": 65,
   "id": "a1ccc914-7c07-4680-98a0-418c36fc92a4",
   "metadata": {},
   "outputs": [],
   "source": [
    "# Agregar elementos\n",
    "frutas.append(\"mango\")"
   ]
  },
  {
   "cell_type": "code",
   "execution_count": 67,
   "id": "e7fa4339-54a7-47fe-a4b5-c040df04fc04",
   "metadata": {},
   "outputs": [
    {
     "data": {
      "text/plain": [
       "['sandia', 'manzana', 'banana', 'mango']"
      ]
     },
     "execution_count": 67,
     "metadata": {},
     "output_type": "execute_result"
    }
   ],
   "source": [
    "frutas"
   ]
  },
  {
   "cell_type": "code",
   "execution_count": 69,
   "id": "f20ae3aa-466b-4817-903d-8d881fb7e7eb",
   "metadata": {},
   "outputs": [
    {
     "data": {
      "text/plain": [
       "['banana', 'mango', 'manzana', 'sandia']"
      ]
     },
     "execution_count": 69,
     "metadata": {},
     "output_type": "execute_result"
    }
   ],
   "source": [
    "# Ordenar los elementos ASC\n",
    "frutas.sort()\n",
    "frutas"
   ]
  },
  {
   "cell_type": "code",
   "execution_count": 71,
   "id": "b787aff3-dc48-4fcc-806d-38fdf9f5d440",
   "metadata": {},
   "outputs": [
    {
     "data": {
      "text/plain": [
       "['sandia', 'manzana', 'mango', 'banana']"
      ]
     },
     "execution_count": 71,
     "metadata": {},
     "output_type": "execute_result"
    }
   ],
   "source": [
    "# Ordenar los elementos DESC\n",
    "frutas.sort(reverse=True)\n",
    "frutas"
   ]
  },
  {
   "cell_type": "code",
   "execution_count": 73,
   "id": "27515817-6d6b-4912-b0df-16d093cf06b6",
   "metadata": {},
   "outputs": [],
   "source": [
    "# Eliminar elementos\n",
    "frutas.remove(\"manzana\")"
   ]
  },
  {
   "cell_type": "code",
   "execution_count": 75,
   "id": "adef30a2-1a6d-4d74-99cb-7b35fe97e00e",
   "metadata": {},
   "outputs": [
    {
     "data": {
      "text/plain": [
       "['sandia', 'mango', 'banana']"
      ]
     },
     "execution_count": 75,
     "metadata": {},
     "output_type": "execute_result"
    }
   ],
   "source": [
    "frutas"
   ]
  },
  {
   "cell_type": "code",
   "execution_count": 77,
   "id": "7520376c-9846-4644-92ee-206fab641705",
   "metadata": {},
   "outputs": [
    {
     "data": {
      "text/plain": [
       "['banana', 'mango', 'sandia']"
      ]
     },
     "execution_count": 77,
     "metadata": {},
     "output_type": "execute_result"
    }
   ],
   "source": [
    "# Reverse da vuelta el orden de los elementos\n",
    "frutas.reverse()\n",
    "frutas"
   ]
  },
  {
   "cell_type": "code",
   "execution_count": 79,
   "id": "35bb68ea-0228-4b2e-b65d-e57a987fb890",
   "metadata": {},
   "outputs": [
    {
     "data": {
      "text/plain": [
       "['__add__',\n",
       " '__class__',\n",
       " '__class_getitem__',\n",
       " '__contains__',\n",
       " '__delattr__',\n",
       " '__delitem__',\n",
       " '__dir__',\n",
       " '__doc__',\n",
       " '__eq__',\n",
       " '__format__',\n",
       " '__ge__',\n",
       " '__getattribute__',\n",
       " '__getitem__',\n",
       " '__getstate__',\n",
       " '__gt__',\n",
       " '__hash__',\n",
       " '__iadd__',\n",
       " '__imul__',\n",
       " '__init__',\n",
       " '__init_subclass__',\n",
       " '__iter__',\n",
       " '__le__',\n",
       " '__len__',\n",
       " '__lt__',\n",
       " '__mul__',\n",
       " '__ne__',\n",
       " '__new__',\n",
       " '__reduce__',\n",
       " '__reduce_ex__',\n",
       " '__repr__',\n",
       " '__reversed__',\n",
       " '__rmul__',\n",
       " '__setattr__',\n",
       " '__setitem__',\n",
       " '__sizeof__',\n",
       " '__str__',\n",
       " '__subclasshook__',\n",
       " 'append',\n",
       " 'clear',\n",
       " 'copy',\n",
       " 'count',\n",
       " 'extend',\n",
       " 'index',\n",
       " 'insert',\n",
       " 'pop',\n",
       " 'remove',\n",
       " 'reverse',\n",
       " 'sort']"
      ]
     },
     "execution_count": 79,
     "metadata": {},
     "output_type": "execute_result"
    }
   ],
   "source": [
    "dir(frutas)"
   ]
  },
  {
   "cell_type": "code",
   "execution_count": 81,
   "id": "f135aef9-f44f-48d6-a265-7ec5b6d6a734",
   "metadata": {},
   "outputs": [],
   "source": [
    "# Concatenar listas\n",
    "lista1 = [1,2,3]\n",
    "lista2 = [4,5,6]\n",
    "combinada = lista1 + lista2"
   ]
  },
  {
   "cell_type": "code",
   "execution_count": 83,
   "id": "b1bb0967-f5a6-47f3-ac1e-05fe8171272d",
   "metadata": {},
   "outputs": [
    {
     "data": {
      "text/plain": [
       "[1, 2, 3, 4, 5, 6]"
      ]
     },
     "execution_count": 83,
     "metadata": {},
     "output_type": "execute_result"
    }
   ],
   "source": [
    "combinada"
   ]
  },
  {
   "cell_type": "code",
   "execution_count": 85,
   "id": "9fe5ff5a-250f-4d32-bddd-34c4a21313bb",
   "metadata": {},
   "outputs": [
    {
     "data": {
      "text/plain": [
       "list"
      ]
     },
     "execution_count": 85,
     "metadata": {},
     "output_type": "execute_result"
    }
   ],
   "source": [
    "type(combinada)"
   ]
  },
  {
   "cell_type": "code",
   "execution_count": 87,
   "id": "4618974b-5a95-43ed-a6b5-563d68361992",
   "metadata": {},
   "outputs": [
    {
     "data": {
      "text/plain": [
       "[1, 2, 3, 1, 2, 3]"
      ]
     },
     "execution_count": 87,
     "metadata": {},
     "output_type": "execute_result"
    }
   ],
   "source": [
    "repetidas = lista1 * 2\n",
    "repetidas"
   ]
  },
  {
   "cell_type": "code",
   "execution_count": null,
   "id": "279d9de0-c3e5-4a52-9182-4614f6c82efe",
   "metadata": {},
   "outputs": [],
   "source": [
    "# Segmentar listas\n",
    "sublista = "
   ]
  }
 ],
 "metadata": {
  "kernelspec": {
   "display_name": "Python 3 (ipykernel)",
   "language": "python",
   "name": "python3"
  },
  "language_info": {
   "codemirror_mode": {
    "name": "ipython",
    "version": 3
   },
   "file_extension": ".py",
   "mimetype": "text/x-python",
   "name": "python",
   "nbconvert_exporter": "python",
   "pygments_lexer": "ipython3",
   "version": "3.12.7"
  }
 },
 "nbformat": 4,
 "nbformat_minor": 5
}
