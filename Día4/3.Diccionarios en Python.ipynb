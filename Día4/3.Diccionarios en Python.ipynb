{
 "cells": [
  {
   "cell_type": "code",
   "execution_count": 1,
   "id": "09b8cb56-8d1d-45fc-bda8-35f6c96556c6",
   "metadata": {},
   "outputs": [
    {
     "data": {
      "text/plain": [
       "dict"
      ]
     },
     "execution_count": 1,
     "metadata": {},
     "output_type": "execute_result"
    }
   ],
   "source": [
    "# Diccionario, son una coleccion de elementos\n",
    "dic = {}\n",
    "type(dic)"
   ]
  },
  {
   "cell_type": "code",
   "execution_count": 3,
   "id": "1a4ed853-531d-4a53-9875-77c3bd89771e",
   "metadata": {},
   "outputs": [
    {
     "data": {
      "text/plain": [
       "{'Juan': 24, 'Maria': 32}"
      ]
     },
     "execution_count": 3,
     "metadata": {},
     "output_type": "execute_result"
    }
   ],
   "source": [
    "# Diccionario, se componen de elemntos, una clave y un valor. Las claves tienen que ser únicas, no se pueden repetir\n",
    "edades = {\"Juan\":24, \"Maria\":32}\n",
    "edades"
   ]
  },
  {
   "cell_type": "code",
   "execution_count": 5,
   "id": "047c42d2-6e3b-4222-b169-1adf50fb17b0",
   "metadata": {},
   "outputs": [
    {
     "data": {
      "text/plain": [
       "2"
      ]
     },
     "execution_count": 5,
     "metadata": {},
     "output_type": "execute_result"
    }
   ],
   "source": [
    "len(edades)"
   ]
  },
  {
   "cell_type": "code",
   "execution_count": 9,
   "id": "b1a29588-9c52-4b24-82b6-44ccd44da204",
   "metadata": {},
   "outputs": [
    {
     "ename": "KeyError",
     "evalue": "0",
     "output_type": "error",
     "traceback": [
      "\u001b[1;31m---------------------------------------------------------------------------\u001b[0m",
      "\u001b[1;31mKeyError\u001b[0m                                  Traceback (most recent call last)",
      "Cell \u001b[1;32mIn[9], line 2\u001b[0m\n\u001b[0;32m      1\u001b[0m \u001b[38;5;66;03m# Los Diccionario no se pueden indexar, ya que no son secuencias ordenadas de elementos\u001b[39;00m\n\u001b[1;32m----> 2\u001b[0m edades [\u001b[38;5;241m0\u001b[39m]\n",
      "\u001b[1;31mKeyError\u001b[0m: 0"
     ]
    }
   ],
   "source": [
    "# Los Diccionario no se pueden indexar, ya que no son secuencias ordenadas de elementos\n",
    "edades [0]"
   ]
  },
  {
   "cell_type": "code",
   "execution_count": 11,
   "id": "151a7e34-8964-4965-9308-145d6bc5df98",
   "metadata": {},
   "outputs": [
    {
     "data": {
      "text/plain": [
       "24"
      ]
     },
     "execution_count": 11,
     "metadata": {},
     "output_type": "execute_result"
    }
   ],
   "source": [
    "# Se los puede llamar a travez de su clave\n",
    "edades[\"Juan\"]"
   ]
  },
  {
   "cell_type": "code",
   "execution_count": 13,
   "id": "911824e2-bd87-4978-a5f6-85d3054d2d3b",
   "metadata": {},
   "outputs": [
    {
     "data": {
      "text/plain": [
       "{'Juan': 25, 'Maria': 32}"
      ]
     },
     "execution_count": 13,
     "metadata": {},
     "output_type": "execute_result"
    }
   ],
   "source": [
    "# Reasigno valores\n",
    "edades[\"Juan\"] = 25\n",
    "edades"
   ]
  },
  {
   "cell_type": "code",
   "execution_count": 15,
   "id": "df0c2ffd-97fa-46b0-abfd-026403460e4f",
   "metadata": {},
   "outputs": [],
   "source": [
    "# Agregar valores\n",
    "edades[\"Laura\"] = 28"
   ]
  },
  {
   "cell_type": "code",
   "execution_count": 17,
   "id": "640bc0d4-3b04-4e2b-a4f0-ff97b994d178",
   "metadata": {},
   "outputs": [
    {
     "data": {
      "text/plain": [
       "{'Juan': 25, 'Maria': 32, 'Laura': 28}"
      ]
     },
     "execution_count": 17,
     "metadata": {},
     "output_type": "execute_result"
    }
   ],
   "source": [
    "edades"
   ]
  },
  {
   "cell_type": "code",
   "execution_count": 19,
   "id": "6ed5a1e5-5107-48c7-b7ad-27d8fb202df0",
   "metadata": {},
   "outputs": [
    {
     "data": {
      "text/plain": [
       "['__class__',\n",
       " '__class_getitem__',\n",
       " '__contains__',\n",
       " '__delattr__',\n",
       " '__delitem__',\n",
       " '__dir__',\n",
       " '__doc__',\n",
       " '__eq__',\n",
       " '__format__',\n",
       " '__ge__',\n",
       " '__getattribute__',\n",
       " '__getitem__',\n",
       " '__getstate__',\n",
       " '__gt__',\n",
       " '__hash__',\n",
       " '__init__',\n",
       " '__init_subclass__',\n",
       " '__ior__',\n",
       " '__iter__',\n",
       " '__le__',\n",
       " '__len__',\n",
       " '__lt__',\n",
       " '__ne__',\n",
       " '__new__',\n",
       " '__or__',\n",
       " '__reduce__',\n",
       " '__reduce_ex__',\n",
       " '__repr__',\n",
       " '__reversed__',\n",
       " '__ror__',\n",
       " '__setattr__',\n",
       " '__setitem__',\n",
       " '__sizeof__',\n",
       " '__str__',\n",
       " '__subclasshook__',\n",
       " 'clear',\n",
       " 'copy',\n",
       " 'fromkeys',\n",
       " 'get',\n",
       " 'items',\n",
       " 'keys',\n",
       " 'pop',\n",
       " 'popitem',\n",
       " 'setdefault',\n",
       " 'update',\n",
       " 'values']"
      ]
     },
     "execution_count": 19,
     "metadata": {},
     "output_type": "execute_result"
    }
   ],
   "source": [
    "dir(edades)"
   ]
  },
  {
   "cell_type": "code",
   "execution_count": 21,
   "id": "fc494ab9-81a8-486f-91ac-44614ce3da39",
   "metadata": {},
   "outputs": [
    {
     "data": {
      "text/plain": [
       "dict_keys(['Juan', 'Maria', 'Laura'])"
      ]
     },
     "execution_count": 21,
     "metadata": {},
     "output_type": "execute_result"
    }
   ],
   "source": [
    "edades.keys()"
   ]
  },
  {
   "cell_type": "code",
   "execution_count": 23,
   "id": "45a82a51-b242-430e-8c17-2474b91df73b",
   "metadata": {},
   "outputs": [
    {
     "data": {
      "text/plain": [
       "dict_values([25, 32, 28])"
      ]
     },
     "execution_count": 23,
     "metadata": {},
     "output_type": "execute_result"
    }
   ],
   "source": [
    "edades.values()"
   ]
  },
  {
   "cell_type": "code",
   "execution_count": 27,
   "id": "4dbb82fc-1158-40e0-a983-7f18f10ea872",
   "metadata": {},
   "outputs": [
    {
     "data": {
      "text/plain": [
       "dict_items([('Juan', 25), ('Maria', 32), ('Laura', 28)])"
      ]
     },
     "execution_count": 27,
     "metadata": {},
     "output_type": "execute_result"
    }
   ],
   "source": [
    "edades.items()"
   ]
  },
  {
   "cell_type": "code",
   "execution_count": 29,
   "id": "2d05c61e-bab7-4175-b273-2bed291d1580",
   "metadata": {},
   "outputs": [
    {
     "data": {
      "text/plain": [
       "25"
      ]
     },
     "execution_count": 29,
     "metadata": {},
     "output_type": "execute_result"
    }
   ],
   "source": [
    "edades.get(\"Juan\")"
   ]
  },
  {
   "cell_type": "code",
   "execution_count": null,
   "id": "bbd9cfe8-912f-46bb-a5f3-bac6516c3cf3",
   "metadata": {},
   "outputs": [],
   "source": []
  }
 ],
 "metadata": {
  "kernelspec": {
   "display_name": "Python 3 (ipykernel)",
   "language": "python",
   "name": "python3"
  },
  "language_info": {
   "codemirror_mode": {
    "name": "ipython",
    "version": 3
   },
   "file_extension": ".py",
   "mimetype": "text/x-python",
   "name": "python",
   "nbconvert_exporter": "python",
   "pygments_lexer": "ipython3",
   "version": "3.12.7"
  }
 },
 "nbformat": 4,
 "nbformat_minor": 5
}
