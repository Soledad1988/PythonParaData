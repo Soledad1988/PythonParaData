{
 "cells": [
  {
   "cell_type": "code",
   "execution_count": 3,
   "id": "7c89b85d-cb82-428a-b59c-4de954025a89",
   "metadata": {},
   "outputs": [
    {
     "data": {
      "text/plain": [
       "0    10\n",
       "1    20\n",
       "2    30\n",
       "3    40\n",
       "4    50\n",
       "dtype: int64"
      ]
     },
     "execution_count": 3,
     "metadata": {},
     "output_type": "execute_result"
    }
   ],
   "source": [
    "# Las agregaciones nos sirven para resumir nuestros datso\n",
    "import pandas as pd\n",
    "\n",
    "numeros = pd.Series([10, 20, 30, 40, 50])\n",
    "numeros"
   ]
  },
  {
   "cell_type": "code",
   "execution_count": 7,
   "id": "bbfd7b7d-7c05-488a-82b4-067f810fb7fd",
   "metadata": {},
   "outputs": [
    {
     "name": "stdout",
     "output_type": "stream",
     "text": [
      "El promedio es 30.0\n"
     ]
    }
   ],
   "source": [
    "# Promedio mean()\n",
    "promedio = numeros.mean()\n",
    "print(f\"El promedio es {promedio}\")"
   ]
  },
  {
   "cell_type": "code",
   "execution_count": 9,
   "id": "7c08c93f-20b2-40c4-8148-9d846b4ec928",
   "metadata": {},
   "outputs": [
    {
     "data": {
      "text/plain": [
       "150"
      ]
     },
     "execution_count": 9,
     "metadata": {},
     "output_type": "execute_result"
    }
   ],
   "source": [
    "# Suma\n",
    "total = numeros.sum()\n",
    "total"
   ]
  },
  {
   "cell_type": "code",
   "execution_count": 11,
   "id": "031ff69c-b9ea-492f-828b-f10cf8acfbde",
   "metadata": {},
   "outputs": [
    {
     "data": {
      "text/plain": [
       "50"
      ]
     },
     "execution_count": 11,
     "metadata": {},
     "output_type": "execute_result"
    }
   ],
   "source": [
    "# Maximo\n",
    "maximo = numeros.max()\n",
    "maximo"
   ]
  },
  {
   "cell_type": "code",
   "execution_count": 13,
   "id": "251d63bd-fae8-47be-8402-269e9ca1f35b",
   "metadata": {},
   "outputs": [
    {
     "data": {
      "text/plain": [
       "10"
      ]
     },
     "execution_count": 13,
     "metadata": {},
     "output_type": "execute_result"
    }
   ],
   "source": [
    "# Minimo\n",
    "minimo = numeros.min()\n",
    "minimo"
   ]
  },
  {
   "cell_type": "code",
   "execution_count": null,
   "id": "fe92891d-1b10-4853-8b2b-dd6b14e2daf9",
   "metadata": {},
   "outputs": [],
   "source": []
  }
 ],
 "metadata": {
  "kernelspec": {
   "display_name": "Python 3 (ipykernel)",
   "language": "python",
   "name": "python3"
  },
  "language_info": {
   "codemirror_mode": {
    "name": "ipython",
    "version": 3
   },
   "file_extension": ".py",
   "mimetype": "text/x-python",
   "name": "python",
   "nbconvert_exporter": "python",
   "pygments_lexer": "ipython3",
   "version": "3.12.7"
  }
 },
 "nbformat": 4,
 "nbformat_minor": 5
}
