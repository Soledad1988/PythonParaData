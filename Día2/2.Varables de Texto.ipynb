{
 "cells": [
  {
   "cell_type": "code",
   "execution_count": 2,
   "id": "10d297cb-fbe7-4b6f-9c7a-308454112983",
   "metadata": {},
   "outputs": [
    {
     "data": {
      "text/plain": [
       "'Hola Mundo'"
      ]
     },
     "execution_count": 2,
     "metadata": {},
     "output_type": "execute_result"
    }
   ],
   "source": [
    "# Variables de texto - String (cadena o secuencia)\n",
    "\"Hola Mundo\""
   ]
  },
  {
   "cell_type": "code",
   "execution_count": 4,
   "id": "d0ab76c1-eadf-41de-93d6-7821712ed6fd",
   "metadata": {},
   "outputs": [
    {
     "data": {
      "text/plain": [
       "'Hola Mundo 2'"
      ]
     },
     "execution_count": 4,
     "metadata": {},
     "output_type": "execute_result"
    }
   ],
   "source": [
    "'Hola Mundo 2'"
   ]
  },
  {
   "cell_type": "code",
   "execution_count": 6,
   "id": "e4e3d2fb-525b-4efd-95bb-ccc60892ceb5",
   "metadata": {},
   "outputs": [
    {
     "data": {
      "text/plain": [
       "\"El libro 'El Principito' es emocionante\""
      ]
     },
     "execution_count": 6,
     "metadata": {},
     "output_type": "execute_result"
    }
   ],
   "source": [
    "\"El libro 'El Principito' es emocionante\""
   ]
  },
  {
   "cell_type": "code",
   "execution_count": 8,
   "id": "37474fc7-bda4-4cfa-b4b4-bc6db3320522",
   "metadata": {},
   "outputs": [
    {
     "data": {
      "text/plain": [
       "'El libro \"El Principito\" es emocionante'"
      ]
     },
     "execution_count": 8,
     "metadata": {},
     "output_type": "execute_result"
    }
   ],
   "source": [
    "'El libro \"El Principito\" es emocionante'"
   ]
  },
  {
   "cell_type": "code",
   "execution_count": 10,
   "id": "b496e8f7-d6d1-42f6-8411-8904ab3cee03",
   "metadata": {},
   "outputs": [],
   "source": [
    "miFrase = 'Hola Mundo'"
   ]
  },
  {
   "cell_type": "code",
   "execution_count": 14,
   "id": "9949c8de-8c90-4012-9a57-405df856db73",
   "metadata": {},
   "outputs": [
    {
     "name": "stdout",
     "output_type": "stream",
     "text": [
      "Hola Mundo\n"
     ]
    }
   ],
   "source": [
    "print(miFrase)"
   ]
  },
  {
   "cell_type": "code",
   "execution_count": 16,
   "id": "6dd59725-0f2a-4d21-a74d-6f1c8d950d57",
   "metadata": {},
   "outputs": [],
   "source": [
    "miFrase2 = \"Hola Mundo2\""
   ]
  },
  {
   "cell_type": "code",
   "execution_count": 20,
   "id": "b82a2ea5-e965-4c9a-93e8-b57617f79572",
   "metadata": {},
   "outputs": [
    {
     "name": "stdout",
     "output_type": "stream",
     "text": [
      "Hola Mundo2\n"
     ]
    }
   ],
   "source": [
    "print(miFrase2)"
   ]
  },
  {
   "cell_type": "code",
   "execution_count": null,
   "id": "46060812-2e8b-4ff7-9118-9218c72ea9c3",
   "metadata": {},
   "outputs": [],
   "source": [
    "miFrase "
   ]
  }
 ],
 "metadata": {
  "kernelspec": {
   "display_name": "Python 3 (ipykernel)",
   "language": "python",
   "name": "python3"
  },
  "language_info": {
   "codemirror_mode": {
    "name": "ipython",
    "version": 3
   },
   "file_extension": ".py",
   "mimetype": "text/x-python",
   "name": "python",
   "nbconvert_exporter": "python",
   "pygments_lexer": "ipython3",
   "version": "3.12.7"
  }
 },
 "nbformat": 4,
 "nbformat_minor": 5
}
