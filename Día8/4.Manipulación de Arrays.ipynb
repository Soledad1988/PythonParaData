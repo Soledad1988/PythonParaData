{
 "cells": [
  {
   "attachments": {},
   "cell_type": "markdown",
   "id": "b2dc8f7d",
   "metadata": {},
   "source": [
    "# Manipulación de Arrays\n",
    "\n",
    "Quiero compartir contigo algunos métodos y estrategias que nos permiten manipular arrays en NumPy.\n",
    "\n",
    "Algo que también podemos hacer es **concatenar** a nuestros arrays, del mismo modo en que hemos concatenado DataFrames con Pandas."
   ]
  },
  {
   "cell_type": "code",
   "execution_count": 1,
   "id": "45660d80",
   "metadata": {},
   "outputs": [],
   "source": [
    "import numpy as np"
   ]
  },
  {
   "cell_type": "code",
   "execution_count": 3,
   "id": "0af13ebb",
   "metadata": {},
   "outputs": [],
   "source": [
    "x = [1,2,3]\n",
    "y = [1,2,3]\n",
    "z = [1,2,3]"
   ]
  },
  {
   "cell_type": "code",
   "execution_count": 5,
   "id": "a0d0a10c",
   "metadata": {},
   "outputs": [
    {
     "data": {
      "text/plain": [
       "array([1, 2, 3, 1, 2, 3, 1, 2, 3])"
      ]
     },
     "execution_count": 5,
     "metadata": {},
     "output_type": "execute_result"
    }
   ],
   "source": [
    "np.concatenate([x, y, z])"
   ]
  },
  {
   "attachments": {},
   "cell_type": "markdown",
   "id": "2010e89d",
   "metadata": {},
   "source": [
    "Como puedes ver, el argumento que hemos pasado a `concatenate()` es una lista de listas a concatenar, y esto a devuelto un **array** (porque lo hicimos con NumPy) **de una dimensión**.\n",
    "\n",
    "Pero el método `concatenate()` de NumPy tiene un segundo argumento, que es el **\"Eje\"**, o **\"Axis\"**, que nos permite especificar a lo largo de qué eje será concatenado el resultado.\n",
    "\n",
    "Voy a crear **2 arrays de dos dimensiones**, y lo voy a concatenar sobre el eje 1 `(axis=1)`:"
   ]
  },
  {
   "cell_type": "code",
   "execution_count": 7,
   "id": "04e66fab",
   "metadata": {},
   "outputs": [
    {
     "data": {
      "text/plain": [
       "array([[1, 2, 5, 6],\n",
       "       [3, 4, 7, 8]])"
      ]
     },
     "execution_count": 7,
     "metadata": {},
     "output_type": "execute_result"
    }
   ],
   "source": [
    "a = [[1, 2],\n",
    "    [3, 4]]\n",
    "b = [[5, 6],\n",
    "    [7, 8]]\n",
    "np.concatenate([a, b], axis=1)"
   ]
  },
  {
   "attachments": {},
   "cell_type": "markdown",
   "id": "6d2511bf",
   "metadata": {},
   "source": [
    "Y si concateno esos mismos arrays pero sobre el eje `0`:"
   ]
  },
  {
   "cell_type": "code",
   "execution_count": 10,
   "id": "d61f4c4d",
   "metadata": {
    "scrolled": true
   },
   "outputs": [
    {
     "data": {
      "text/plain": [
       "array([[1, 2],\n",
       "       [3, 4],\n",
       "       [5, 6],\n",
       "       [7, 8]])"
      ]
     },
     "execution_count": 10,
     "metadata": {},
     "output_type": "execute_result"
    }
   ],
   "source": [
    "np.concatenate([a, b], axis=0)"
   ]
  },
  {
   "attachments": {},
   "cell_type": "markdown",
   "id": "5395d9f7",
   "metadata": {},
   "source": [
    "Hay algunas estrategias extra para manipular arrays, como por ejemplo **cambiar su forma**.\n",
    "\n",
    "Para hacer eso, primero voy a tomar el último array que hemos creado y lo voy a alamacenar en la variable `array_concatenado`:"
   ]
  },
  {
   "cell_type": "code",
   "execution_count": 6,
   "id": "a120accd",
   "metadata": {},
   "outputs": [
    {
     "data": {
      "text/plain": [
       "array([[1, 2],\n",
       "       [3, 4],\n",
       "       [5, 6],\n",
       "       [7, 8]])"
      ]
     },
     "execution_count": 6,
     "metadata": {},
     "output_type": "execute_result"
    }
   ],
   "source": [
    "array_concatenado = np.concatenate([a, b], axis=0)\n",
    "array_concatenado"
   ]
  },
  {
   "attachments": {},
   "cell_type": "markdown",
   "id": "b795927b",
   "metadata": {},
   "source": [
    "Si quiero conocer la **forma** de este array…"
   ]
  },
  {
   "cell_type": "code",
   "execution_count": 7,
   "id": "72663f50",
   "metadata": {},
   "outputs": [
    {
     "data": {
      "text/plain": [
       "(4, 2)"
      ]
     },
     "execution_count": 7,
     "metadata": {},
     "output_type": "execute_result"
    }
   ],
   "source": [
    "array_concatenado.shape"
   ]
  },
  {
   "attachments": {},
   "cell_type": "markdown",
   "id": "2d3f53ec",
   "metadata": {},
   "source": [
    "… veo que es de **4 por 2**, porque tiene **cuatro filas** y **dos columnas**.\n",
    "\n",
    "Pero voy a **cambiar su forma**, pidiéndole que se reorganice para ser un array de **2 filas** por **4 columnas**, usando el método `reshape()`:"
   ]
  },
  {
   "cell_type": "code",
   "execution_count": 8,
   "id": "8f80b4a8",
   "metadata": {},
   "outputs": [
    {
     "data": {
      "text/plain": [
       "array([[1, 2, 3, 4],\n",
       "       [5, 6, 7, 8]])"
      ]
     },
     "execution_count": 8,
     "metadata": {},
     "output_type": "execute_result"
    }
   ],
   "source": [
    "array_reformado = array_concatenado.reshape(2, 4)\n",
    "array_reformado"
   ]
  },
  {
   "attachments": {},
   "cell_type": "markdown",
   "id": "b832f04a",
   "metadata": {},
   "source": [
    "También puedo hacer cosas como **sumar arrays**:"
   ]
  },
  {
   "cell_type": "code",
   "execution_count": 9,
   "id": "82bebad4",
   "metadata": {},
   "outputs": [
    {
     "data": {
      "text/plain": [
       "array([[ 2,  4,  6,  8],\n",
       "       [10, 12, 14, 16]])"
      ]
     },
     "execution_count": 9,
     "metadata": {},
     "output_type": "execute_result"
    }
   ],
   "source": [
    "array_sumado = array_reformado + array_reformado\n",
    "array_sumado"
   ]
  },
  {
   "attachments": {},
   "cell_type": "markdown",
   "id": "005e17bc",
   "metadata": {},
   "source": [
    "O multiplicarlos:"
   ]
  },
  {
   "cell_type": "code",
   "execution_count": 10,
   "id": "e06093d7",
   "metadata": {},
   "outputs": [
    {
     "data": {
      "text/plain": [
       "array([[ 1,  4,  9, 16],\n",
       "       [25, 36, 49, 64]])"
      ]
     },
     "execution_count": 10,
     "metadata": {},
     "output_type": "execute_result"
    }
   ],
   "source": [
    "array_multi = array_reformado * array_reformado\n",
    "array_multi"
   ]
  },
  {
   "attachments": {},
   "cell_type": "markdown",
   "id": "85095320",
   "metadata": {},
   "source": [
    "Básicamente puedes usar todos los operadores matemáticos que conocemos para hacer cálculos con arrays (ya sean uni o bidimensionales).\n",
    "\n",
    "Un detalle específico en NumPy que me gustaría mostrarte es cómo hacemos en este caso el cálculo de la **raíz cuadrada**, ya que es con un método especial de NumPy que se llama `sqrt()`, que significa **square root** (o *raíz cuadrada*), y que se aplica así:"
   ]
  },
  {
   "cell_type": "code",
   "execution_count": 11,
   "id": "75606886",
   "metadata": {},
   "outputs": [
    {
     "data": {
      "text/plain": [
       "array([[1., 2., 3., 4.],\n",
       "       [5., 6., 7., 8.]])"
      ]
     },
     "execution_count": 11,
     "metadata": {},
     "output_type": "execute_result"
    }
   ],
   "source": [
    "raices = np.sqrt(array_multi)\n",
    "raices"
   ]
  },
  {
   "attachments": {},
   "cell_type": "markdown",
   "id": "ff6bf56b",
   "metadata": {},
   "source": [
    "Esto es lo básico sobre arrays, hay mucho más para aprender (sobre arrays en particular y NumPy en general), así que es hora de avanzar."
   ]
  },
  {
   "cell_type": "markdown",
   "id": "bbc85be9-d252-4f8a-8eb5-d508da9d9827",
   "metadata": {},
   "source": [
    "Manipulación de Arrays en NumPy 1\n",
    "Crea dos arrays unidimensionales, array1 y array2, donde array1 contiene los números del 1 al 5 y array2 contiene los números del 6 al 10. Utiliza la función de numpy adecuada para concatenar array1 y array2 en un nuevo array llamado array_concatenado."
   ]
  },
  {
   "cell_type": "code",
   "execution_count": 13,
   "id": "bfe323ab-9462-4752-bd20-e527e1084840",
   "metadata": {},
   "outputs": [
    {
     "data": {
      "text/plain": [
       "array([ 1,  2,  3,  4,  5,  6,  7,  8,  9, 10])"
      ]
     },
     "execution_count": 13,
     "metadata": {},
     "output_type": "execute_result"
    }
   ],
   "source": [
    "array1 = [1,2,3,4,5]\n",
    "array2 = [6,7,8,9,10]\n",
    "\n",
    "array_concatenado = np.concatenate([array1, array2])\n",
    "array_concatenado"
   ]
  },
  {
   "cell_type": "markdown",
   "id": "fd524136-9f8e-4e28-aa2b-47dcccc99e4e",
   "metadata": {},
   "source": [
    "Manipulación de Arrays en NumPy 2\n",
    "Crea un array unidimensional array_original con los números del 1 al 6, utiliza el método correcto para transformarlo en un array bidimensional de 2 filas y 3 columnas. Almacena el resultado en una variable llamada array_reshaped"
   ]
  },
  {
   "cell_type": "code",
   "execution_count": 16,
   "id": "89634881-8e02-404a-ad79-693ee209a195",
   "metadata": {},
   "outputs": [
    {
     "data": {
      "text/plain": [
       "array([[1, 2, 3],\n",
       "       [4, 5, 6]])"
      ]
     },
     "execution_count": 16,
     "metadata": {},
     "output_type": "execute_result"
    }
   ],
   "source": [
    "array_original = np.array([1,2,3,4,5, 6])\n",
    "\n",
    "array_reshaped = array_original.reshape(2, 3)\n",
    "array_reshaped"
   ]
  },
  {
   "cell_type": "markdown",
   "id": "c31990d1-39fc-4e6c-b0c9-9bdfab941f95",
   "metadata": {},
   "source": [
    "Manipulación de Arrays en NumPy 3\n",
    "Crea un array bidimensional A de forma 2x2 que contenga los números del 1 al 4.\n",
    "\n",
    "Crea otro array bidimensional B de la misma forma que contenga los números del 5 al 8.\n",
    "\n",
    "Realiza las siguientes operaciones e imprime los resultados:\n",
    "\n",
    "\n",
    "\n",
    "La suma de A y B. Almacena el resultado en una variable llamada suma_AB\n",
    "\n",
    "El producto elemento a elemento de A y B. Almacena el resultado en una variable llamada productoAB"
   ]
  },
  {
   "cell_type": "code",
   "execution_count": 19,
   "id": "8e4c4b82-081d-4ef2-880c-754f95c860a6",
   "metadata": {},
   "outputs": [
    {
     "ename": "TypeError",
     "evalue": "can't multiply sequence by non-int of type 'list'",
     "output_type": "error",
     "traceback": [
      "\u001b[1;31m---------------------------------------------------------------------------\u001b[0m",
      "\u001b[1;31mTypeError\u001b[0m                                 Traceback (most recent call last)",
      "Cell \u001b[1;32mIn[19], line 11\u001b[0m\n\u001b[0;32m      8\u001b[0m suma_AB \u001b[38;5;241m=\u001b[39m A \u001b[38;5;241m+\u001b[39m B \n\u001b[0;32m      9\u001b[0m suma_AB\n\u001b[1;32m---> 11\u001b[0m productoAB \u001b[38;5;241m=\u001b[39m A \u001b[38;5;241m*\u001b[39m B\n\u001b[0;32m     12\u001b[0m productoAB\n",
      "\u001b[1;31mTypeError\u001b[0m: can't multiply sequence by non-int of type 'list'"
     ]
    }
   ],
   "source": [
    "A = [[1, 2],\n",
    "    [3, 4]]\n",
    "    \n",
    "    \n",
    "B = [[5, 6],\n",
    "    [7, 8]]\n",
    "\n",
    "suma_AB = A + B \n",
    "suma_AB\n",
    "\n",
    "productoAB = A * B\n",
    "productoAB"
   ]
  },
  {
   "cell_type": "code",
   "execution_count": null,
   "id": "8930a339-a68c-4873-954c-5f7b5bb0538c",
   "metadata": {},
   "outputs": [],
   "source": []
  }
 ],
 "metadata": {
  "kernelspec": {
   "display_name": "Python 3 (ipykernel)",
   "language": "python",
   "name": "python3"
  },
  "language_info": {
   "codemirror_mode": {
    "name": "ipython",
    "version": 3
   },
   "file_extension": ".py",
   "mimetype": "text/x-python",
   "name": "python",
   "nbconvert_exporter": "python",
   "pygments_lexer": "ipython3",
   "version": "3.12.7"
  }
 },
 "nbformat": 4,
 "nbformat_minor": 5
}
