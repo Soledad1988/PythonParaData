{
 "cells": [
  {
   "cell_type": "code",
   "execution_count": 1,
   "id": "956bcd09-d4f3-4b0d-ad31-eef83d4d671f",
   "metadata": {},
   "outputs": [],
   "source": [
    "import pandas as pd"
   ]
  },
  {
   "cell_type": "code",
   "execution_count": 9,
   "id": "74776e5d-dad3-4593-89e3-ef31a64fc453",
   "metadata": {},
   "outputs": [],
   "source": [
    "ruta_excel = \"C:/Users/brent/OneDrive/Escritorio/Python para Data Science & Machine Learning/Día7/Compras_desde_ads.xlsx\"\n",
    "ruta_xml = \"C:/Users/brent/OneDrive/Escritorio/Python para Data Science & Machine Learning/Día7/Valores+de+acciones.xml\""
   ]
  },
  {
   "cell_type": "code",
   "execution_count": 11,
   "id": "79a76132-6a1e-4994-926b-83d48d806c60",
   "metadata": {},
   "outputs": [
    {
     "data": {
      "text/html": [
       "<div>\n",
       "<style scoped>\n",
       "    .dataframe tbody tr th:only-of-type {\n",
       "        vertical-align: middle;\n",
       "    }\n",
       "\n",
       "    .dataframe tbody tr th {\n",
       "        vertical-align: top;\n",
       "    }\n",
       "\n",
       "    .dataframe thead th {\n",
       "        text-align: right;\n",
       "    }\n",
       "</style>\n",
       "<table border=\"1\" class=\"dataframe\">\n",
       "  <thead>\n",
       "    <tr style=\"text-align: right;\">\n",
       "      <th></th>\n",
       "      <th>Id_usuario</th>\n",
       "      <th>Genero</th>\n",
       "      <th>Edad</th>\n",
       "      <th>Salario_estimado</th>\n",
       "      <th>Comprado</th>\n",
       "    </tr>\n",
       "  </thead>\n",
       "  <tbody>\n",
       "    <tr>\n",
       "      <th>0</th>\n",
       "      <td>15624510</td>\n",
       "      <td>Masculino</td>\n",
       "      <td>19</td>\n",
       "      <td>19000</td>\n",
       "      <td>0</td>\n",
       "    </tr>\n",
       "    <tr>\n",
       "      <th>1</th>\n",
       "      <td>15810944</td>\n",
       "      <td>Masculino</td>\n",
       "      <td>35</td>\n",
       "      <td>20000</td>\n",
       "      <td>0</td>\n",
       "    </tr>\n",
       "    <tr>\n",
       "      <th>2</th>\n",
       "      <td>15668575</td>\n",
       "      <td>Femenino</td>\n",
       "      <td>26</td>\n",
       "      <td>43000</td>\n",
       "      <td>0</td>\n",
       "    </tr>\n",
       "    <tr>\n",
       "      <th>3</th>\n",
       "      <td>15603246</td>\n",
       "      <td>Femenino</td>\n",
       "      <td>27</td>\n",
       "      <td>57000</td>\n",
       "      <td>0</td>\n",
       "    </tr>\n",
       "    <tr>\n",
       "      <th>4</th>\n",
       "      <td>15804002</td>\n",
       "      <td>Masculino</td>\n",
       "      <td>19</td>\n",
       "      <td>76000</td>\n",
       "      <td>0</td>\n",
       "    </tr>\n",
       "  </tbody>\n",
       "</table>\n",
       "</div>"
      ],
      "text/plain": [
       "   Id_usuario     Genero  Edad  Salario_estimado  Comprado\n",
       "0    15624510  Masculino    19             19000         0\n",
       "1    15810944  Masculino    35             20000         0\n",
       "2    15668575   Femenino    26             43000         0\n",
       "3    15603246   Femenino    27             57000         0\n",
       "4    15804002  Masculino    19             76000         0"
      ]
     },
     "execution_count": 11,
     "metadata": {},
     "output_type": "execute_result"
    }
   ],
   "source": [
    "df1 = pd.read_excel(ruta_excel)\n",
    "df1.head()"
   ]
  },
  {
   "cell_type": "code",
   "execution_count": 13,
   "id": "65243f81-1c86-41ef-a591-9ecb8a565381",
   "metadata": {},
   "outputs": [
    {
     "data": {
      "text/html": [
       "<div>\n",
       "<style scoped>\n",
       "    .dataframe tbody tr th:only-of-type {\n",
       "        vertical-align: middle;\n",
       "    }\n",
       "\n",
       "    .dataframe tbody tr th {\n",
       "        vertical-align: top;\n",
       "    }\n",
       "\n",
       "    .dataframe thead th {\n",
       "        text-align: right;\n",
       "    }\n",
       "</style>\n",
       "<table border=\"1\" class=\"dataframe\">\n",
       "  <thead>\n",
       "    <tr style=\"text-align: right;\">\n",
       "      <th></th>\n",
       "      <th>date</th>\n",
       "      <th>closingValue</th>\n",
       "    </tr>\n",
       "  </thead>\n",
       "  <tbody>\n",
       "    <tr>\n",
       "      <th>0</th>\n",
       "      <td>01-05-2023</td>\n",
       "      <td>25,05</td>\n",
       "    </tr>\n",
       "    <tr>\n",
       "      <th>1</th>\n",
       "      <td>02-05-2023</td>\n",
       "      <td>24,45</td>\n",
       "    </tr>\n",
       "    <tr>\n",
       "      <th>2</th>\n",
       "      <td>03-05-2023</td>\n",
       "      <td>24,45</td>\n",
       "    </tr>\n",
       "    <tr>\n",
       "      <th>3</th>\n",
       "      <td>04-05-2023</td>\n",
       "      <td>23,98</td>\n",
       "    </tr>\n",
       "    <tr>\n",
       "      <th>4</th>\n",
       "      <td>05-05-2023</td>\n",
       "      <td>24,56</td>\n",
       "    </tr>\n",
       "  </tbody>\n",
       "</table>\n",
       "</div>"
      ],
      "text/plain": [
       "         date closingValue\n",
       "0  01-05-2023        25,05\n",
       "1  02-05-2023        24,45\n",
       "2  03-05-2023        24,45\n",
       "3  04-05-2023        23,98\n",
       "4  05-05-2023        24,56"
      ]
     },
     "execution_count": 13,
     "metadata": {},
     "output_type": "execute_result"
    }
   ],
   "source": [
    "df2 = pd.read_xml(ruta_xml)\n",
    "df2.head(5)"
   ]
  },
  {
   "cell_type": "code",
   "execution_count": 15,
   "id": "25ac9c3a-bd08-4bbf-b935-a90555cef4be",
   "metadata": {},
   "outputs": [],
   "source": [
    "numeros = {\n",
    "    'romanos': ['I', 'II', 'III', 'IV'],\n",
    "    'arabigos': [1, 2, 3, 4],\n",
    "    'texto': ['uno', 'dos', 'tres', 'cuatro']\n",
    "}"
   ]
  },
  {
   "cell_type": "code",
   "execution_count": 17,
   "id": "3ed14cc4-f71a-41d2-9048-e1aa47bd48c5",
   "metadata": {},
   "outputs": [
    {
     "data": {
      "text/html": [
       "<div>\n",
       "<style scoped>\n",
       "    .dataframe tbody tr th:only-of-type {\n",
       "        vertical-align: middle;\n",
       "    }\n",
       "\n",
       "    .dataframe tbody tr th {\n",
       "        vertical-align: top;\n",
       "    }\n",
       "\n",
       "    .dataframe thead th {\n",
       "        text-align: right;\n",
       "    }\n",
       "</style>\n",
       "<table border=\"1\" class=\"dataframe\">\n",
       "  <thead>\n",
       "    <tr style=\"text-align: right;\">\n",
       "      <th></th>\n",
       "      <th>romanos</th>\n",
       "      <th>arabigos</th>\n",
       "      <th>texto</th>\n",
       "    </tr>\n",
       "  </thead>\n",
       "  <tbody>\n",
       "    <tr>\n",
       "      <th>0</th>\n",
       "      <td>I</td>\n",
       "      <td>1</td>\n",
       "      <td>uno</td>\n",
       "    </tr>\n",
       "    <tr>\n",
       "      <th>1</th>\n",
       "      <td>II</td>\n",
       "      <td>2</td>\n",
       "      <td>dos</td>\n",
       "    </tr>\n",
       "    <tr>\n",
       "      <th>2</th>\n",
       "      <td>III</td>\n",
       "      <td>3</td>\n",
       "      <td>tres</td>\n",
       "    </tr>\n",
       "    <tr>\n",
       "      <th>3</th>\n",
       "      <td>IV</td>\n",
       "      <td>4</td>\n",
       "      <td>cuatro</td>\n",
       "    </tr>\n",
       "  </tbody>\n",
       "</table>\n",
       "</div>"
      ],
      "text/plain": [
       "  romanos  arabigos   texto\n",
       "0       I         1     uno\n",
       "1      II         2     dos\n",
       "2     III         3    tres\n",
       "3      IV         4  cuatro"
      ]
     },
     "execution_count": 17,
     "metadata": {},
     "output_type": "execute_result"
    }
   ],
   "source": [
    "df = pd.DataFrame(numeros)\n",
    "df"
   ]
  },
  {
   "cell_type": "code",
   "execution_count": 19,
   "id": "0627e086-29a0-4fd4-b9ef-e0619f801c82",
   "metadata": {},
   "outputs": [
    {
     "data": {
      "text/html": [
       "<div>\n",
       "<style scoped>\n",
       "    .dataframe tbody tr th:only-of-type {\n",
       "        vertical-align: middle;\n",
       "    }\n",
       "\n",
       "    .dataframe tbody tr th {\n",
       "        vertical-align: top;\n",
       "    }\n",
       "\n",
       "    .dataframe thead th {\n",
       "        text-align: right;\n",
       "    }\n",
       "</style>\n",
       "<table border=\"1\" class=\"dataframe\">\n",
       "  <thead>\n",
       "    <tr style=\"text-align: right;\">\n",
       "      <th></th>\n",
       "      <th>romanos</th>\n",
       "      <th>arabigos</th>\n",
       "      <th>texto</th>\n",
       "      <th>Fechas</th>\n",
       "    </tr>\n",
       "  </thead>\n",
       "  <tbody>\n",
       "    <tr>\n",
       "      <th>0</th>\n",
       "      <td>I</td>\n",
       "      <td>1</td>\n",
       "      <td>uno</td>\n",
       "      <td>2024-01-01</td>\n",
       "    </tr>\n",
       "    <tr>\n",
       "      <th>1</th>\n",
       "      <td>II</td>\n",
       "      <td>2</td>\n",
       "      <td>dos</td>\n",
       "      <td>2024-01-02</td>\n",
       "    </tr>\n",
       "    <tr>\n",
       "      <th>2</th>\n",
       "      <td>III</td>\n",
       "      <td>3</td>\n",
       "      <td>tres</td>\n",
       "      <td>2024-01-03</td>\n",
       "    </tr>\n",
       "    <tr>\n",
       "      <th>3</th>\n",
       "      <td>IV</td>\n",
       "      <td>4</td>\n",
       "      <td>cuatro</td>\n",
       "      <td>2024-01-04</td>\n",
       "    </tr>\n",
       "  </tbody>\n",
       "</table>\n",
       "</div>"
      ],
      "text/plain": [
       "  romanos  arabigos   texto     Fechas\n",
       "0       I         1     uno 2024-01-01\n",
       "1      II         2     dos 2024-01-02\n",
       "2     III         3    tres 2024-01-03\n",
       "3      IV         4  cuatro 2024-01-04"
      ]
     },
     "execution_count": 19,
     "metadata": {},
     "output_type": "execute_result"
    }
   ],
   "source": [
    "df['Fechas'] = pd.Series(pd.date_range('20240101', periods=4))\n",
    "df"
   ]
  },
  {
   "cell_type": "code",
   "execution_count": 23,
   "id": "b2a45ce5-af3f-4ef1-a9f1-30d0f2fa1d9a",
   "metadata": {},
   "outputs": [],
   "source": [
    "#Ruta donde queremos que se cree el archivo excel\n",
    "df.to_excel('C:/Users/brent/OneDrive/Escritorio/Python para Data Science & Machine Learning/Día7/numeros2.xlsx', index=False)"
   ]
  },
  {
   "cell_type": "code",
   "execution_count": 25,
   "id": "c80f6cee-b1d8-44d5-97e7-525076c96efe",
   "metadata": {},
   "outputs": [],
   "source": [
    "df.to_csv('C:/Users/brent/OneDrive/Escritorio/Python para Data Science & Machine Learning/Día7/numeros3.csv', index=False)"
   ]
  },
  {
   "cell_type": "code",
   "execution_count": 31,
   "id": "34561383-f384-438c-9ed4-3e521afde6fa",
   "metadata": {},
   "outputs": [],
   "source": [
    "#Abrir y Escribir Archivos desde Pandas 1\n",
    "#Dado el siguiente diccionario que contiene datos de ventas diarias de una tienda:\n",
    "\n",
    "data = {\n",
    "    'Fecha': ['2024-03-19', '2024-03-20', '2024-03-21', '2024-03-22', '2024-03-23', '2024-03-24'],\n",
    "    'Producto': ['Manzanas', 'Peras', 'Naranjas', 'Plátanos', 'Uvas', 'Melocotones'],\n",
    "    'Cantidad': [23, 15, 18, 30, 8, 20],\n",
    "    'Precio': [1.2, 1.5, 1.0, 0.8, 2.0, 1.7]\n",
    "}"
   ]
  },
  {
   "cell_type": "code",
   "execution_count": 35,
   "id": "33279c05-aa09-487a-96cc-92ef5f581d56",
   "metadata": {},
   "outputs": [],
   "source": [
    "#Realiza los siguientes pasos:\n",
    "#Crea un DataFrame nombrado df_ventas  donde almacenes la información antes proporcionada.\n",
    "\n",
    "df_ventas = pd.DataFrame(data)"
   ]
  },
  {
   "cell_type": "code",
   "execution_count": 43,
   "id": "0ba87473-8e55-4021-ba04-3beb5e7e5600",
   "metadata": {},
   "outputs": [],
   "source": [
    "#Crea una función llamada guardar_en_excel()    que guarde este DataFrame en un archivo llamado  ventas1.xlsx en la ruta siguiente: '/mnt/data/' \n",
    "# Definir la función\n",
    "def guardar_en_excel(df):\n",
    "    df.to_excel('C:/Users/brent/OneDrive/Escritorio/Python para Data Science & Machine Learning/Día7/mnt/data/ventas1.xlsx', index=False)"
   ]
  },
  {
   "cell_type": "code",
   "execution_count": 59,
   "id": "1306e99c-3b3f-49b6-90a5-be27b79903eb",
   "metadata": {},
   "outputs": [],
   "source": [
    "#Asegúrate de no incluir el índice del DataFrame en el archivo Excel.\n",
    "# Llamar la función para guardar el archivo\n",
    " \n",
    "def guardar_en_excel():\n",
    "    df_ventas.to_excel('/mnt/data/ventas1.xlsx', index=False)"
   ]
  },
  {
   "cell_type": "code",
   "execution_count": 47,
   "id": "2cf988fb-56ef-43fc-b31c-d031ac9563fa",
   "metadata": {},
   "outputs": [],
   "source": [
    "#Abrir y Escribir Archivos desde Pandas 2\n",
    "data = {\n",
    "    'Fecha': ['2024-03-19', '2024-03-20', '2024-03-21', '2024-03-22', '2024-03-23', '2024-03-24'],\n",
    "    'Producto': ['Manzanas', 'Peras', 'Naranjas', 'Plátanos', 'Uvas', 'Melocotones'],\n",
    "    'Cantidad': [23, 15, 18, 30, 8, 20],\n",
    "    'Precio': [1.2, 1.5, 1.0, 0.8, 2.0, 1.7]\n",
    "}"
   ]
  },
  {
   "cell_type": "code",
   "execution_count": 49,
   "id": "5bf7dc8c-e100-4b50-b806-dc1ea88ede4b",
   "metadata": {},
   "outputs": [],
   "source": [
    "#Realiza los siguientes pasos:\n",
    "#Crea un DataFrame nombrado df_ventas donde almacenes la información antes proporcionada.\n",
    "#Convierte la columna Fecha al formato datetime de Pandas con el siguiente formato dia/mes/año.\n",
    "#Crea una funcion llamada guardar_en_excel() que guarde este DataFrame en un archivo llamado 'ventas2.xlsx' en la ruta siguiente: '/mnt/data/'\n",
    "#Asegúrate de no incluir el índice del DataFrame en el archivo Excel."
   ]
  },
  {
   "cell_type": "code",
   "execution_count": null,
   "id": "a4e7b548-34a3-4656-98e3-90ee07154845",
   "metadata": {},
   "outputs": [],
   "source": []
  },
  {
   "cell_type": "code",
   "execution_count": 53,
   "id": "b3fb5f5d-5c42-4a38-bc36-6551cc253ed8",
   "metadata": {},
   "outputs": [],
   "source": [
    "#Abrir y Escribir Archivos desde Pandas 3\n",
    "#Tu tarea consiste en realizar las siguientes acciones:\n",
    "#Creación de DataFrame: Genera un DataFrame denominado df_ventas utilizando la información provista en el diccionario data.\n",
    "#Cálculo de Precio Total: Añade al DataFrame df_ventas una nueva columna llamada Precio Total. Esta columna debe contener el precio total de cada venta, calculado como el producto de la cantidad vendida por el precio unitario de cada producto.\n",
    "#Guardado de Datos en CSV: Desarrolla una función titulada guardar_en_csv() que exporte el DataFrame df_ventas a un archivo CSV. Nombra el archivo como ventas3.csv y guárdalo en la ruta /mnt/data/. Asegúrate de que el archivo CSV generado no incluya el índice del DataFrame."
   ]
  },
  {
   "cell_type": "code",
   "execution_count": 57,
   "id": "99416c89-4fb0-4715-83e9-529d45979d7d",
   "metadata": {},
   "outputs": [],
   "source": []
  },
  {
   "cell_type": "code",
   "execution_count": 55,
   "id": "2583e88e-72a7-4395-bb20-93948b62f5a8",
   "metadata": {},
   "outputs": [],
   "source": [
    "df_ventas = pd.DataFrame(data)\n",
    " \n",
    "# Crear la columna 'Precio Total'\n",
    "df_ventas['Precio Total'] = df_ventas['Cantidad'] * df_ventas['Precio']\n",
    " \n",
    "# Función para guardar el DataFrame en un archivo CSV\n",
    "def guardar_en_csv():\n",
    "    df_ventas.to_csv('/mnt/data/ventas3.csv', index=False)"
   ]
  },
  {
   "cell_type": "code",
   "execution_count": null,
   "id": "7b8f3ad0-af1f-47b0-8b8e-9ab0d98e5c3a",
   "metadata": {},
   "outputs": [],
   "source": []
  },
  {
   "cell_type": "code",
   "execution_count": null,
   "id": "ea38880e-ab2e-40e4-b3c2-ac45f5624823",
   "metadata": {},
   "outputs": [],
   "source": []
  }
 ],
 "metadata": {
  "kernelspec": {
   "display_name": "Python 3 (ipykernel)",
   "language": "python",
   "name": "python3"
  },
  "language_info": {
   "codemirror_mode": {
    "name": "ipython",
    "version": 3
   },
   "file_extension": ".py",
   "mimetype": "text/x-python",
   "name": "python",
   "nbconvert_exporter": "python",
   "pygments_lexer": "ipython3",
   "version": "3.12.7"
  }
 },
 "nbformat": 4,
 "nbformat_minor": 5
}
