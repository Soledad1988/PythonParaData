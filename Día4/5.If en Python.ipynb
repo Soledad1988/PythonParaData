{
 "cells": [
  {
   "cell_type": "code",
   "execution_count": 1,
   "id": "20ebeccc-e2ba-48b5-a8fd-339a105c8328",
   "metadata": {},
   "outputs": [
    {
     "name": "stdout",
     "output_type": "stream",
     "text": [
      "Hace calor\n"
     ]
    }
   ],
   "source": [
    "#Las estructuras de cntrol verifican si se cumple una condicion o no\n",
    "temperatura = 22\n",
    "\n",
    "if temperatura > 20:\n",
    "    print(\"Hace calor\")"
   ]
  },
  {
   "cell_type": "code",
   "execution_count": 3,
   "id": "253ab648-f078-4522-ae2b-474bdf3245f9",
   "metadata": {},
   "outputs": [],
   "source": [
    "temperatura = 15\n",
    "\n",
    "if temperatura > 20:\n",
    "    print(\"Hace calor\")"
   ]
  },
  {
   "cell_type": "code",
   "execution_count": 5,
   "id": "da2b4461-7cb7-45d2-ae02-a164f9af6a00",
   "metadata": {},
   "outputs": [
    {
     "name": "stdin",
     "output_type": "stream",
     "text": [
      "Dime la temperatura: 25\n"
     ]
    },
    {
     "name": "stdout",
     "output_type": "stream",
     "text": [
      "Hace calor\n"
     ]
    }
   ],
   "source": [
    "temperatura = int(input(\"Dime la temperatura:\"))\n",
    "\n",
    "if temperatura > 20:\n",
    "    print(\"Hace calor\")"
   ]
  },
  {
   "cell_type": "code",
   "execution_count": 11,
   "id": "b1d7e35b-9380-4ea3-83bf-6c45121fd02e",
   "metadata": {},
   "outputs": [
    {
     "name": "stdin",
     "output_type": "stream",
     "text": [
      "Dime la temperatura: 20\n"
     ]
    },
    {
     "name": "stdout",
     "output_type": "stream",
     "text": [
      "El clima es agradable\n"
     ]
    }
   ],
   "source": [
    "# Evaluar condiciones compuetas\n",
    "temperatura = int(input(\"Dime la temperatura:\"))\n",
    "\n",
    "if temperatura > 16 and temperatura < 22:\n",
    "    print(\"El clima es agradable\")"
   ]
  },
  {
   "cell_type": "code",
   "execution_count": 15,
   "id": "ce50f4aa-fffd-4a08-9e94-fb3b358808d1",
   "metadata": {},
   "outputs": [
    {
     "name": "stdin",
     "output_type": "stream",
     "text": [
      "Dime un nombre: Juan\n"
     ]
    },
    {
     "name": "stdout",
     "output_type": "stream",
     "text": [
      "Juan está en mi grupo de amigos\n"
     ]
    }
   ],
   "source": [
    "# Verifica si un elemento se encuentra incluido dentro de una coleccion IN (en)\n",
    "amigos = [\"Juan\", \"Ana\", \"Laura\"]\n",
    "\n",
    "nombre = input(\"Dime un nombre:\")\n",
    "\n",
    "if nombre in amigos:\n",
    "    print(f\"{nombre} está en mi grupo de amigos\")"
   ]
  },
  {
   "cell_type": "code",
   "execution_count": 23,
   "id": "7abbf85d-035f-4461-9c11-08ba5ed41e42",
   "metadata": {},
   "outputs": [
    {
     "name": "stdout",
     "output_type": "stream",
     "text": [
      "Hace calor\n"
     ]
    }
   ],
   "source": [
    "temperatura = True\n",
    "\n",
    "if temperatura:\n",
    "    print(\"Hace calor\")"
   ]
  },
  {
   "cell_type": "code",
   "execution_count": 19,
   "id": "c42599e7-42b8-4091-83ce-9086a0231880",
   "metadata": {},
   "outputs": [
    {
     "name": "stdout",
     "output_type": "stream",
     "text": [
      "Esta linea está dentro del if\n",
      "Esta linea también está dentro del if\n",
      "Esta linea está fuera del if y se va a imprimir siempre\n"
     ]
    }
   ],
   "source": [
    "if 10 > 5:\n",
    "    print(\"Esta linea está dentro del if\")\n",
    "    print(\"Esta linea también está dentro del if\")\n",
    "print(\"Esta linea está fuera del if y se va a imprimir siempre\")"
   ]
  },
  {
   "cell_type": "code",
   "execution_count": 21,
   "id": "10074e51-b73e-4454-a5a6-02f889cd03ea",
   "metadata": {},
   "outputs": [
    {
     "name": "stdout",
     "output_type": "stream",
     "text": [
      "Esta linea está fuera del if y se va a imprimir siempre\n"
     ]
    }
   ],
   "source": [
    "if 10 > 20:\n",
    "    print(\"Esta linea está dentro del if\")\n",
    "    print(\"Esta linea también está dentro del if\")\n",
    "print(\"Esta linea está fuera del if y se va a imprimir siempre\")"
   ]
  },
  {
   "cell_type": "code",
   "execution_count": null,
   "id": "a066eda8-1e38-49c1-850b-04b49d680657",
   "metadata": {},
   "outputs": [],
   "source": []
  }
 ],
 "metadata": {
  "kernelspec": {
   "display_name": "Python 3 (ipykernel)",
   "language": "python",
   "name": "python3"
  },
  "language_info": {
   "codemirror_mode": {
    "name": "ipython",
    "version": 3
   },
   "file_extension": ".py",
   "mimetype": "text/x-python",
   "name": "python",
   "nbconvert_exporter": "python",
   "pygments_lexer": "ipython3",
   "version": "3.12.7"
  }
 },
 "nbformat": 4,
 "nbformat_minor": 5
}
