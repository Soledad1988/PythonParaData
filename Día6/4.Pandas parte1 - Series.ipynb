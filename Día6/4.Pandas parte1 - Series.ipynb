{
 "cells": [
  {
   "cell_type": "code",
   "execution_count": 1,
   "id": "f28413e7-70ba-4893-845f-c7c0b814e1f9",
   "metadata": {},
   "outputs": [],
   "source": [
    "import pandas as pd"
   ]
  },
  {
   "cell_type": "code",
   "execution_count": 3,
   "id": "c02256b9-ffe9-41b1-ba3a-e4b5c126b9d9",
   "metadata": {},
   "outputs": [
    {
     "data": {
      "text/html": [
       "<div>\n",
       "<style scoped>\n",
       "    .dataframe tbody tr th:only-of-type {\n",
       "        vertical-align: middle;\n",
       "    }\n",
       "\n",
       "    .dataframe tbody tr th {\n",
       "        vertical-align: top;\n",
       "    }\n",
       "\n",
       "    .dataframe thead th {\n",
       "        text-align: right;\n",
       "    }\n",
       "</style>\n",
       "<table border=\"1\" class=\"dataframe\">\n",
       "  <thead>\n",
       "    <tr style=\"text-align: right;\">\n",
       "      <th></th>\n",
       "      <th>region</th>\n",
       "      <th>enero</th>\n",
       "      <th>febrero</th>\n",
       "      <th>marzo</th>\n",
       "      <th>abril</th>\n",
       "      <th>mayo</th>\n",
       "      <th>junio</th>\n",
       "      <th>julio</th>\n",
       "      <th>agosto</th>\n",
       "      <th>septiembre</th>\n",
       "      <th>octubre</th>\n",
       "      <th>noviembre</th>\n",
       "      <th>diciembre</th>\n",
       "      <th>anual</th>\n",
       "    </tr>\n",
       "  </thead>\n",
       "  <tbody>\n",
       "    <tr>\n",
       "      <th>0</th>\n",
       "      <td>A CORUNA</td>\n",
       "      <td>240.5</td>\n",
       "      <td>293.4</td>\n",
       "      <td>31.0</td>\n",
       "      <td>80.6</td>\n",
       "      <td>149.5</td>\n",
       "      <td>108.9</td>\n",
       "      <td>44.6</td>\n",
       "      <td>21.8</td>\n",
       "      <td>96.5</td>\n",
       "      <td>154.5</td>\n",
       "      <td>100.8</td>\n",
       "      <td>214.8</td>\n",
       "      <td>1536.9</td>\n",
       "    </tr>\n",
       "    <tr>\n",
       "      <th>1</th>\n",
       "      <td>ALBACETE</td>\n",
       "      <td>68.1</td>\n",
       "      <td>28.0</td>\n",
       "      <td>26.2</td>\n",
       "      <td>65.3</td>\n",
       "      <td>25.4</td>\n",
       "      <td>50.0</td>\n",
       "      <td>2.0</td>\n",
       "      <td>34.5</td>\n",
       "      <td>48.0</td>\n",
       "      <td>44.8</td>\n",
       "      <td>33.1</td>\n",
       "      <td>14.1</td>\n",
       "      <td>439.5</td>\n",
       "    </tr>\n",
       "    <tr>\n",
       "      <th>2</th>\n",
       "      <td>ALICANTE</td>\n",
       "      <td>49.2</td>\n",
       "      <td>3.7</td>\n",
       "      <td>63.2</td>\n",
       "      <td>85.8</td>\n",
       "      <td>57.2</td>\n",
       "      <td>20.0</td>\n",
       "      <td>9.2</td>\n",
       "      <td>5.0</td>\n",
       "      <td>44.0</td>\n",
       "      <td>41.1</td>\n",
       "      <td>47.4</td>\n",
       "      <td>1.8</td>\n",
       "      <td>427.6</td>\n",
       "    </tr>\n",
       "    <tr>\n",
       "      <th>3</th>\n",
       "      <td>ALMERIA</td>\n",
       "      <td>56.3</td>\n",
       "      <td>5.2</td>\n",
       "      <td>35.8</td>\n",
       "      <td>43.1</td>\n",
       "      <td>38.8</td>\n",
       "      <td>16.9</td>\n",
       "      <td>10.2</td>\n",
       "      <td>1.9</td>\n",
       "      <td>17.4</td>\n",
       "      <td>27.3</td>\n",
       "      <td>32.6</td>\n",
       "      <td>3.2</td>\n",
       "      <td>288.7</td>\n",
       "    </tr>\n",
       "    <tr>\n",
       "      <th>4</th>\n",
       "      <td>ARABA</td>\n",
       "      <td>96.8</td>\n",
       "      <td>79.9</td>\n",
       "      <td>38.0</td>\n",
       "      <td>52.0</td>\n",
       "      <td>37.7</td>\n",
       "      <td>107.8</td>\n",
       "      <td>8.5</td>\n",
       "      <td>17.7</td>\n",
       "      <td>63.3</td>\n",
       "      <td>38.5</td>\n",
       "      <td>212.2</td>\n",
       "      <td>197.3</td>\n",
       "      <td>949.7</td>\n",
       "    </tr>\n",
       "  </tbody>\n",
       "</table>\n",
       "</div>"
      ],
      "text/plain": [
       "     region  enero  febrero  marzo  abril   mayo  junio  julio  agosto  \\\n",
       "0  A CORUNA  240.5    293.4   31.0   80.6  149.5  108.9   44.6    21.8   \n",
       "1  ALBACETE   68.1     28.0   26.2   65.3   25.4   50.0    2.0    34.5   \n",
       "2  ALICANTE   49.2      3.7   63.2   85.8   57.2   20.0    9.2     5.0   \n",
       "3   ALMERIA   56.3      5.2   35.8   43.1   38.8   16.9   10.2     1.9   \n",
       "4     ARABA   96.8     79.9   38.0   52.0   37.7  107.8    8.5    17.7   \n",
       "\n",
       "   septiembre  octubre  noviembre  diciembre   anual  \n",
       "0        96.5    154.5      100.8      214.8  1536.9  \n",
       "1        48.0     44.8       33.1       14.1   439.5  \n",
       "2        44.0     41.1       47.4        1.8   427.6  \n",
       "3        17.4     27.3       32.6        3.2   288.7  \n",
       "4        63.3     38.5      212.2      197.3   949.7  "
      ]
     },
     "execution_count": 3,
     "metadata": {},
     "output_type": "execute_result"
    }
   ],
   "source": [
    "df = pd.read_csv(\"C:/Users/brent/OneDrive/Escritorio/Python para Data Science & Machine Learning/Día6/Precipitaciones.csv\")\n",
    "df.head()"
   ]
  },
  {
   "cell_type": "code",
   "execution_count": 9,
   "id": "2fdc55a0-4625-442a-9e5f-b84b90d0448f",
   "metadata": {},
   "outputs": [
    {
     "data": {
      "text/plain": [
       "0    A CORUNA\n",
       "1    ALBACETE\n",
       "2    ALICANTE\n",
       "3     ALMERIA\n",
       "4       ARABA\n",
       "Name: region, dtype: object"
      ]
     },
     "execution_count": 9,
     "metadata": {},
     "output_type": "execute_result"
    }
   ],
   "source": [
    "# tRabajamso con la serie Region, una serie es un arreglo unidimensional, capaz de almacenar cualquier tipo de datos\n",
    "serie = df[\"region\"]\n",
    "serie.head()"
   ]
  },
  {
   "cell_type": "code",
   "execution_count": 13,
   "id": "6aa784f6-9a4e-4d82-b50e-0d462c69b7fe",
   "metadata": {},
   "outputs": [
    {
     "data": {
      "text/plain": [
       "0    10\n",
       "1    20\n",
       "2    30\n",
       "3    40\n",
       "4    50\n",
       "dtype: int64"
      ]
     },
     "execution_count": 13,
     "metadata": {},
     "output_type": "execute_result"
    }
   ],
   "source": [
    "#Series es un método de pandas que transforma colleciones de informacion en series de pandas\n",
    "datos = [10, 20, 30, 40, 50]\n",
    "serie2 = pd.Series(datos)\n",
    "serie2"
   ]
  },
  {
   "cell_type": "code",
   "execution_count": 15,
   "id": "3bce4394-5ba8-481e-8c04-d1ab641d577a",
   "metadata": {},
   "outputs": [
    {
     "data": {
      "text/plain": [
       "a    10\n",
       "b    20\n",
       "c    30\n",
       "d    40\n",
       "e    50\n",
       "dtype: int64"
      ]
     },
     "execution_count": 15,
     "metadata": {},
     "output_type": "execute_result"
    }
   ],
   "source": [
    "# Cambiar los indices\n",
    "indices = [\"a\", \"b\", \"c\", \"d\", \"e\"]\n",
    "serie2 = pd.Series(datos,indices)\n",
    "serie2"
   ]
  },
  {
   "cell_type": "code",
   "execution_count": 17,
   "id": "bf853967-a67b-4335-905f-43850d90e19c",
   "metadata": {},
   "outputs": [
    {
     "data": {
      "text/plain": [
       "20"
      ]
     },
     "execution_count": 17,
     "metadata": {},
     "output_type": "execute_result"
    }
   ],
   "source": [
    "serie2[\"b\"]"
   ]
  },
  {
   "cell_type": "code",
   "execution_count": 19,
   "id": "a3759d3d-5108-4f01-bcdf-64aaaabd3506",
   "metadata": {},
   "outputs": [
    {
     "data": {
      "text/plain": [
       "pandas.core.series.Series"
      ]
     },
     "execution_count": 19,
     "metadata": {},
     "output_type": "execute_result"
    }
   ],
   "source": [
    "type(serie2)"
   ]
  },
  {
   "cell_type": "code",
   "execution_count": 21,
   "id": "307386a7-5dc4-4a44-99f6-e44e48290fe8",
   "metadata": {},
   "outputs": [
    {
     "data": {
      "text/plain": [
       "numpy.int64"
      ]
     },
     "execution_count": 21,
     "metadata": {},
     "output_type": "execute_result"
    }
   ],
   "source": [
    "type(serie2[\"b\"])"
   ]
  },
  {
   "cell_type": "code",
   "execution_count": 23,
   "id": "233d251b-9dec-4228-8e7d-7346eca2ed4c",
   "metadata": {},
   "outputs": [
    {
     "data": {
      "text/plain": [
       "España             Madrid\n",
       "Perú                 Lima\n",
       "Argentina    Buenos Aires\n",
       "dtype: object"
      ]
     },
     "execution_count": 23,
     "metadata": {},
     "output_type": "execute_result"
    }
   ],
   "source": [
    "capitales = {\"España\": \"Madrid\", \"Perú\": \"Lima\", \"Argentina\": \"Buenos Aires\"}\n",
    "serie3 = pd.Series(capitales)\n",
    "serie3"
   ]
  },
  {
   "cell_type": "code",
   "execution_count": null,
   "id": "c13057f9-2c02-4778-b38a-917ec000dad7",
   "metadata": {},
   "outputs": [],
   "source": [
    "serie3[\"Perú\"]"
   ]
  }
 ],
 "metadata": {
  "kernelspec": {
   "display_name": "Python 3 (ipykernel)",
   "language": "python",
   "name": "python3"
  },
  "language_info": {
   "codemirror_mode": {
    "name": "ipython",
    "version": 3
   },
   "file_extension": ".py",
   "mimetype": "text/x-python",
   "name": "python",
   "nbconvert_exporter": "python",
   "pygments_lexer": "ipython3",
   "version": "3.12.7"
  }
 },
 "nbformat": 4,
 "nbformat_minor": 5
}
